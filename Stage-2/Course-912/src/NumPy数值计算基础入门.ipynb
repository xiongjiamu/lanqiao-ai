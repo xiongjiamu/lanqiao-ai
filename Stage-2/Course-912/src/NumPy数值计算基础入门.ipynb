{
 "cells": [
  {
   "cell_type": "markdown",
   "id": "7fc5f3f2",
   "metadata": {
    "toc": true
   },
   "source": [
    "<h1>目录<span class=\"tocSkip\"></span></h1>\n",
    "<div class=\"toc\"><ul class=\"toc-item\"><li><span><a href=\"#NumPy-数组类型\" data-toc-modified-id=\"NumPy-数组类型-1\">NumPy 数组类型</a></span></li><li><span><a href=\"#NumPy-数组生成\" data-toc-modified-id=\"NumPy-数组生成-2\">NumPy 数组生成</a></span><ul class=\"toc-item\"><li><span><a href=\"#列表或元组转换\" data-toc-modified-id=\"列表或元组转换-2.1\">列表或元组转换</a></span></li><li><span><a href=\"#arange方法创建\" data-toc-modified-id=\"arange方法创建-2.2\"><code>arange</code>方法创建</a></span></li><li><span><a href=\"#linspace方法创建\" data-toc-modified-id=\"linspace方法创建-2.3\"><code>linspace</code>方法创建</a></span></li><li><span><a href=\"#ones方法创建\" data-toc-modified-id=\"ones方法创建-2.4\"><code>ones</code>方法创建</a></span></li><li><span><a href=\"#zeros方法创建\" data-toc-modified-id=\"zeros方法创建-2.5\"><code>zeros</code>方法创建</a></span></li><li><span><a href=\"#eye方法创建\" data-toc-modified-id=\"eye方法创建-2.6\"><code>eye</code>方法创建</a></span></li><li><span><a href=\"#从已知数据创建\" data-toc-modified-id=\"从已知数据创建-2.7\">从已知数据创建</a></span></li><li><span><a href=\"#ndarray属性\" data-toc-modified-id=\"ndarray属性-2.8\"><code>ndarray</code>属性</a></span></li></ul></li><li><span><a href=\"#数组维度和形状\" data-toc-modified-id=\"数组维度和形状-3\">数组维度和形状</a></span></li><li><span><a href=\"#数组基本操作\" data-toc-modified-id=\"数组基本操作-4\">数组基本操作</a></span><ul class=\"toc-item\"><li><span><a href=\"#重设形状\" data-toc-modified-id=\"重设形状-4.1\">重设形状</a></span></li><li><span><a href=\"#数组展开\" data-toc-modified-id=\"数组展开-4.2\">数组展开</a></span></li><li><span><a href=\"#轴移动\" data-toc-modified-id=\"轴移动-4.3\">轴移动</a></span></li><li><span><a href=\"#轴交换\" data-toc-modified-id=\"轴交换-4.4\">轴交换</a></span></li><li><span><a href=\"#数组转置\" data-toc-modified-id=\"数组转置-4.5\">数组转置</a></span></li><li><span><a href=\"#维度改变\" data-toc-modified-id=\"维度改变-4.6\">维度改变</a></span></li><li><span><a href=\"#类型转换\" data-toc-modified-id=\"类型转换-4.7\">类型转换</a></span></li><li><span><a href=\"#数组连接\" data-toc-modified-id=\"数组连接-4.8\">数组连接</a></span></li><li><span><a href=\"#数组堆叠\" data-toc-modified-id=\"数组堆叠-4.9\">数组堆叠</a></span></li><li><span><a href=\"#拆分\" data-toc-modified-id=\"拆分-4.10\">拆分</a></span></li><li><span><a href=\"#删除\" data-toc-modified-id=\"删除-4.11\">删除</a></span></li><li><span><a href=\"#数组插入\" data-toc-modified-id=\"数组插入-4.12\">数组插入</a></span></li><li><span><a href=\"#附加\" data-toc-modified-id=\"附加-4.13\">附加</a></span></li><li><span><a href=\"#翻转数组\" data-toc-modified-id=\"翻转数组-4.14\">翻转数组</a></span></li><li><span><a href=\"#NumPy-随机数\" data-toc-modified-id=\"NumPy-随机数-4.15\">NumPy 随机数</a></span></li><li><span><a href=\"#概率密度分布\" data-toc-modified-id=\"概率密度分布-4.16\">概率密度分布</a></span></li></ul></li><li><span><a href=\"#数学函数\" data-toc-modified-id=\"数学函数-5\">数学函数</a></span><ul class=\"toc-item\"><li><span><a href=\"#三角函数\" data-toc-modified-id=\"三角函数-5.1\">三角函数</a></span></li><li><span><a href=\"#双曲函数\" data-toc-modified-id=\"双曲函数-5.2\">双曲函数</a></span></li><li><span><a href=\"#数值修约\" data-toc-modified-id=\"数值修约-5.3\">数值修约</a></span></li><li><span><a href=\"#求和、求积、差分\" data-toc-modified-id=\"求和、求积、差分-5.4\">求和、求积、差分</a></span></li><li><span><a href=\"#指数和对数\" data-toc-modified-id=\"指数和对数-5.5\">指数和对数</a></span></li><li><span><a href=\"#算术运算\" data-toc-modified-id=\"算术运算-5.6\">算术运算</a></span></li><li><span><a href=\"#矩阵和向量积\" data-toc-modified-id=\"矩阵和向量积-5.7\">矩阵和向量积</a></span></li><li><span><a href=\"#数学运算\" data-toc-modified-id=\"数学运算-5.8\">数学运算</a></span></li><li><span><a href=\"#线性代数\" data-toc-modified-id=\"线性代数-5.9\">线性代数</a></span></li></ul></li><li><span><a href=\"#数组索引和切片\" data-toc-modified-id=\"数组索引和切片-6\">数组索引和切片</a></span><ul class=\"toc-item\"><li><span><a href=\"#数组索引\" data-toc-modified-id=\"数组索引-6.1\">数组索引</a></span></li><li><span><a href=\"#数组切片\" data-toc-modified-id=\"数组切片-6.2\">数组切片</a></span></li><li><span><a href=\"#排序\" data-toc-modified-id=\"排序-6.3\">排序</a></span></li><li><span><a href=\"#搜索和计数\" data-toc-modified-id=\"搜索和计数-6.4\">搜索和计数</a></span></li></ul></li></ul></div>"
   ]
  },
  {
   "cell_type": "code",
   "execution_count": 1,
   "id": "615d4d23",
   "metadata": {
    "ExecuteTime": {
     "end_time": "2021-12-04T03:39:44.460578Z",
     "start_time": "2021-12-04T03:39:44.448576Z"
    }
   },
   "outputs": [
    {
     "name": "stdout",
     "output_type": "stream",
     "text": [
      "3.8.12 (default, Oct 12 2021, 03:01:40) [MSC v.1916 64 bit (AMD64)]\n"
     ]
    }
   ],
   "source": [
    "# %% 检查 Python 版本\n",
    "from sys import version\n",
    "print(version)"
   ]
  },
  {
   "cell_type": "markdown",
   "id": "c318519e",
   "metadata": {},
   "source": [
    "## NumPy 数组类型"
   ]
  },
  {
   "cell_type": "code",
   "execution_count": 2,
   "id": "f87b6532",
   "metadata": {
    "ExecuteTime": {
     "end_time": "2021-12-04T03:39:44.982574Z",
     "start_time": "2021-12-04T03:39:44.839577Z"
    }
   },
   "outputs": [],
   "source": [
    "import numpy as np"
   ]
  },
  {
   "cell_type": "code",
   "execution_count": 3,
   "id": "61273848",
   "metadata": {
    "ExecuteTime": {
     "end_time": "2021-12-04T03:39:44.998574Z",
     "start_time": "2021-12-04T03:39:44.984577Z"
    }
   },
   "outputs": [
    {
     "data": {
      "text/plain": [
       "(array([1.1, 2.2, 3.3]), dtype('float64'))"
      ]
     },
     "execution_count": 3,
     "metadata": {},
     "output_type": "execute_result"
    }
   ],
   "source": [
    "a = np.array([1.1, 2.2, 3.3], dtype=np.float64)\n",
    "a, a.dtype"
   ]
  },
  {
   "cell_type": "code",
   "execution_count": 4,
   "id": "b4c058eb",
   "metadata": {
    "ExecuteTime": {
     "end_time": "2021-12-04T03:39:45.126578Z",
     "start_time": "2021-12-04T03:39:45.000576Z"
    }
   },
   "outputs": [
    {
     "data": {
      "text/plain": [
       "dtype('int32')"
      ]
     },
     "execution_count": 4,
     "metadata": {},
     "output_type": "execute_result"
    }
   ],
   "source": [
    "# %% 类型转换\n",
    "a.astype(int).dtype"
   ]
  },
  {
   "cell_type": "markdown",
   "id": "661ec675",
   "metadata": {},
   "source": [
    "此处由于所选数值较小，Python 3.8 中选用了 `int32` 进行存储。"
   ]
  },
  {
   "cell_type": "markdown",
   "id": "79b95411",
   "metadata": {},
   "source": [
    "## NumPy 数组生成"
   ]
  },
  {
   "cell_type": "markdown",
   "id": "673d0334",
   "metadata": {},
   "source": [
    "### 列表或元组转换\n",
    "\n",
    "```python\n",
    "numpy.array(object, dtype=None, copy=True, order=None, subok=False, ndmin=0)\n",
    "```"
   ]
  },
  {
   "cell_type": "code",
   "execution_count": 5,
   "id": "58595340",
   "metadata": {
    "ExecuteTime": {
     "end_time": "2021-12-04T03:39:46.096606Z",
     "start_time": "2021-12-04T03:39:46.083578Z"
    }
   },
   "outputs": [
    {
     "data": {
      "text/plain": [
       "array([[1, 2, 3],\n",
       "       [4, 5, 6]])"
      ]
     },
     "execution_count": 5,
     "metadata": {},
     "output_type": "execute_result"
    }
   ],
   "source": [
    "np.array([[1, 2, 3], [4, 5, 6]])"
   ]
  },
  {
   "cell_type": "code",
   "execution_count": 6,
   "id": "834e677c",
   "metadata": {
    "ExecuteTime": {
     "end_time": "2021-12-04T03:39:46.175613Z",
     "start_time": "2021-12-04T03:39:46.099581Z"
    }
   },
   "outputs": [
    {
     "data": {
      "text/plain": [
       "array([[1, 2],\n",
       "       [3, 4],\n",
       "       [5, 6]])"
      ]
     },
     "execution_count": 6,
     "metadata": {},
     "output_type": "execute_result"
    }
   ],
   "source": [
    "np.array([(1, 2), (3, 4), (5, 6)])"
   ]
  },
  {
   "cell_type": "markdown",
   "id": "fc55dfd3",
   "metadata": {},
   "source": [
    "### `arange`方法创建\n",
    "\n",
    "```python\n",
    "numpy.arange(start, stop, step, dtype=None)\n",
    "```"
   ]
  },
  {
   "cell_type": "code",
   "execution_count": 7,
   "id": "b64aad9f",
   "metadata": {
    "ExecuteTime": {
     "end_time": "2021-12-04T03:39:46.476610Z",
     "start_time": "2021-12-04T03:39:46.466606Z"
    }
   },
   "outputs": [
    {
     "data": {
      "text/plain": [
       "array([3. , 3.5, 4. , 4.5, 5. , 5.5, 6. , 6.5], dtype=float32)"
      ]
     },
     "execution_count": 7,
     "metadata": {},
     "output_type": "execute_result"
    }
   ],
   "source": [
    "np.arange(3, 7, 0.5, dtype='float32')"
   ]
  },
  {
   "cell_type": "markdown",
   "id": "a9df84d6",
   "metadata": {},
   "source": [
    "### `linspace`方法创建\n",
    "\n",
    "```python\n",
    "numpy.linspace(start, stop, num=50, endpoint=True, retstep=False, dtype=None)\n",
    "```"
   ]
  },
  {
   "cell_type": "code",
   "execution_count": 8,
   "id": "a67c7b78",
   "metadata": {
    "ExecuteTime": {
     "end_time": "2021-12-04T03:39:46.838605Z",
     "start_time": "2021-12-04T03:39:46.821607Z"
    }
   },
   "outputs": [
    {
     "data": {
      "text/plain": [
       "array([ 0.        ,  1.11111111,  2.22222222,  3.33333333,  4.44444444,\n",
       "        5.55555556,  6.66666667,  7.77777778,  8.88888889, 10.        ])"
      ]
     },
     "execution_count": 8,
     "metadata": {},
     "output_type": "execute_result"
    }
   ],
   "source": [
    "np.linspace(0, 10, 10, endpoint=True)"
   ]
  },
  {
   "cell_type": "code",
   "execution_count": 9,
   "id": "c5564008",
   "metadata": {
    "ExecuteTime": {
     "end_time": "2021-12-04T03:39:46.918606Z",
     "start_time": "2021-12-04T03:39:46.840577Z"
    }
   },
   "outputs": [
    {
     "data": {
      "text/plain": [
       "array([0., 1., 2., 3., 4., 5., 6., 7., 8., 9.])"
      ]
     },
     "execution_count": 9,
     "metadata": {},
     "output_type": "execute_result"
    }
   ],
   "source": [
    "np.linspace(0, 10, 10, endpoint=False)"
   ]
  },
  {
   "cell_type": "markdown",
   "id": "c8a3870e",
   "metadata": {},
   "source": [
    "### `ones`方法创建\n",
    "\n",
    "```python\n",
    "numpy.ones(shape, dtype=None, order='C')\n",
    "```"
   ]
  },
  {
   "cell_type": "code",
   "execution_count": 10,
   "id": "8a16ebec",
   "metadata": {
    "ExecuteTime": {
     "end_time": "2021-12-04T03:39:47.238579Z",
     "start_time": "2021-12-04T03:39:47.231579Z"
    }
   },
   "outputs": [
    {
     "data": {
      "text/plain": [
       "array([[1., 1., 1.],\n",
       "       [1., 1., 1.]])"
      ]
     },
     "execution_count": 10,
     "metadata": {},
     "output_type": "execute_result"
    }
   ],
   "source": [
    "np.ones((2, 3))"
   ]
  },
  {
   "cell_type": "markdown",
   "id": "9313884c",
   "metadata": {},
   "source": [
    "### `zeros`方法创建"
   ]
  },
  {
   "cell_type": "code",
   "execution_count": 11,
   "id": "ec6896f5",
   "metadata": {
    "ExecuteTime": {
     "end_time": "2021-12-04T03:39:47.588577Z",
     "start_time": "2021-12-04T03:39:47.572581Z"
    }
   },
   "outputs": [
    {
     "data": {
      "text/plain": [
       "array([[0., 0.],\n",
       "       [0., 0.],\n",
       "       [0., 0.]])"
      ]
     },
     "execution_count": 11,
     "metadata": {},
     "output_type": "execute_result"
    }
   ],
   "source": [
    "np.zeros((3, 2))"
   ]
  },
  {
   "cell_type": "markdown",
   "id": "f0966d6f",
   "metadata": {},
   "source": [
    "### `eye`方法创建\n",
    "\n",
    "```python\n",
    "numpy.eye(N, M=None, k=0, dtype=<type 'float'>)\n",
    "```"
   ]
  },
  {
   "cell_type": "code",
   "execution_count": 12,
   "id": "c433c4dc",
   "metadata": {
    "ExecuteTime": {
     "end_time": "2021-12-04T03:39:47.950625Z",
     "start_time": "2021-12-04T03:39:47.945577Z"
    }
   },
   "outputs": [
    {
     "data": {
      "text/plain": [
       "array([[0., 0., 0., 1.],\n",
       "       [0., 0., 0., 0.],\n",
       "       [0., 0., 0., 0.],\n",
       "       [0., 0., 0., 0.],\n",
       "       [0., 0., 0., 0.]])"
      ]
     },
     "execution_count": 12,
     "metadata": {},
     "output_type": "execute_result"
    }
   ],
   "source": [
    "np.eye(5, 4, 3)"
   ]
  },
  {
   "cell_type": "markdown",
   "id": "c8775642",
   "metadata": {},
   "source": [
    "### 从已知数据创建"
   ]
  },
  {
   "cell_type": "code",
   "execution_count": 13,
   "id": "be73dc45",
   "metadata": {
    "ExecuteTime": {
     "end_time": "2021-12-04T03:39:48.316609Z",
     "start_time": "2021-12-04T03:39:48.307583Z"
    }
   },
   "outputs": [
    {
     "data": {
      "text/plain": [
       "array([[0., 1., 2., 3.],\n",
       "       [1., 2., 3., 4.],\n",
       "       [2., 3., 4., 5.],\n",
       "       [3., 4., 5., 6.],\n",
       "       [4., 5., 6., 7.]])"
      ]
     },
     "execution_count": 13,
     "metadata": {},
     "output_type": "execute_result"
    }
   ],
   "source": [
    "from operator import add\n",
    "\n",
    "np.fromfunction(add, (5, 4))"
   ]
  },
  {
   "cell_type": "code",
   "execution_count": 14,
   "id": "0e5e7289",
   "metadata": {
    "ExecuteTime": {
     "end_time": "2021-12-04T03:39:48.396605Z",
     "start_time": "2021-12-04T03:39:48.318578Z"
    }
   },
   "outputs": [
    {
     "data": {
      "text/plain": [
       "array([ 1,  2,  3,  4,  5,  6,  7,  8,  9, 10, 11, 12, 13, 14])"
      ]
     },
     "execution_count": 14,
     "metadata": {},
     "output_type": "execute_result"
    }
   ],
   "source": [
    "from itertools import count, islice\n",
    "\n",
    "c = count()\n",
    "np.fromiter(islice(c, 1, 15), dtype=np.int_)"
   ]
  },
  {
   "cell_type": "code",
   "execution_count": 15,
   "id": "a2c23e61",
   "metadata": {
    "ExecuteTime": {
     "end_time": "2021-12-04T03:39:48.476606Z",
     "start_time": "2021-12-04T03:39:48.398589Z"
    }
   },
   "outputs": [
    {
     "data": {
      "text/plain": [
       "array([1, 2])"
      ]
     },
     "execution_count": 15,
     "metadata": {},
     "output_type": "execute_result"
    }
   ],
   "source": [
    "np.fromstring('1, 2', dtype=int, sep=',')"
   ]
  },
  {
   "cell_type": "markdown",
   "id": "37375094",
   "metadata": {},
   "source": [
    "### `ndarray`属性"
   ]
  },
  {
   "cell_type": "code",
   "execution_count": 16,
   "id": "59d4f7d4",
   "metadata": {
    "ExecuteTime": {
     "end_time": "2021-12-04T03:39:48.710598Z",
     "start_time": "2021-12-04T03:39:48.691578Z"
    }
   },
   "outputs": [
    {
     "data": {
      "text/plain": [
       "array([[1, 2, 3],\n",
       "       [4, 5, 6],\n",
       "       [7, 8, 9]])"
      ]
     },
     "execution_count": 16,
     "metadata": {},
     "output_type": "execute_result"
    }
   ],
   "source": [
    "a = np.array([[1, 2, 3], [4, 5, 6], [7, 8, 9]])\n",
    "a"
   ]
  },
  {
   "cell_type": "code",
   "execution_count": 17,
   "id": "56041b11",
   "metadata": {
    "ExecuteTime": {
     "end_time": "2021-12-04T03:39:48.788603Z",
     "start_time": "2021-12-04T03:39:48.712578Z"
    }
   },
   "outputs": [
    {
     "data": {
      "text/plain": [
       "(array([[1, 4, 7],\n",
       "        [2, 5, 8],\n",
       "        [3, 6, 9]]),\n",
       " array([[ True,  True,  True],\n",
       "        [ True,  True,  True],\n",
       "        [ True,  True,  True]]))"
      ]
     },
     "execution_count": 17,
     "metadata": {},
     "output_type": "execute_result"
    }
   ],
   "source": [
    "a.T, a.T == a.transpose()"
   ]
  },
  {
   "cell_type": "code",
   "execution_count": 18,
   "id": "3b7715b0",
   "metadata": {
    "ExecuteTime": {
     "end_time": "2021-12-04T03:39:48.884606Z",
     "start_time": "2021-12-04T03:39:48.791577Z"
    }
   },
   "outputs": [
    {
     "data": {
      "text/plain": [
       "dtype('int32')"
      ]
     },
     "execution_count": 18,
     "metadata": {},
     "output_type": "execute_result"
    }
   ],
   "source": [
    "a.dtype"
   ]
  },
  {
   "cell_type": "code",
   "execution_count": 19,
   "id": "ab323914",
   "metadata": {
    "ExecuteTime": {
     "end_time": "2021-12-04T03:39:48.996575Z",
     "start_time": "2021-12-04T03:39:48.887577Z"
    }
   },
   "outputs": [
    {
     "data": {
      "text/plain": [
       "(array([[0, 0, 0],\n",
       "        [0, 0, 0],\n",
       "        [0, 0, 0]]),\n",
       " array([[1, 2, 3],\n",
       "        [4, 5, 6],\n",
       "        [7, 8, 9]]))"
      ]
     },
     "execution_count": 19,
     "metadata": {},
     "output_type": "execute_result"
    }
   ],
   "source": [
    "a.imag, a.real"
   ]
  },
  {
   "cell_type": "code",
   "execution_count": 20,
   "id": "a9d1381d",
   "metadata": {
    "ExecuteTime": {
     "end_time": "2021-12-04T03:39:49.076608Z",
     "start_time": "2021-12-04T03:39:48.999577Z"
    }
   },
   "outputs": [
    {
     "data": {
      "text/plain": [
       "(9, 4)"
      ]
     },
     "execution_count": 20,
     "metadata": {},
     "output_type": "execute_result"
    }
   ],
   "source": [
    "a.size, a.itemsize"
   ]
  },
  {
   "cell_type": "code",
   "execution_count": 21,
   "id": "45624917",
   "metadata": {
    "ExecuteTime": {
     "end_time": "2021-12-04T03:39:49.156605Z",
     "start_time": "2021-12-04T03:39:49.078580Z"
    }
   },
   "outputs": [
    {
     "data": {
      "text/plain": [
       "(36, 2)"
      ]
     },
     "execution_count": 21,
     "metadata": {},
     "output_type": "execute_result"
    }
   ],
   "source": [
    "a.nbytes, a.ndim"
   ]
  },
  {
   "cell_type": "code",
   "execution_count": 22,
   "id": "949a1790",
   "metadata": {
    "ExecuteTime": {
     "end_time": "2021-12-04T03:39:49.236582Z",
     "start_time": "2021-12-04T03:39:49.158576Z"
    }
   },
   "outputs": [
    {
     "data": {
      "text/plain": [
       "((3, 3), (12, 4))"
      ]
     },
     "execution_count": 22,
     "metadata": {},
     "output_type": "execute_result"
    }
   ],
   "source": [
    "a.shape, a.strides"
   ]
  },
  {
   "cell_type": "markdown",
   "id": "a4d8faf2",
   "metadata": {},
   "source": [
    "## 数组维度和形状"
   ]
  },
  {
   "cell_type": "code",
   "execution_count": 23,
   "id": "3ebfe32e",
   "metadata": {
    "ExecuteTime": {
     "end_time": "2021-12-04T03:39:49.314607Z",
     "start_time": "2021-12-04T03:39:49.239578Z"
    }
   },
   "outputs": [],
   "source": [
    "one = np.array([7, 2, 9, 10])\n",
    "two = np.array([[5.2, 3.0, 4.5], [9.1, 0.1, 0.3]])\n",
    "three = np.ones(shape=(4, 3, 2), dtype='int')"
   ]
  },
  {
   "cell_type": "code",
   "execution_count": 24,
   "id": "55bf314e",
   "metadata": {
    "ExecuteTime": {
     "end_time": "2021-12-04T03:39:49.409610Z",
     "start_time": "2021-12-04T03:39:49.316577Z"
    }
   },
   "outputs": [
    {
     "data": {
      "text/plain": [
       "((4,), (2, 3), (4, 3, 2))"
      ]
     },
     "execution_count": 24,
     "metadata": {},
     "output_type": "execute_result"
    }
   ],
   "source": [
    "one.shape, two.shape, three.shape"
   ]
  },
  {
   "cell_type": "markdown",
   "id": "1fc43bff",
   "metadata": {},
   "source": [
    "## 数组基本操作"
   ]
  },
  {
   "cell_type": "markdown",
   "id": "4f6ee219",
   "metadata": {},
   "source": [
    "### 重设形状"
   ]
  },
  {
   "cell_type": "code",
   "execution_count": 25,
   "id": "0ac68f07",
   "metadata": {
    "ExecuteTime": {
     "end_time": "2021-12-04T03:39:49.851605Z",
     "start_time": "2021-12-04T03:39:49.842600Z"
    }
   },
   "outputs": [
    {
     "data": {
      "text/plain": [
       "array([[0, 1],\n",
       "       [2, 3],\n",
       "       [4, 5],\n",
       "       [6, 7],\n",
       "       [8, 9]])"
      ]
     },
     "execution_count": 25,
     "metadata": {},
     "output_type": "execute_result"
    }
   ],
   "source": [
    "np.arange(10).reshape((5, 2))"
   ]
  },
  {
   "cell_type": "markdown",
   "id": "0d003659",
   "metadata": {},
   "source": [
    "### 数组展开"
   ]
  },
  {
   "cell_type": "code",
   "execution_count": 26,
   "id": "ffd25ccd",
   "metadata": {
    "ExecuteTime": {
     "end_time": "2021-12-04T03:39:50.249576Z",
     "start_time": "2021-12-04T03:39:50.229577Z"
    }
   },
   "outputs": [
    {
     "data": {
      "text/plain": [
       "array([[0, 1, 2, 3, 4],\n",
       "       [5, 6, 7, 8, 9]])"
      ]
     },
     "execution_count": 26,
     "metadata": {},
     "output_type": "execute_result"
    }
   ],
   "source": [
    "a = np.arange(10).reshape((2, 5))\n",
    "a"
   ]
  },
  {
   "cell_type": "code",
   "execution_count": 27,
   "id": "b6c44f55",
   "metadata": {
    "ExecuteTime": {
     "end_time": "2021-12-04T03:39:50.312599Z",
     "start_time": "2021-12-04T03:39:50.251580Z"
    }
   },
   "outputs": [
    {
     "data": {
      "text/plain": [
       "array([0, 1, 2, 3, 4, 5, 6, 7, 8, 9])"
      ]
     },
     "execution_count": 27,
     "metadata": {},
     "output_type": "execute_result"
    }
   ],
   "source": [
    "np.ravel(a)"
   ]
  },
  {
   "cell_type": "code",
   "execution_count": 28,
   "id": "2778ef19",
   "metadata": {
    "ExecuteTime": {
     "end_time": "2021-12-04T03:39:50.390576Z",
     "start_time": "2021-12-04T03:39:50.314580Z"
    }
   },
   "outputs": [
    {
     "data": {
      "text/plain": [
       "array([0, 5, 1, 6, 2, 7, 3, 8, 4, 9])"
      ]
     },
     "execution_count": 28,
     "metadata": {},
     "output_type": "execute_result"
    }
   ],
   "source": [
    "np.ravel(a, order='F')"
   ]
  },
  {
   "cell_type": "markdown",
   "id": "e503b465",
   "metadata": {},
   "source": [
    "### 轴移动"
   ]
  },
  {
   "cell_type": "code",
   "execution_count": 29,
   "id": "412deb30",
   "metadata": {
    "ExecuteTime": {
     "end_time": "2021-12-04T03:39:50.660605Z",
     "start_time": "2021-12-04T03:39:50.641578Z"
    }
   },
   "outputs": [
    {
     "data": {
      "text/plain": [
       "array([[[1.],\n",
       "        [1.],\n",
       "        [1.]],\n",
       "\n",
       "       [[1.],\n",
       "        [1.],\n",
       "        [1.]]])"
      ]
     },
     "execution_count": 29,
     "metadata": {},
     "output_type": "execute_result"
    }
   ],
   "source": [
    "a = np.ones((1, 2, 3))\n",
    "np.moveaxis(a, 0, -1)"
   ]
  },
  {
   "cell_type": "code",
   "execution_count": 30,
   "id": "e16f2497",
   "metadata": {
    "ExecuteTime": {
     "end_time": "2021-12-04T03:39:50.738606Z",
     "start_time": "2021-12-04T03:39:50.662583Z"
    }
   },
   "outputs": [
    {
     "data": {
      "text/plain": [
       "((1, 2, 3), (2, 3, 1))"
      ]
     },
     "execution_count": 30,
     "metadata": {},
     "output_type": "execute_result"
    }
   ],
   "source": [
    "a.shape, np.moveaxis(a, 0, -1).shape"
   ]
  },
  {
   "cell_type": "markdown",
   "id": "cd4daab7",
   "metadata": {},
   "source": [
    "### 轴交换"
   ]
  },
  {
   "cell_type": "code",
   "execution_count": 31,
   "id": "2d77b729",
   "metadata": {
    "ExecuteTime": {
     "end_time": "2021-12-04T03:39:51.022605Z",
     "start_time": "2021-12-04T03:39:51.005577Z"
    }
   },
   "outputs": [
    {
     "data": {
      "text/plain": [
       "array([[[1.],\n",
       "        [1.],\n",
       "        [1.],\n",
       "        [1.]],\n",
       "\n",
       "       [[1.],\n",
       "        [1.],\n",
       "        [1.],\n",
       "        [1.]],\n",
       "\n",
       "       [[1.],\n",
       "        [1.],\n",
       "        [1.],\n",
       "        [1.]]])"
      ]
     },
     "execution_count": 31,
     "metadata": {},
     "output_type": "execute_result"
    }
   ],
   "source": [
    "a = np.ones((1, 4, 3))\n",
    "np.swapaxes(a, 0, 2)"
   ]
  },
  {
   "cell_type": "markdown",
   "id": "9ea878af",
   "metadata": {},
   "source": [
    "### 数组转置"
   ]
  },
  {
   "cell_type": "code",
   "execution_count": 32,
   "id": "f005327a",
   "metadata": {
    "ExecuteTime": {
     "end_time": "2021-12-04T03:39:51.422604Z",
     "start_time": "2021-12-04T03:39:51.408577Z"
    }
   },
   "outputs": [
    {
     "data": {
      "text/plain": [
       "array([[0, 2],\n",
       "       [1, 3]])"
      ]
     },
     "execution_count": 32,
     "metadata": {},
     "output_type": "execute_result"
    }
   ],
   "source": [
    "a = np.arange(4).reshape(2, 2)\n",
    "np.transpose(a)"
   ]
  },
  {
   "cell_type": "markdown",
   "id": "d75d38af",
   "metadata": {},
   "source": [
    "### 维度改变"
   ]
  },
  {
   "cell_type": "code",
   "execution_count": 33,
   "id": "79c8678b",
   "metadata": {
    "ExecuteTime": {
     "end_time": "2021-12-04T03:39:51.804605Z",
     "start_time": "2021-12-04T03:39:51.792600Z"
    }
   },
   "outputs": [
    {
     "name": "stdout",
     "output_type": "stream",
     "text": [
      "[1 2 3]\n",
      "[[4 5 6]]\n",
      "[[[7]\n",
      "  [8]\n",
      "  [9]]]\n"
     ]
    }
   ],
   "source": [
    "print(np.atleast_1d([1, 2, 3]))\n",
    "print(np.atleast_2d([4, 5, 6]))\n",
    "print(np.atleast_3d([7, 8, 9]))"
   ]
  },
  {
   "cell_type": "markdown",
   "id": "9010e986",
   "metadata": {},
   "source": [
    "### 类型转换"
   ]
  },
  {
   "cell_type": "code",
   "execution_count": 34,
   "id": "66da3864",
   "metadata": {
    "ExecuteTime": {
     "end_time": "2021-12-04T03:39:52.200614Z",
     "start_time": "2021-12-04T03:39:52.180577Z"
    }
   },
   "outputs": [
    {
     "data": {
      "text/plain": [
       "array([[0., 1.],\n",
       "       [2., 3.]], dtype=float32)"
      ]
     },
     "execution_count": 34,
     "metadata": {},
     "output_type": "execute_result"
    }
   ],
   "source": [
    "a = np.arange(4).reshape(2, 2)\n",
    "np.asarray(a, dtype='float32', order='F')"
   ]
  },
  {
   "cell_type": "code",
   "execution_count": 35,
   "id": "dac96555",
   "metadata": {
    "ExecuteTime": {
     "end_time": "2021-12-04T03:39:52.296575Z",
     "start_time": "2021-12-04T03:39:52.202579Z"
    }
   },
   "outputs": [
    {
     "data": {
      "text/plain": [
       "array([[0., 1.],\n",
       "       [2., 3.]], dtype=float32)"
      ]
     },
     "execution_count": 35,
     "metadata": {},
     "output_type": "execute_result"
    }
   ],
   "source": [
    "np.asanyarray(a, dtype='float32', order='F')"
   ]
  },
  {
   "cell_type": "code",
   "execution_count": 36,
   "id": "2d9ea17b",
   "metadata": {
    "ExecuteTime": {
     "end_time": "2021-12-04T03:39:52.392576Z",
     "start_time": "2021-12-04T03:39:52.299578Z"
    },
    "scrolled": false
   },
   "outputs": [
    {
     "data": {
      "text/plain": [
       "matrix([[0., 1.],\n",
       "        [2., 3.]], dtype=float32)"
      ]
     },
     "execution_count": 36,
     "metadata": {},
     "output_type": "execute_result"
    }
   ],
   "source": [
    "np.asmatrix(a, dtype='float32')"
   ]
  },
  {
   "cell_type": "code",
   "execution_count": 37,
   "id": "aba62ae7",
   "metadata": {
    "ExecuteTime": {
     "end_time": "2021-12-04T03:39:52.472578Z",
     "start_time": "2021-12-04T03:39:52.395587Z"
    }
   },
   "outputs": [
    {
     "data": {
      "text/plain": [
       "array([[0., 1.],\n",
       "       [2., 3.]])"
      ]
     },
     "execution_count": 37,
     "metadata": {},
     "output_type": "execute_result"
    }
   ],
   "source": [
    "np.asfarray(a)"
   ]
  },
  {
   "cell_type": "code",
   "execution_count": 38,
   "id": "bdb07a2e",
   "metadata": {
    "ExecuteTime": {
     "end_time": "2021-12-04T03:39:52.644577Z",
     "start_time": "2021-12-04T03:39:52.474576Z"
    }
   },
   "outputs": [
    {
     "data": {
      "text/plain": [
       "array([[0, 1],\n",
       "       [2, 3]])"
      ]
     },
     "execution_count": 38,
     "metadata": {},
     "output_type": "execute_result"
    }
   ],
   "source": [
    "np.asarray_chkfinite(a)"
   ]
  },
  {
   "cell_type": "code",
   "execution_count": 39,
   "id": "9e41f90d",
   "metadata": {
    "ExecuteTime": {
     "end_time": "2021-12-04T03:39:52.756575Z",
     "start_time": "2021-12-04T03:39:52.646576Z"
    }
   },
   "outputs": [
    {
     "name": "stderr",
     "output_type": "stream",
     "text": [
      "C:\\Users\\DRAGON~1\\AppData\\Local\\Temp/ipykernel_13676/3547684317.py:1: DeprecationWarning: np.asscalar(a) is deprecated since NumPy v1.16, use a.item() instead\n",
      "  np.asscalar(a[0, 1])\n"
     ]
    },
    {
     "data": {
      "text/plain": [
       "1"
      ]
     },
     "execution_count": 39,
     "metadata": {},
     "output_type": "execute_result"
    }
   ],
   "source": [
    "np.asscalar(a[0, 1])"
   ]
  },
  {
   "cell_type": "markdown",
   "id": "ba9f654e",
   "metadata": {},
   "source": [
    "### 数组连接"
   ]
  },
  {
   "cell_type": "code",
   "execution_count": 40,
   "id": "cf86c98b",
   "metadata": {
    "ExecuteTime": {
     "end_time": "2021-12-04T03:39:52.897606Z",
     "start_time": "2021-12-04T03:39:52.758578Z"
    }
   },
   "outputs": [
    {
     "data": {
      "text/plain": [
       "array([[ 1,  2],\n",
       "       [ 3,  4],\n",
       "       [ 5,  6],\n",
       "       [ 7,  8],\n",
       "       [ 9, 10],\n",
       "       [11, 12]])"
      ]
     },
     "execution_count": 40,
     "metadata": {},
     "output_type": "execute_result"
    }
   ],
   "source": [
    "a = np.array([[1, 2], [3, 4], [5, 6]])\n",
    "b = np.array([[7, 8], [9, 10]])\n",
    "c = np.array([[11, 12]])\n",
    "np.concatenate((a, b, c), axis=0)"
   ]
  },
  {
   "cell_type": "code",
   "execution_count": 41,
   "id": "22744fbc",
   "metadata": {
    "ExecuteTime": {
     "end_time": "2021-12-04T03:39:52.992607Z",
     "start_time": "2021-12-04T03:39:52.899577Z"
    }
   },
   "outputs": [
    {
     "data": {
      "text/plain": [
       "array([[1, 2, 7],\n",
       "       [3, 4, 8],\n",
       "       [5, 6, 9]])"
      ]
     },
     "execution_count": 41,
     "metadata": {},
     "output_type": "execute_result"
    }
   ],
   "source": [
    "a = np.array([[1, 2], [3, 4], [5, 6]])\n",
    "b = np.array([[7, 8, 9]])\n",
    "np.concatenate((a, b.T), axis=1)"
   ]
  },
  {
   "cell_type": "markdown",
   "id": "976f7e68",
   "metadata": {},
   "source": [
    "### 数组堆叠"
   ]
  },
  {
   "cell_type": "code",
   "execution_count": 42,
   "id": "6e5c2e75",
   "metadata": {
    "ExecuteTime": {
     "end_time": "2021-12-04T03:39:53.278576Z",
     "start_time": "2021-12-04T03:39:53.015581Z"
    }
   },
   "outputs": [
    {
     "data": {
      "text/plain": [
       "array([[1, 2, 3],\n",
       "       [4, 5, 6]])"
      ]
     },
     "execution_count": 42,
     "metadata": {},
     "output_type": "execute_result"
    }
   ],
   "source": [
    "a = np.array([1, 2, 3])\n",
    "b = np.array([4, 5, 6])\n",
    "np.stack((a, b))"
   ]
  },
  {
   "cell_type": "code",
   "execution_count": 43,
   "id": "0d7838f8",
   "metadata": {
    "ExecuteTime": {
     "end_time": "2021-12-04T03:39:53.358577Z",
     "start_time": "2021-12-04T03:39:53.281577Z"
    }
   },
   "outputs": [
    {
     "data": {
      "text/plain": [
       "array([[1, 4],\n",
       "       [2, 5],\n",
       "       [3, 6]])"
      ]
     },
     "execution_count": 43,
     "metadata": {},
     "output_type": "execute_result"
    }
   ],
   "source": [
    "np.column_stack((a, b))"
   ]
  },
  {
   "cell_type": "code",
   "execution_count": 44,
   "id": "b7bc70a1",
   "metadata": {
    "ExecuteTime": {
     "end_time": "2021-12-04T03:39:53.534577Z",
     "start_time": "2021-12-04T03:39:53.360576Z"
    }
   },
   "outputs": [
    {
     "data": {
      "text/plain": [
       "array([1, 2, 3, 4, 5, 6])"
      ]
     },
     "execution_count": 44,
     "metadata": {},
     "output_type": "execute_result"
    }
   ],
   "source": [
    "np.hstack((a, b))"
   ]
  },
  {
   "cell_type": "code",
   "execution_count": 45,
   "id": "92ba8852",
   "metadata": {
    "ExecuteTime": {
     "end_time": "2021-12-04T03:39:53.755606Z",
     "start_time": "2021-12-04T03:39:53.537576Z"
    }
   },
   "outputs": [
    {
     "data": {
      "text/plain": [
       "array([[1, 2, 3],\n",
       "       [4, 5, 6]])"
      ]
     },
     "execution_count": 45,
     "metadata": {},
     "output_type": "execute_result"
    }
   ],
   "source": [
    "np.vstack((a, b))"
   ]
  },
  {
   "cell_type": "code",
   "execution_count": 46,
   "id": "687de53d",
   "metadata": {
    "ExecuteTime": {
     "end_time": "2021-12-04T03:39:53.896606Z",
     "start_time": "2021-12-04T03:39:53.757587Z"
    }
   },
   "outputs": [
    {
     "data": {
      "text/plain": [
       "array([[[1, 4],\n",
       "        [2, 5],\n",
       "        [3, 6]]])"
      ]
     },
     "execution_count": 46,
     "metadata": {},
     "output_type": "execute_result"
    }
   ],
   "source": [
    "np.dstack((a, b))"
   ]
  },
  {
   "cell_type": "markdown",
   "id": "41982d47",
   "metadata": {},
   "source": [
    "### 拆分"
   ]
  },
  {
   "cell_type": "code",
   "execution_count": 47,
   "id": "99c2233f",
   "metadata": {
    "ExecuteTime": {
     "end_time": "2021-12-04T03:39:53.991606Z",
     "start_time": "2021-12-04T03:39:53.899579Z"
    }
   },
   "outputs": [
    {
     "data": {
      "text/plain": [
       "[array([0, 1]), array([2, 3]), array([4, 5]), array([6, 7]), array([8, 9])]"
      ]
     },
     "execution_count": 47,
     "metadata": {},
     "output_type": "execute_result"
    }
   ],
   "source": [
    "a = np.arange(10)\n",
    "np.split(a, 5)"
   ]
  },
  {
   "cell_type": "code",
   "execution_count": 48,
   "id": "c21467e2",
   "metadata": {
    "ExecuteTime": {
     "end_time": "2021-12-04T03:39:54.086605Z",
     "start_time": "2021-12-04T03:39:53.993576Z"
    }
   },
   "outputs": [
    {
     "data": {
      "text/plain": [
       "[array([[0, 1, 2, 3, 4]]), array([[5, 6, 7, 8, 9]])]"
      ]
     },
     "execution_count": 48,
     "metadata": {},
     "output_type": "execute_result"
    }
   ],
   "source": [
    "a = np.arange(10).reshape(2, 5)\n",
    "np.split(a, 2)"
   ]
  },
  {
   "cell_type": "markdown",
   "id": "fffc313e",
   "metadata": {},
   "source": [
    "### 删除"
   ]
  },
  {
   "cell_type": "code",
   "execution_count": 49,
   "id": "4f0ca53c",
   "metadata": {
    "ExecuteTime": {
     "end_time": "2021-12-04T03:39:54.150609Z",
     "start_time": "2021-12-04T03:39:54.089578Z"
    }
   },
   "outputs": [
    {
     "data": {
      "text/plain": [
       "array([[ 0,  1,  3],\n",
       "       [ 4,  5,  7],\n",
       "       [ 8,  9, 11]])"
      ]
     },
     "execution_count": 49,
     "metadata": {},
     "output_type": "execute_result"
    }
   ],
   "source": [
    "a = np.arange(12).reshape(3, 4)\n",
    "np.delete(a, 2, 1)"
   ]
  },
  {
   "cell_type": "code",
   "execution_count": 50,
   "id": "dd98e085",
   "metadata": {
    "ExecuteTime": {
     "end_time": "2021-12-04T03:39:54.230604Z",
     "start_time": "2021-12-04T03:39:54.153577Z"
    }
   },
   "outputs": [
    {
     "data": {
      "text/plain": [
       "array([[0, 1, 2, 3],\n",
       "       [4, 5, 6, 7]])"
      ]
     },
     "execution_count": 50,
     "metadata": {},
     "output_type": "execute_result"
    }
   ],
   "source": [
    "np.delete(a, 2, 0)"
   ]
  },
  {
   "cell_type": "markdown",
   "id": "f946e5c3",
   "metadata": {},
   "source": [
    "### 数组插入"
   ]
  },
  {
   "cell_type": "code",
   "execution_count": 51,
   "id": "ef13a114",
   "metadata": {
    "ExecuteTime": {
     "end_time": "2021-12-04T03:39:54.454625Z",
     "start_time": "2021-12-04T03:39:54.448577Z"
    }
   },
   "outputs": [
    {
     "data": {
      "text/plain": [
       "array([[ 0,  1,  2,  3],\n",
       "       [ 4,  5,  6,  7],\n",
       "       [ 0,  1,  2,  3],\n",
       "       [ 8,  9, 10, 11]])"
      ]
     },
     "execution_count": 51,
     "metadata": {},
     "output_type": "execute_result"
    }
   ],
   "source": [
    "a = np.arange(12).reshape(3, 4)\n",
    "b = np.arange(4)\n",
    "np.insert(a, 2, b, 0)"
   ]
  },
  {
   "cell_type": "markdown",
   "id": "1ca6bf39",
   "metadata": {},
   "source": [
    "### 附加\n",
    "\n",
    "`append`方法默认将数组展平后添加"
   ]
  },
  {
   "cell_type": "code",
   "execution_count": 52,
   "id": "fd4df539",
   "metadata": {
    "ExecuteTime": {
     "end_time": "2021-12-04T03:39:54.868606Z",
     "start_time": "2021-12-04T03:39:54.848577Z"
    }
   },
   "outputs": [
    {
     "data": {
      "text/plain": [
       "array([0, 1, 2, 3, 4, 5, 0, 1, 2])"
      ]
     },
     "execution_count": 52,
     "metadata": {},
     "output_type": "execute_result"
    }
   ],
   "source": [
    "a = np.arange(6).reshape(2, 3)\n",
    "b = np.arange(3)\n",
    "np.append(a, b)"
   ]
  },
  {
   "cell_type": "code",
   "execution_count": 53,
   "id": "b2d2d289",
   "metadata": {
    "ExecuteTime": {
     "end_time": "2021-12-04T03:39:54.948598Z",
     "start_time": "2021-12-04T03:39:54.870577Z"
    }
   },
   "outputs": [
    {
     "data": {
      "text/plain": [
       "array([[0, 1, 2, 3, 4],\n",
       "       [5, 6, 7, 8, 9]])"
      ]
     },
     "execution_count": 53,
     "metadata": {},
     "output_type": "execute_result"
    }
   ],
   "source": [
    "a = np.arange(10)\n",
    "a.resize(2, 5)\n",
    "a"
   ]
  },
  {
   "cell_type": "markdown",
   "id": "ee0d4678",
   "metadata": {},
   "source": [
    "`resize`对 NumPy 数组自身有副作用，返回其自身；`reshape`对 NumPy 数组无副作用，返回新副本。"
   ]
  },
  {
   "cell_type": "markdown",
   "id": "4c8ab9e8",
   "metadata": {},
   "source": [
    "### 翻转数组"
   ]
  },
  {
   "cell_type": "code",
   "execution_count": 54,
   "id": "f16dccc3",
   "metadata": {
    "ExecuteTime": {
     "end_time": "2021-12-04T03:39:55.684576Z",
     "start_time": "2021-12-04T03:39:55.666581Z"
    }
   },
   "outputs": [
    {
     "name": "stdout",
     "output_type": "stream",
     "text": [
      "[[ 3  2  1  0]\n",
      " [ 7  6  5  4]\n",
      " [11 10  9  8]\n",
      " [15 14 13 12]]\n",
      "[[12 13 14 15]\n",
      " [ 8  9 10 11]\n",
      " [ 4  5  6  7]\n",
      " [ 0  1  2  3]]\n"
     ]
    }
   ],
   "source": [
    "a = np.arange(16).reshape(4, 4)\n",
    "print(np.fliplr(a))\n",
    "print(np.flipud(a))"
   ]
  },
  {
   "cell_type": "markdown",
   "id": "8e95cb7f",
   "metadata": {},
   "source": [
    "### NumPy 随机数"
   ]
  },
  {
   "cell_type": "code",
   "execution_count": 55,
   "id": "15e347cf",
   "metadata": {
    "ExecuteTime": {
     "end_time": "2021-12-04T03:39:56.082605Z",
     "start_time": "2021-12-04T03:39:56.071596Z"
    }
   },
   "outputs": [
    {
     "data": {
      "text/plain": [
       "array([[0.47995101, 0.74970385, 0.8433684 , 0.47471822, 0.10115318],\n",
       "       [0.89345792, 0.17426303, 0.43330829, 0.24976161, 0.51955766]])"
      ]
     },
     "execution_count": 55,
     "metadata": {},
     "output_type": "execute_result"
    }
   ],
   "source": [
    "np.random.rand(2, 5)"
   ]
  },
  {
   "cell_type": "code",
   "execution_count": 56,
   "id": "cc8238b7",
   "metadata": {
    "ExecuteTime": {
     "end_time": "2021-12-04T03:39:56.192605Z",
     "start_time": "2021-12-04T03:39:56.085577Z"
    }
   },
   "outputs": [
    {
     "data": {
      "text/plain": [
       "array([[-1.0999358 , -0.94617885,  0.76254423, -1.1342407 ,  0.2852457 ,\n",
       "         1.75940601, -0.29621778, -1.4598572 ,  1.24513658,  0.68471925]])"
      ]
     },
     "execution_count": 56,
     "metadata": {},
     "output_type": "execute_result"
    }
   ],
   "source": [
    "np.random.randn(1, 10)"
   ]
  },
  {
   "cell_type": "markdown",
   "id": "b358e048",
   "metadata": {},
   "source": [
    "`rand`为 $[0, 1)$ 之间的均匀分布，`randn`为 $\\mathcal{N}(0, 1)$ 标准正态分布。"
   ]
  },
  {
   "cell_type": "code",
   "execution_count": 57,
   "id": "032c9a55",
   "metadata": {
    "ExecuteTime": {
     "end_time": "2021-12-04T03:39:56.508578Z",
     "start_time": "2021-12-04T03:39:56.494577Z"
    }
   },
   "outputs": [
    {
     "data": {
      "text/plain": [
       "array([2, 3, 3, 4, 3, 4, 4, 2, 4, 2])"
      ]
     },
     "execution_count": 57,
     "metadata": {},
     "output_type": "execute_result"
    }
   ],
   "source": [
    "np.random.randint(2, 5, 10)"
   ]
  },
  {
   "cell_type": "code",
   "execution_count": 58,
   "id": "62370d96",
   "metadata": {
    "ExecuteTime": {
     "end_time": "2021-12-04T03:39:56.730608Z",
     "start_time": "2021-12-04T03:39:56.510583Z"
    }
   },
   "outputs": [
    {
     "data": {
      "text/plain": [
       "array([0.56308166, 0.27410332, 0.83072061, 0.4030126 , 0.07697096,\n",
       "       0.31732096, 0.02985666, 0.20866486, 0.7677158 , 0.88667253])"
      ]
     },
     "execution_count": 58,
     "metadata": {},
     "output_type": "execute_result"
    }
   ],
   "source": [
    "np.random.random_sample(10)"
   ]
  },
  {
   "cell_type": "code",
   "execution_count": 59,
   "id": "de3c29ec",
   "metadata": {
    "ExecuteTime": {
     "end_time": "2021-12-04T03:39:56.887578Z",
     "start_time": "2021-12-04T03:39:56.733579Z"
    }
   },
   "outputs": [
    {
     "data": {
      "text/plain": [
       "array([0, 1, 3, 5, 9])"
      ]
     },
     "execution_count": 59,
     "metadata": {},
     "output_type": "execute_result"
    }
   ],
   "source": [
    "np.random.choice(10, 5)"
   ]
  },
  {
   "cell_type": "markdown",
   "id": "5dcf96a5",
   "metadata": {},
   "source": [
    "### 概率密度分布\n",
    "\n",
    "- `numpy.random.beta(a，b，size)`：从 Beta 分布中生成随机数。\n",
    "- `numpy.random.binomial(n, p, size)`：从二项分布中生成随机数。\n",
    "- `numpy.random.chisquare(df，size)`：从卡方分布中生成随机数。\n",
    "- `numpy.random.dirichlet(alpha，size)`：从 Dirichlet 分布中生成随机数。\n",
    "- `numpy.random.exponential(scale，size)`：从指数分布中生成随机数。\n",
    "- `numpy.random.f(dfnum，dfden，size)`：从 F 分布中生成随机数。\n",
    "- `numpy.random.gamma(shape，scale，size)`：从 Gamma 分布中生成随机数。\n",
    "- `numpy.random.geometric(p，size)`：从几何分布中生成随机数。\n",
    "- `numpy.random.gumbel(loc，scale，size)`：从 Gumbel 分布中生成随机数。\n",
    "- `numpy.random.hypergeometric(ngood, nbad, nsample, size)`：从超几何分布中生成随机数。\n",
    "- `numpy.random.laplace(loc，scale，size)`：从拉普拉斯双指数分布中生成随机数。\n",
    "- `numpy.random.logistic(loc，scale，size)`：从逻辑分布中生成随机数。\n",
    "- `numpy.random.lognormal(mean，sigma，size)`：从对数正态分布中生成随机数。\n",
    "- `numpy.random.logseries(p，size)`：从对数系列分布中生成随机数。\n",
    "- `numpy.random.multinomial(n，pvals，size)`：从多项分布中生成随机数。\n",
    "- `numpy.random.multivariate_normal(mean, cov, size)`：从多变量正态分布绘制随机样本。\n",
    "- `numpy.random.negative_binomial(n, p, size)`：从负二项分布中生成随机数。\n",
    "- `numpy.random.noncentral_chisquare(df，nonc，size)`：从非中心卡方分布中生成随机数。\n",
    "- `numpy.random.noncentral_f(dfnum, dfden, nonc, size)`：从非中心 F 分布中抽取样本。\n",
    "- `numpy.random.normal(loc，scale，size)`：从正态分布绘制随机样本。\n",
    "- `numpy.random.pareto(a，size)`：从具有指定形状的 Pareto II 或 Lomax 分布中生成随机数。\n",
    "- `numpy.random.poisson(lam，size)`：从泊松分布中生成随机数。\n",
    "- `numpy.random.power(a，size)`：从具有正指数 a-1 的功率分布中在 0，1 中生成随机数。\n",
    "- `numpy.random.rayleigh(scale，size)`：从瑞利分布中生成随机数。\n",
    "- `numpy.random.standard_cauchy(size)`：从标准 Cauchy 分布中生成随机数。\n",
    "- `numpy.random.standard_exponential(size)`：从标准指数分布中生成随机数。\n",
    "- `numpy.random.standard_gamma(shape，size)`：从标准 Gamma 分布中生成随机数。\n",
    "- `numpy.random.standard_normal(size)`：从标准正态分布中生成随机数。\n",
    "- `numpy.random.standard_t(df，size)`：从具有 df 自由度的标准学生 t 分布中生成随机数。\n",
    "- `numpy.random.triangular(left，mode，right，size)`：从三角分布中生成随机数。\n",
    "- `numpy.random.uniform(low，high，size)`：从均匀分布中生成随机数。\n",
    "- `numpy.random.vonmises(mu，kappa，size)`：从 von Mises 分布中生成随机数。\n",
    "- `numpy.random.wald(mean，scale，size)`：从 Wald 或反高斯分布中生成随机数。\n",
    "- `numpy.random.weibull(a，size)`：从威布尔分布中生成随机数。\n",
    "- `numpy.random.zipf(a，size)`：从 Zipf 分布中生成随机数。"
   ]
  },
  {
   "cell_type": "markdown",
   "id": "67fe41f2",
   "metadata": {},
   "source": [
    "## 数学函数"
   ]
  },
  {
   "cell_type": "markdown",
   "id": "4d692e82",
   "metadata": {},
   "source": [
    "### 三角函数"
   ]
  },
  {
   "cell_type": "code",
   "execution_count": 60,
   "id": "ba1ef328",
   "metadata": {
    "ExecuteTime": {
     "end_time": "2021-12-04T03:39:58.074577Z",
     "start_time": "2021-12-04T03:39:58.067578Z"
    }
   },
   "outputs": [
    {
     "data": {
      "text/plain": [
       "0.49999999999999994"
      ]
     },
     "execution_count": 60,
     "metadata": {},
     "output_type": "execute_result"
    }
   ],
   "source": [
    "np.sin(np.pi / 6)"
   ]
  },
  {
   "cell_type": "code",
   "execution_count": 61,
   "id": "41952017",
   "metadata": {
    "ExecuteTime": {
     "end_time": "2021-12-04T03:39:58.202577Z",
     "start_time": "2021-12-04T03:39:58.076579Z"
    }
   },
   "outputs": [
    {
     "data": {
      "text/plain": [
       "0.5000000000000001"
      ]
     },
     "execution_count": 61,
     "metadata": {},
     "output_type": "execute_result"
    }
   ],
   "source": [
    "np.cos(np.pi / 3)"
   ]
  },
  {
   "cell_type": "code",
   "execution_count": 62,
   "id": "bc377e24",
   "metadata": {
    "ExecuteTime": {
     "end_time": "2021-12-04T03:39:58.311574Z",
     "start_time": "2021-12-04T03:39:58.204578Z"
    }
   },
   "outputs": [
    {
     "data": {
      "text/plain": [
       "0.9999999999999999"
      ]
     },
     "execution_count": 62,
     "metadata": {},
     "output_type": "execute_result"
    }
   ],
   "source": [
    "np.tan(np.pi / 4)"
   ]
  },
  {
   "cell_type": "code",
   "execution_count": 63,
   "id": "806689ab",
   "metadata": {
    "ExecuteTime": {
     "end_time": "2021-12-04T03:39:58.438575Z",
     "start_time": "2021-12-04T03:39:58.313578Z"
    }
   },
   "outputs": [
    {
     "data": {
      "text/plain": [
       "30.000000000000004"
      ]
     },
     "execution_count": 63,
     "metadata": {},
     "output_type": "execute_result"
    }
   ],
   "source": [
    "np.rad2deg(np.arcsin(0.5))"
   ]
  },
  {
   "cell_type": "code",
   "execution_count": 64,
   "id": "3233fc37",
   "metadata": {
    "ExecuteTime": {
     "end_time": "2021-12-04T03:39:58.548578Z",
     "start_time": "2021-12-04T03:39:58.441578Z"
    }
   },
   "outputs": [
    {
     "data": {
      "text/plain": [
       "60.00000000000001"
      ]
     },
     "execution_count": 64,
     "metadata": {},
     "output_type": "execute_result"
    }
   ],
   "source": [
    "np.rad2deg(np.arccos(0.5))"
   ]
  },
  {
   "cell_type": "code",
   "execution_count": 65,
   "id": "812d52f0",
   "metadata": {
    "ExecuteTime": {
     "end_time": "2021-12-04T03:39:58.644610Z",
     "start_time": "2021-12-04T03:39:58.550577Z"
    }
   },
   "outputs": [
    {
     "data": {
      "text/plain": [
       "45.0"
      ]
     },
     "execution_count": 65,
     "metadata": {},
     "output_type": "execute_result"
    }
   ],
   "source": [
    "np.rad2deg(np.arctan(1))"
   ]
  },
  {
   "cell_type": "code",
   "execution_count": 66,
   "id": "4845cd44",
   "metadata": {
    "ExecuteTime": {
     "end_time": "2021-12-04T03:39:58.772605Z",
     "start_time": "2021-12-04T03:39:58.646577Z"
    }
   },
   "outputs": [
    {
     "data": {
      "text/plain": [
       "13.0"
      ]
     },
     "execution_count": 66,
     "metadata": {},
     "output_type": "execute_result"
    }
   ],
   "source": [
    "np.hypot(5, 12)"
   ]
  },
  {
   "cell_type": "markdown",
   "id": "53aacc1e",
   "metadata": {},
   "source": [
    "### 双曲函数\n",
    "\n",
    "- `numpy.sinh(x)`：双曲正弦。\n",
    "- `numpy.cosh(x)`：双曲余弦。\n",
    "- `numpy.tanh(x)`：双曲正切。\n",
    "- `numpy.arcsinh(x)`：反双曲正弦。\n",
    "- `numpy.arccosh(x)`：反双曲余弦。\n",
    "- `numpy.arctanh(x)`：反双曲正切。"
   ]
  },
  {
   "cell_type": "markdown",
   "id": "84e3735e",
   "metadata": {},
   "source": [
    "### 数值修约"
   ]
  },
  {
   "cell_type": "code",
   "execution_count": 67,
   "id": "f0e8ae0b",
   "metadata": {
    "ExecuteTime": {
     "end_time": "2021-12-04T03:39:59.011578Z",
     "start_time": "2021-12-04T03:39:58.997588Z"
    }
   },
   "outputs": [
    {
     "data": {
      "text/plain": [
       "array([-1.098658  , -0.49230871,  2.10053113,  2.39149488,  1.23407559])"
      ]
     },
     "execution_count": 67,
     "metadata": {},
     "output_type": "execute_result"
    }
   ],
   "source": [
    "a = np.random.randn(5)\n",
    "a"
   ]
  },
  {
   "cell_type": "code",
   "execution_count": 68,
   "id": "7806ca98",
   "metadata": {
    "ExecuteTime": {
     "end_time": "2021-12-04T03:39:59.090597Z",
     "start_time": "2021-12-04T03:39:59.013578Z"
    }
   },
   "outputs": [
    {
     "data": {
      "text/plain": [
       "array([-1., -0.,  2.,  2.,  1.])"
      ]
     },
     "execution_count": 68,
     "metadata": {},
     "output_type": "execute_result"
    }
   ],
   "source": [
    "np.around(a)"
   ]
  },
  {
   "cell_type": "code",
   "execution_count": 69,
   "id": "2a1b9425",
   "metadata": {
    "ExecuteTime": {
     "end_time": "2021-12-04T03:39:59.169579Z",
     "start_time": "2021-12-04T03:39:59.092577Z"
    }
   },
   "outputs": [
    {
     "data": {
      "text/plain": [
       "array([-1., -0.,  2.,  2.,  1.])"
      ]
     },
     "execution_count": 69,
     "metadata": {},
     "output_type": "execute_result"
    }
   ],
   "source": [
    "np.round_(a)"
   ]
  },
  {
   "cell_type": "code",
   "execution_count": 70,
   "id": "63134187",
   "metadata": {
    "ExecuteTime": {
     "end_time": "2021-12-04T03:39:59.248612Z",
     "start_time": "2021-12-04T03:39:59.171577Z"
    }
   },
   "outputs": [
    {
     "data": {
      "text/plain": [
       "array([-1., -0.,  2.,  2.,  1.])"
      ]
     },
     "execution_count": 70,
     "metadata": {},
     "output_type": "execute_result"
    }
   ],
   "source": [
    "np.rint(a)"
   ]
  },
  {
   "cell_type": "code",
   "execution_count": 71,
   "id": "e20e7961",
   "metadata": {
    "ExecuteTime": {
     "end_time": "2021-12-04T03:39:59.311577Z",
     "start_time": "2021-12-04T03:39:59.250578Z"
    }
   },
   "outputs": [
    {
     "data": {
      "text/plain": [
       "array([-1., -0.,  2.,  2.,  1.])"
      ]
     },
     "execution_count": 71,
     "metadata": {},
     "output_type": "execute_result"
    }
   ],
   "source": [
    "np.fix(a)"
   ]
  },
  {
   "cell_type": "code",
   "execution_count": 72,
   "id": "22abe3fd",
   "metadata": {
    "ExecuteTime": {
     "end_time": "2021-12-04T03:39:59.388575Z",
     "start_time": "2021-12-04T03:39:59.313577Z"
    }
   },
   "outputs": [
    {
     "data": {
      "text/plain": [
       "array([-2., -1.,  2.,  2.,  1.])"
      ]
     },
     "execution_count": 72,
     "metadata": {},
     "output_type": "execute_result"
    }
   ],
   "source": [
    "np.floor(a)"
   ]
  },
  {
   "cell_type": "code",
   "execution_count": 73,
   "id": "5833c1d7",
   "metadata": {
    "ExecuteTime": {
     "end_time": "2021-12-04T03:39:59.500576Z",
     "start_time": "2021-12-04T03:39:59.390579Z"
    }
   },
   "outputs": [
    {
     "data": {
      "text/plain": [
       "array([-1., -0.,  3.,  3.,  2.])"
      ]
     },
     "execution_count": 73,
     "metadata": {},
     "output_type": "execute_result"
    }
   ],
   "source": [
    "np.ceil(a)"
   ]
  },
  {
   "cell_type": "code",
   "execution_count": 74,
   "id": "61ea39fa",
   "metadata": {
    "ExecuteTime": {
     "end_time": "2021-12-04T03:39:59.564577Z",
     "start_time": "2021-12-04T03:39:59.502578Z"
    }
   },
   "outputs": [
    {
     "data": {
      "text/plain": [
       "array([-1., -0.,  2.,  2.,  1.])"
      ]
     },
     "execution_count": 74,
     "metadata": {},
     "output_type": "execute_result"
    }
   ],
   "source": [
    "np.trunc(a)"
   ]
  },
  {
   "cell_type": "markdown",
   "id": "8e007848",
   "metadata": {},
   "source": [
    "### 求和、求积、差分"
   ]
  },
  {
   "cell_type": "code",
   "execution_count": 75,
   "id": "be9f3225",
   "metadata": {
    "ExecuteTime": {
     "end_time": "2021-12-04T03:39:59.660607Z",
     "start_time": "2021-12-04T03:39:59.567616Z"
    }
   },
   "outputs": [
    {
     "data": {
      "text/plain": [
       "array([0, 1, 2, 3, 4, 5, 6, 7, 8, 9])"
      ]
     },
     "execution_count": 75,
     "metadata": {},
     "output_type": "execute_result"
    }
   ],
   "source": [
    "a = np.arange(10)\n",
    "a"
   ]
  },
  {
   "cell_type": "code",
   "execution_count": 76,
   "id": "a4f410f5",
   "metadata": {
    "ExecuteTime": {
     "end_time": "2021-12-04T03:39:59.722600Z",
     "start_time": "2021-12-04T03:39:59.661577Z"
    }
   },
   "outputs": [
    {
     "data": {
      "text/plain": [
       "0"
      ]
     },
     "execution_count": 76,
     "metadata": {},
     "output_type": "execute_result"
    }
   ],
   "source": [
    "np.prod(a)"
   ]
  },
  {
   "cell_type": "code",
   "execution_count": 77,
   "id": "399fd76f",
   "metadata": {
    "ExecuteTime": {
     "end_time": "2021-12-04T03:39:59.817575Z",
     "start_time": "2021-12-04T03:39:59.724579Z"
    }
   },
   "outputs": [
    {
     "data": {
      "text/plain": [
       "45"
      ]
     },
     "execution_count": 77,
     "metadata": {},
     "output_type": "execute_result"
    }
   ],
   "source": [
    "np.sum(a)"
   ]
  },
  {
   "cell_type": "markdown",
   "id": "c3c1a4b1",
   "metadata": {},
   "source": [
    "- `numpy.nanprod(a, axis, dtype, keepdims)`：返回指定轴上的数组元素的乘积, 将 NaN 视作 1。\n",
    "- `numpy.nansum(a, axis, dtype, keepdims)`：返回指定轴上的数组元素的总和, 将 NaN 视作 0。\n",
    "- `numpy.cumprod(a, axis, dtype)`：返回沿给定轴的元素的累积乘积。\n",
    "- `numpy.cumsum(a, axis, dtype)`：返回沿给定轴的元素的累积总和。\n",
    "- `numpy.nancumprod(a, axis, dtype)`：返回沿给定轴的元素的累积乘积, 将 NaN 视作 1。\n",
    "- `numpy.nancumsum(a, axis, dtype)`：返回沿给定轴的元素的累积总和, 将 NaN 视作 0。"
   ]
  },
  {
   "cell_type": "code",
   "execution_count": 78,
   "id": "729e4382",
   "metadata": {
    "ExecuteTime": {
     "end_time": "2021-12-04T03:40:00.068577Z",
     "start_time": "2021-12-04T03:40:00.053577Z"
    }
   },
   "outputs": [
    {
     "data": {
      "text/plain": [
       "array([1, 1, 1, 1, 1, 1, 1, 1, 1])"
      ]
     },
     "execution_count": 78,
     "metadata": {},
     "output_type": "execute_result"
    }
   ],
   "source": [
    "np.diff(a)"
   ]
  },
  {
   "cell_type": "code",
   "execution_count": 79,
   "id": "add59422",
   "metadata": {
    "ExecuteTime": {
     "end_time": "2021-12-04T03:40:00.148606Z",
     "start_time": "2021-12-04T03:40:00.070581Z"
    }
   },
   "outputs": [
    {
     "data": {
      "text/plain": [
       "array([1, 1, 1, 1, 1, 1, 1, 1, 1])"
      ]
     },
     "execution_count": 79,
     "metadata": {},
     "output_type": "execute_result"
    }
   ],
   "source": [
    "np.ediff1d(a)"
   ]
  },
  {
   "cell_type": "code",
   "execution_count": 80,
   "id": "d569517c",
   "metadata": {
    "ExecuteTime": {
     "end_time": "2021-12-04T03:40:00.244576Z",
     "start_time": "2021-12-04T03:40:00.150576Z"
    }
   },
   "outputs": [
    {
     "data": {
      "text/plain": [
       "array([1., 1., 1., 1., 1., 1., 1., 1., 1., 1.])"
      ]
     },
     "execution_count": 80,
     "metadata": {},
     "output_type": "execute_result"
    }
   ],
   "source": [
    "np.gradient(a)"
   ]
  },
  {
   "cell_type": "markdown",
   "id": "89b0f79d",
   "metadata": {},
   "source": [
    "- `numpy.cross(a, b, axisa, axisb, axisc, axis)`：返回两个(数组）向量的叉积。"
   ]
  },
  {
   "cell_type": "code",
   "execution_count": 81,
   "id": "c433c65e",
   "metadata": {
    "ExecuteTime": {
     "end_time": "2021-12-04T03:40:00.548576Z",
     "start_time": "2021-12-04T03:40:00.531578Z"
    }
   },
   "outputs": [
    {
     "data": {
      "text/plain": [
       "40.5"
      ]
     },
     "execution_count": 81,
     "metadata": {},
     "output_type": "execute_result"
    }
   ],
   "source": [
    "np.trapz(a)"
   ]
  },
  {
   "cell_type": "markdown",
   "id": "ae9c1532",
   "metadata": {},
   "source": [
    "### 指数和对数\n",
    "\n",
    "- `numpy.exp(x)`：计算输入数组中所有元素的自然指数。\n",
    "- `numpy.log(x)`：计算自然对数。\n",
    "- `numpy.log10(x)`：计算常用对数（以 $10$ 为底）。\n",
    "- `numpy.log2(x)`：计算二进制对数。"
   ]
  },
  {
   "cell_type": "markdown",
   "id": "1bef3756",
   "metadata": {},
   "source": [
    "### 算术运算"
   ]
  },
  {
   "cell_type": "code",
   "execution_count": 82,
   "id": "7014d481",
   "metadata": {
    "ExecuteTime": {
     "end_time": "2021-12-04T03:40:01.484607Z",
     "start_time": "2021-12-04T03:40:01.471600Z"
    }
   },
   "outputs": [
    {
     "data": {
      "text/plain": [
       "(array([8., 0., 7., 4., 9.], dtype=float32),\n",
       " array([6., 4., 9., 9., 7.], dtype=float32))"
      ]
     },
     "execution_count": 82,
     "metadata": {},
     "output_type": "execute_result"
    }
   ],
   "source": [
    "a = np.random.randint(0, 10, 5).astype('float32')\n",
    "b = np.random.randint(0, 10, 5).astype('float32')\n",
    "a, b"
   ]
  },
  {
   "cell_type": "code",
   "execution_count": 83,
   "id": "7aac41a8",
   "metadata": {
    "ExecuteTime": {
     "end_time": "2021-12-04T03:40:01.547576Z",
     "start_time": "2021-12-04T03:40:01.486577Z"
    }
   },
   "outputs": [
    {
     "data": {
      "text/plain": [
       "array([14.,  4., 16., 13., 16.], dtype=float32)"
      ]
     },
     "execution_count": 83,
     "metadata": {},
     "output_type": "execute_result"
    }
   ],
   "source": [
    "np.add(a, b)"
   ]
  },
  {
   "cell_type": "code",
   "execution_count": 84,
   "id": "1349d1f3",
   "metadata": {
    "ExecuteTime": {
     "end_time": "2021-12-04T03:40:01.642598Z",
     "start_time": "2021-12-04T03:40:01.549578Z"
    }
   },
   "outputs": [
    {
     "data": {
      "text/plain": [
       "array([0.16666667, 0.25      , 0.11111111, 0.11111111, 0.14285715],\n",
       "      dtype=float32)"
      ]
     },
     "execution_count": 84,
     "metadata": {},
     "output_type": "execute_result"
    }
   ],
   "source": [
    "np.reciprocal(b)"
   ]
  },
  {
   "cell_type": "code",
   "execution_count": 85,
   "id": "a5869105",
   "metadata": {
    "ExecuteTime": {
     "end_time": "2021-12-04T03:40:01.706606Z",
     "start_time": "2021-12-04T03:40:01.645578Z"
    }
   },
   "outputs": [
    {
     "data": {
      "text/plain": [
       "array([-8., -0., -7., -4., -9.], dtype=float32)"
      ]
     },
     "execution_count": 85,
     "metadata": {},
     "output_type": "execute_result"
    }
   ],
   "source": [
    "np.negative(a)"
   ]
  },
  {
   "cell_type": "code",
   "execution_count": 86,
   "id": "9388cd0e",
   "metadata": {
    "ExecuteTime": {
     "end_time": "2021-12-04T03:40:01.800579Z",
     "start_time": "2021-12-04T03:40:01.708589Z"
    }
   },
   "outputs": [
    {
     "data": {
      "text/plain": [
       "array([48.,  0., 63., 36., 63.], dtype=float32)"
      ]
     },
     "execution_count": 86,
     "metadata": {},
     "output_type": "execute_result"
    }
   ],
   "source": [
    "np.multiply(a, b)"
   ]
  },
  {
   "cell_type": "code",
   "execution_count": 87,
   "id": "33c4d51d",
   "metadata": {
    "ExecuteTime": {
     "end_time": "2021-12-04T03:40:01.864608Z",
     "start_time": "2021-12-04T03:40:01.802576Z"
    }
   },
   "outputs": [
    {
     "data": {
      "text/plain": [
       "array([1.3333334 , 0.        , 0.7777778 , 0.44444445, 1.2857143 ],\n",
       "      dtype=float32)"
      ]
     },
     "execution_count": 87,
     "metadata": {},
     "output_type": "execute_result"
    }
   ],
   "source": [
    "np.divide(a, b)"
   ]
  },
  {
   "cell_type": "code",
   "execution_count": 88,
   "id": "d34bc008",
   "metadata": {
    "ExecuteTime": {
     "end_time": "2021-12-04T03:40:01.960578Z",
     "start_time": "2021-12-04T03:40:01.866586Z"
    }
   },
   "outputs": [
    {
     "data": {
      "text/plain": [
       "array([  262144.,        0., 40353608.,   262144.,  4782969.],\n",
       "      dtype=float32)"
      ]
     },
     "execution_count": 88,
     "metadata": {},
     "output_type": "execute_result"
    }
   ],
   "source": [
    "np.power(a, b)"
   ]
  },
  {
   "cell_type": "code",
   "execution_count": 89,
   "id": "6480dc29",
   "metadata": {
    "ExecuteTime": {
     "end_time": "2021-12-04T03:40:02.148574Z",
     "start_time": "2021-12-04T03:40:01.962578Z"
    }
   },
   "outputs": [
    {
     "data": {
      "text/plain": [
       "array([ 2., -4., -2., -5.,  2.], dtype=float32)"
      ]
     },
     "execution_count": 89,
     "metadata": {},
     "output_type": "execute_result"
    }
   ],
   "source": [
    "np.subtract(a, b)"
   ]
  },
  {
   "cell_type": "code",
   "execution_count": 90,
   "id": "aab16a6a",
   "metadata": {
    "ExecuteTime": {
     "end_time": "2021-12-04T03:40:02.338576Z",
     "start_time": "2021-12-04T03:40:02.150577Z"
    }
   },
   "outputs": [
    {
     "data": {
      "text/plain": [
       "array([2., 0., 7., 4., 2.], dtype=float32)"
      ]
     },
     "execution_count": 90,
     "metadata": {},
     "output_type": "execute_result"
    }
   ],
   "source": [
    "np.fmod(a, b)"
   ]
  },
  {
   "cell_type": "code",
   "execution_count": 91,
   "id": "44da7b17",
   "metadata": {
    "ExecuteTime": {
     "end_time": "2021-12-04T03:40:02.508600Z",
     "start_time": "2021-12-04T03:40:02.341578Z"
    }
   },
   "outputs": [
    {
     "data": {
      "text/plain": [
       "array([2., 0., 7., 4., 2.], dtype=float32)"
      ]
     },
     "execution_count": 91,
     "metadata": {},
     "output_type": "execute_result"
    }
   ],
   "source": [
    "np.mod(a, b)"
   ]
  },
  {
   "cell_type": "code",
   "execution_count": 92,
   "id": "10df9e70",
   "metadata": {
    "ExecuteTime": {
     "end_time": "2021-12-04T03:40:02.604597Z",
     "start_time": "2021-12-04T03:40:02.510576Z"
    }
   },
   "outputs": [
    {
     "data": {
      "text/plain": [
       "(array([0., 0., 0., 0., 0.], dtype=float32),\n",
       " array([8., 0., 7., 4., 9.], dtype=float32))"
      ]
     },
     "execution_count": 92,
     "metadata": {},
     "output_type": "execute_result"
    }
   ],
   "source": [
    "np.modf(a)"
   ]
  },
  {
   "cell_type": "code",
   "execution_count": 93,
   "id": "628adc60",
   "metadata": {
    "ExecuteTime": {
     "end_time": "2021-12-04T03:40:02.684574Z",
     "start_time": "2021-12-04T03:40:02.606589Z"
    }
   },
   "outputs": [
    {
     "data": {
      "text/plain": [
       "array([2., 0., 7., 4., 2.], dtype=float32)"
      ]
     },
     "execution_count": 93,
     "metadata": {},
     "output_type": "execute_result"
    }
   ],
   "source": [
    "np.remainder(a, b)"
   ]
  },
  {
   "cell_type": "markdown",
   "id": "853568fc",
   "metadata": {},
   "source": [
    "### 矩阵和向量积"
   ]
  },
  {
   "cell_type": "code",
   "execution_count": 94,
   "id": "ee44c1d6",
   "metadata": {
    "ExecuteTime": {
     "end_time": "2021-12-04T03:40:02.764576Z",
     "start_time": "2021-12-04T03:40:02.686578Z"
    }
   },
   "outputs": [
    {
     "data": {
      "text/plain": [
       "matrix([[20, 20],\n",
       "        [47, 47]])"
      ]
     },
     "execution_count": 94,
     "metadata": {},
     "output_type": "execute_result"
    }
   ],
   "source": [
    "a = np.matrix(((1, 2, 3), (4, 5, 6)))\n",
    "b = np.matrix([[2, 2], [3, 3], [4, 4]])\n",
    "np.dot(a, b)  # 矩阵点积"
   ]
  },
  {
   "cell_type": "code",
   "execution_count": 95,
   "id": "cfd2664f",
   "metadata": {
    "ExecuteTime": {
     "end_time": "2021-12-04T03:40:02.876578Z",
     "start_time": "2021-12-04T03:40:02.766577Z"
    },
    "scrolled": true
   },
   "outputs": [
    {
     "data": {
      "text/plain": [
       "matrix([[2]])"
      ]
     },
     "execution_count": 95,
     "metadata": {},
     "output_type": "execute_result"
    }
   ],
   "source": [
    "np.vdot(a, b)  # 向量点积"
   ]
  },
  {
   "cell_type": "markdown",
   "id": "27a82115",
   "metadata": {},
   "source": [
    "- `numpy.inner(a, b)`：求解两个数组的内积。"
   ]
  },
  {
   "cell_type": "code",
   "execution_count": 96,
   "id": "d9a54861",
   "metadata": {
    "ExecuteTime": {
     "end_time": "2021-12-04T03:40:02.956607Z",
     "start_time": "2021-12-04T03:40:02.879578Z"
    }
   },
   "outputs": [
    {
     "data": {
      "text/plain": [
       "array([[ 2,  2,  3,  3,  4,  4],\n",
       "       [ 4,  4,  6,  6,  8,  8],\n",
       "       [ 6,  6,  9,  9, 12, 12],\n",
       "       [ 8,  8, 12, 12, 16, 16],\n",
       "       [10, 10, 15, 15, 20, 20],\n",
       "       [12, 12, 18, 18, 24, 24]])"
      ]
     },
     "execution_count": 96,
     "metadata": {},
     "output_type": "execute_result"
    }
   ],
   "source": [
    "np.outer(a, b)  # 向量外积"
   ]
  },
  {
   "cell_type": "markdown",
   "id": "c6026a46",
   "metadata": {
    "ExecuteTime": {
     "end_time": "2021-12-03T06:30:15.997810Z",
     "start_time": "2021-12-03T06:30:15.973862Z"
    }
   },
   "source": [
    "- `numpy.tensordot(a, b)`：求解张量点积。"
   ]
  },
  {
   "cell_type": "code",
   "execution_count": 97,
   "id": "eedca462",
   "metadata": {
    "ExecuteTime": {
     "end_time": "2021-12-04T03:40:03.052577Z",
     "start_time": "2021-12-04T03:40:03.000579Z"
    },
    "scrolled": true
   },
   "outputs": [
    {
     "data": {
      "text/plain": [
       "matrix([[ 2,  2,  4,  4,  6,  6],\n",
       "        [ 3,  3,  6,  6,  9,  9],\n",
       "        [ 4,  4,  8,  8, 12, 12],\n",
       "        [ 8,  8, 10, 10, 12, 12],\n",
       "        [12, 12, 15, 15, 18, 18],\n",
       "        [16, 16, 20, 20, 24, 24]])"
      ]
     },
     "execution_count": 97,
     "metadata": {},
     "output_type": "execute_result"
    }
   ],
   "source": [
    "np.kron(a, b)  # Kronecker 乘积"
   ]
  },
  {
   "cell_type": "markdown",
   "id": "f1a17a37",
   "metadata": {},
   "source": [
    "### 数学运算\n",
    "\n",
    "- `numpy.angle(z, deg)`：返回复参数的角度。\n",
    "- `numpy.real(val)`：返回数组元素的实部。\n",
    "- `numpy.imag(val)`：返回数组元素的虚部。\n",
    "- `numpy.conj(x)`：按元素方式返回共轭复数。\n",
    "- `numpy.convolve(a, v, mode)`：返回线性卷积。\n",
    "- `numpy.sqrt(x)`：平方根。\n",
    "- `numpy.cbrt(x)`：立方根。\n",
    "- `numpy.square(x)`：平方。\n",
    "- `numpy.absolute(x)`：绝对值, 可求解复数。\n",
    "- `numpy.fabs(x)`：绝对值。\n",
    "- `numpy.sign(x)`：符号函数。\n",
    "- `numpy.maximum(x1, x2)`：最大值。\n",
    "- `numpy.minimum(x1, x2)`：最小值。\n",
    "- `numpy.nan_to_num(x)`：用 0 替换 NaN。\n",
    "- `numpy.interp(x, xp, fp, left, right, period)`：线性插值。"
   ]
  },
  {
   "cell_type": "markdown",
   "id": "d48fe0a9",
   "metadata": {},
   "source": [
    "### 线性代数\n",
    "\n",
    "- `numpy.linalg.cholesky(a)`：Cholesky 分解。\n",
    "- `numpy.linalg.qr(a ,mode)`：计算矩阵的 QR 因式分解。\n",
    "- `numpy.linalg.svd(a ,full_matrices,compute_uv)`：奇异值分解。\n",
    "- `numpy.linalg.eig(a)`：计算正方形数组的特征值和右特征向量。\n",
    "- `numpy.linalg.eigh(a, UPLO)`：返回 Hermitian 或对称矩阵的特征值和特征向量。\n",
    "- `numpy.linalg.eigvals(a)`：计算矩阵的特征值。\n",
    "- `numpy.linalg.eigvalsh(a, UPLO)`：计算 Hermitian 或真实对称矩阵的特征值。\n",
    "- `numpy.linalg.norm(x ,ord,axis,keepdims)`：计算矩阵或向量范数。\n",
    "- `numpy.linalg.cond(x ,p)`：计算矩阵的条件数。\n",
    "- `numpy.linalg.det(a)`：计算数组的行列式。\n",
    "- `numpy.linalg.matrix_rank(M ,tol)`：使用奇异值分解方法返回秩。\n",
    "- `numpy.linalg.slogdet(a)`：计算数组的行列式的符号和自然对数。\n",
    "- `numpy.trace(a ,offset,axis1,axis2,dtype,out)`：沿数组的对角线返回总和。\n",
    "- `numpy.linalg.solve(a, b)`：求解线性矩阵方程或线性标量方程组。\n",
    "- `numpy.linalg.tensorsolve(a, b ,axes)`：为 x 解出张量方程 a x = b\n",
    "- `numpy.linalg.lstsq(a, b ,rcond)`：将最小二乘解返回到线性矩阵方程。\n",
    "- `numpy.linalg.inv(a)`：计算逆矩阵。\n",
    "- `numpy.linalg.pinv(a ,rcond)`：计算矩阵的（Moore-Penrose）伪逆。\n",
    "- `numpy.linalg.tensorinv(a ,ind)`：计算 N 维数组的逆。"
   ]
  },
  {
   "cell_type": "markdown",
   "id": "b5f46ce7",
   "metadata": {},
   "source": [
    "## 数组索引和切片"
   ]
  },
  {
   "cell_type": "markdown",
   "id": "01e5213a",
   "metadata": {},
   "source": [
    "### 数组索引"
   ]
  },
  {
   "cell_type": "code",
   "execution_count": 98,
   "id": "7998563e",
   "metadata": {
    "ExecuteTime": {
     "end_time": "2021-12-04T03:40:04.852592Z",
     "start_time": "2021-12-04T03:40:04.841577Z"
    }
   },
   "outputs": [
    {
     "data": {
      "text/plain": [
       "array([0, 1, 2, 3, 4, 5, 6, 7, 8, 9])"
      ]
     },
     "execution_count": 98,
     "metadata": {},
     "output_type": "execute_result"
    }
   ],
   "source": [
    "a = np.arange(10)\n",
    "a"
   ]
  },
  {
   "cell_type": "code",
   "execution_count": 99,
   "id": "b0b832d1",
   "metadata": {
    "ExecuteTime": {
     "end_time": "2021-12-04T03:40:04.932576Z",
     "start_time": "2021-12-04T03:40:04.854577Z"
    }
   },
   "outputs": [
    {
     "data": {
      "text/plain": [
       "1"
      ]
     },
     "execution_count": 99,
     "metadata": {},
     "output_type": "execute_result"
    }
   ],
   "source": [
    "a[1]"
   ]
  },
  {
   "cell_type": "code",
   "execution_count": 100,
   "id": "603dc0fd",
   "metadata": {
    "ExecuteTime": {
     "end_time": "2021-12-04T03:40:05.124607Z",
     "start_time": "2021-12-04T03:40:04.935580Z"
    }
   },
   "outputs": [
    {
     "data": {
      "text/plain": [
       "array([1, 2, 3])"
      ]
     },
     "execution_count": 100,
     "metadata": {},
     "output_type": "execute_result"
    }
   ],
   "source": [
    "a[[1, 2, 3]]  # 获取多个元素"
   ]
  },
  {
   "cell_type": "code",
   "execution_count": 101,
   "id": "28007d43",
   "metadata": {
    "ExecuteTime": {
     "end_time": "2021-12-04T03:40:05.298605Z",
     "start_time": "2021-12-04T03:40:05.127577Z"
    }
   },
   "outputs": [
    {
     "data": {
      "text/plain": [
       "array([[ 0,  1,  2,  3,  4],\n",
       "       [ 5,  6,  7,  8,  9],\n",
       "       [10, 11, 12, 13, 14],\n",
       "       [15, 16, 17, 18, 19]])"
      ]
     },
     "execution_count": 101,
     "metadata": {},
     "output_type": "execute_result"
    }
   ],
   "source": [
    "a = np.arange(20).reshape(4, 5)\n",
    "a"
   ]
  },
  {
   "cell_type": "code",
   "execution_count": 102,
   "id": "0c948cf4",
   "metadata": {
    "ExecuteTime": {
     "end_time": "2021-12-04T03:40:05.375577Z",
     "start_time": "2021-12-04T03:40:05.300580Z"
    }
   },
   "outputs": [
    {
     "data": {
      "text/plain": [
       "7"
      ]
     },
     "execution_count": 102,
     "metadata": {},
     "output_type": "execute_result"
    }
   ],
   "source": [
    "a[1, 2]"
   ]
  },
  {
   "cell_type": "code",
   "execution_count": 103,
   "id": "c61ce180",
   "metadata": {
    "ExecuteTime": {
     "end_time": "2021-12-04T03:40:05.454604Z",
     "start_time": "2021-12-04T03:40:05.378578Z"
    }
   },
   "outputs": [
    {
     "data": {
      "text/plain": [
       "[[0, 1, 2, 3, 4], [5, 6, 7, 8, 9], [10, 11, 12, 13, 14], [15, 16, 17, 18, 19]]"
      ]
     },
     "execution_count": 103,
     "metadata": {},
     "output_type": "execute_result"
    }
   ],
   "source": [
    "a = a.tolist()\n",
    "a"
   ]
  },
  {
   "cell_type": "code",
   "execution_count": 104,
   "id": "7baa71cd",
   "metadata": {
    "ExecuteTime": {
     "end_time": "2021-12-04T03:40:05.598609Z",
     "start_time": "2021-12-04T03:40:05.456577Z"
    }
   },
   "outputs": [
    {
     "name": "stderr",
     "output_type": "stream",
     "text": [
      "list indices must be integers or slices, not tuple\n"
     ]
    }
   ],
   "source": [
    "from sys import stderr\n",
    "\n",
    "try:\n",
    "    a[1, 2]\n",
    "except Exception as e:\n",
    "    print(e, file=stderr)"
   ]
  },
  {
   "cell_type": "code",
   "execution_count": 105,
   "id": "6ceede5b",
   "metadata": {
    "ExecuteTime": {
     "end_time": "2021-12-04T03:40:05.678575Z",
     "start_time": "2021-12-04T03:40:05.600576Z"
    }
   },
   "outputs": [
    {
     "data": {
      "text/plain": [
       "7"
      ]
     },
     "execution_count": 105,
     "metadata": {},
     "output_type": "execute_result"
    }
   ],
   "source": [
    "a[1][2]"
   ]
  },
  {
   "cell_type": "code",
   "execution_count": 106,
   "id": "b0870767",
   "metadata": {
    "ExecuteTime": {
     "end_time": "2021-12-04T03:40:05.775579Z",
     "start_time": "2021-12-04T03:40:05.680578Z"
    }
   },
   "outputs": [
    {
     "data": {
      "text/plain": [
       "array([[ 0,  1,  2,  3,  4],\n",
       "       [ 5,  6,  7,  8,  9],\n",
       "       [10, 11, 12, 13, 14],\n",
       "       [15, 16, 17, 18, 19]])"
      ]
     },
     "execution_count": 106,
     "metadata": {},
     "output_type": "execute_result"
    }
   ],
   "source": [
    "a = np.arange(20).reshape(4, 5)\n",
    "a"
   ]
  },
  {
   "cell_type": "code",
   "execution_count": 107,
   "id": "32346f40",
   "metadata": {
    "ExecuteTime": {
     "end_time": "2021-12-04T03:40:05.854609Z",
     "start_time": "2021-12-04T03:40:05.779580Z"
    }
   },
   "outputs": [
    {
     "data": {
      "text/plain": [
       "array([ 8, 14])"
      ]
     },
     "execution_count": 107,
     "metadata": {},
     "output_type": "execute_result"
    }
   ],
   "source": [
    "a[[1, 2], [3, 4]]"
   ]
  },
  {
   "cell_type": "markdown",
   "id": "357e41dd",
   "metadata": {},
   "source": [
    "这里需要注意索引的对应关系。我们实际获取的是 `[1, 3]`，也就是第 `2` 行和第 `4` 列对于的值 `8`。以及 `[2, 4]`，也就是第 `3` 行和第 `5` 列对应的值 `14`。"
   ]
  },
  {
   "cell_type": "code",
   "execution_count": 108,
   "id": "62260d7a",
   "metadata": {
    "ExecuteTime": {
     "end_time": "2021-12-04T03:40:05.934601Z",
     "start_time": "2021-12-04T03:40:05.856581Z"
    }
   },
   "outputs": [
    {
     "data": {
      "text/plain": [
       "array([[[ 0,  1,  2],\n",
       "        [ 3,  4,  5],\n",
       "        [ 6,  7,  8],\n",
       "        [ 9, 10, 11],\n",
       "        [12, 13, 14]],\n",
       "\n",
       "       [[15, 16, 17],\n",
       "        [18, 19, 20],\n",
       "        [21, 22, 23],\n",
       "        [24, 25, 26],\n",
       "        [27, 28, 29]]])"
      ]
     },
     "execution_count": 108,
     "metadata": {},
     "output_type": "execute_result"
    }
   ],
   "source": [
    "a = np.arange(30).reshape(2, 5, 3)\n",
    "a"
   ]
  },
  {
   "cell_type": "code",
   "execution_count": 109,
   "id": "cb9bfeb3",
   "metadata": {
    "ExecuteTime": {
     "end_time": "2021-12-04T03:40:06.030575Z",
     "start_time": "2021-12-04T03:40:05.936577Z"
    }
   },
   "outputs": [
    {
     "data": {
      "text/plain": [
       "array([ 4, 23])"
      ]
     },
     "execution_count": 109,
     "metadata": {},
     "output_type": "execute_result"
    }
   ],
   "source": [
    "a[[0, 1], [1, 2], [1, 2]]"
   ]
  },
  {
   "cell_type": "markdown",
   "id": "173e6f95",
   "metadata": {},
   "source": [
    "### 数组切片"
   ]
  },
  {
   "cell_type": "code",
   "execution_count": 110,
   "id": "8987fce7",
   "metadata": {
    "ExecuteTime": {
     "end_time": "2021-12-04T03:40:06.252579Z",
     "start_time": "2021-12-04T03:40:06.033576Z"
    }
   },
   "outputs": [
    {
     "data": {
      "text/plain": [
       "array([0, 1, 2, 3, 4, 5, 6, 7, 8, 9])"
      ]
     },
     "execution_count": 110,
     "metadata": {},
     "output_type": "execute_result"
    }
   ],
   "source": [
    "a = np.arange(10)\n",
    "a"
   ]
  },
  {
   "cell_type": "code",
   "execution_count": 111,
   "id": "293dc38b",
   "metadata": {
    "ExecuteTime": {
     "end_time": "2021-12-04T03:40:06.394606Z",
     "start_time": "2021-12-04T03:40:06.255581Z"
    }
   },
   "outputs": [
    {
     "name": "stdout",
     "output_type": "stream",
     "text": [
      "[0 1 2 3 4]\n",
      "[5 6 7 8 9]\n",
      "[0 2 4 6 8]\n"
     ]
    }
   ],
   "source": [
    "print(a[:5], a[5:10], a[0:10:2], sep='\\n')"
   ]
  },
  {
   "cell_type": "code",
   "execution_count": 112,
   "id": "4e2c3d1b",
   "metadata": {
    "ExecuteTime": {
     "end_time": "2021-12-04T03:40:06.490604Z",
     "start_time": "2021-12-04T03:40:06.396576Z"
    }
   },
   "outputs": [
    {
     "data": {
      "text/plain": [
       "array([[ 0,  1,  2,  3,  4],\n",
       "       [ 5,  6,  7,  8,  9],\n",
       "       [10, 11, 12, 13, 14],\n",
       "       [15, 16, 17, 18, 19]])"
      ]
     },
     "execution_count": 112,
     "metadata": {},
     "output_type": "execute_result"
    }
   ],
   "source": [
    "a = np.arange(20).reshape(4, 5)\n",
    "a"
   ]
  },
  {
   "cell_type": "code",
   "execution_count": 113,
   "id": "a08044b8",
   "metadata": {
    "ExecuteTime": {
     "end_time": "2021-12-04T03:40:06.602578Z",
     "start_time": "2021-12-04T03:40:06.491578Z"
    }
   },
   "outputs": [
    {
     "data": {
      "text/plain": [
       "(array([[ 2,  3],\n",
       "        [ 7,  8],\n",
       "        [12, 13]]),\n",
       " array([[ 0,  2,  4],\n",
       "        [ 5,  7,  9],\n",
       "        [10, 12, 14],\n",
       "        [15, 17, 19]]))"
      ]
     },
     "execution_count": 113,
     "metadata": {},
     "output_type": "execute_result"
    }
   ],
   "source": [
    "a[0:3, 2:4], a[:, ::2]"
   ]
  },
  {
   "cell_type": "markdown",
   "id": "edac816d",
   "metadata": {},
   "source": [
    "### 排序"
   ]
  },
  {
   "cell_type": "code",
   "execution_count": 114,
   "id": "c523c18b",
   "metadata": {
    "ExecuteTime": {
     "end_time": "2021-12-04T03:40:06.666576Z",
     "start_time": "2021-12-04T03:40:06.606580Z"
    }
   },
   "outputs": [
    {
     "data": {
      "text/plain": [
       "array([[0.8853701 , 0.42597852, 0.54033124, 0.28098391, 0.49051649],\n",
       "       [0.5165038 , 0.83637157, 0.6451078 , 0.86319575, 0.62032761],\n",
       "       [0.72975428, 0.67997492, 0.51487214, 0.17241942, 0.30906538],\n",
       "       [0.37647502, 0.91961308, 0.23229027, 0.5157639 , 0.7170582 ]])"
      ]
     },
     "execution_count": 114,
     "metadata": {},
     "output_type": "execute_result"
    }
   ],
   "source": [
    "a = np.random.rand(20).reshape(4, 5)\n",
    "a"
   ]
  },
  {
   "cell_type": "code",
   "execution_count": 115,
   "id": "650a46cd",
   "metadata": {
    "ExecuteTime": {
     "end_time": "2021-12-04T03:40:06.746608Z",
     "start_time": "2021-12-04T03:40:06.668578Z"
    }
   },
   "outputs": [
    {
     "data": {
      "text/plain": [
       "array([[0.28098391, 0.42597852, 0.49051649, 0.54033124, 0.8853701 ],\n",
       "       [0.5165038 , 0.62032761, 0.6451078 , 0.83637157, 0.86319575],\n",
       "       [0.17241942, 0.30906538, 0.51487214, 0.67997492, 0.72975428],\n",
       "       [0.23229027, 0.37647502, 0.5157639 , 0.7170582 , 0.91961308]])"
      ]
     },
     "execution_count": 115,
     "metadata": {},
     "output_type": "execute_result"
    }
   ],
   "source": [
    "np.sort(a)"
   ]
  },
  {
   "cell_type": "markdown",
   "id": "b70c7084",
   "metadata": {},
   "source": [
    "- `numpy.lexsort(keys ,axis)`：使用多个键进行间接排序。\n",
    "- `numpy.argsort(a ,axis,kind,order)`：沿给定轴执行间接排序。\n",
    "- `numpy.msort(a)`：沿第 1 个轴排序。\n",
    "- `numpy.sort_complex(a)`：针对复数排序。"
   ]
  },
  {
   "cell_type": "markdown",
   "id": "a0ba5120",
   "metadata": {},
   "source": [
    "### 搜索和计数"
   ]
  },
  {
   "cell_type": "code",
   "execution_count": 116,
   "id": "476be0db",
   "metadata": {
    "ExecuteTime": {
     "end_time": "2021-12-04T03:40:07.482576Z",
     "start_time": "2021-12-04T03:40:07.462580Z"
    }
   },
   "outputs": [
    {
     "data": {
      "text/plain": [
       "array([0, 7, 8, 6, 9, 9, 7, 6, 0, 3, 9, 6, 5, 3, 8, 0, 5, 2, 4, 7])"
      ]
     },
     "execution_count": 116,
     "metadata": {},
     "output_type": "execute_result"
    }
   ],
   "source": [
    "a = np.random.randint(0, 10, 20)\n",
    "a"
   ]
  },
  {
   "cell_type": "code",
   "execution_count": 117,
   "id": "cb4f6312",
   "metadata": {
    "ExecuteTime": {
     "end_time": "2021-12-04T03:40:07.687578Z",
     "start_time": "2021-12-04T03:40:07.485579Z"
    }
   },
   "outputs": [
    {
     "data": {
      "text/plain": [
       "4"
      ]
     },
     "execution_count": 117,
     "metadata": {},
     "output_type": "execute_result"
    }
   ],
   "source": [
    "np.argmax(a)"
   ]
  },
  {
   "cell_type": "code",
   "execution_count": 118,
   "id": "48dbe3d3",
   "metadata": {
    "ExecuteTime": {
     "end_time": "2021-12-04T03:40:07.798577Z",
     "start_time": "2021-12-04T03:40:07.689578Z"
    }
   },
   "outputs": [
    {
     "data": {
      "text/plain": [
       "0"
      ]
     },
     "execution_count": 118,
     "metadata": {},
     "output_type": "execute_result"
    }
   ],
   "source": [
    "np.argmin(a)"
   ]
  },
  {
   "cell_type": "code",
   "execution_count": 119,
   "id": "2d0cd6d6",
   "metadata": {
    "ExecuteTime": {
     "end_time": "2021-12-04T03:40:07.876625Z",
     "start_time": "2021-12-04T03:40:07.800577Z"
    }
   },
   "outputs": [
    {
     "data": {
      "text/plain": [
       "array([[ 1],\n",
       "       [ 2],\n",
       "       [ 3],\n",
       "       [ 4],\n",
       "       [ 5],\n",
       "       [ 6],\n",
       "       [ 7],\n",
       "       [ 9],\n",
       "       [10],\n",
       "       [11],\n",
       "       [12],\n",
       "       [13],\n",
       "       [14],\n",
       "       [16],\n",
       "       [17],\n",
       "       [18],\n",
       "       [19]], dtype=int64)"
      ]
     },
     "execution_count": 119,
     "metadata": {},
     "output_type": "execute_result"
    }
   ],
   "source": [
    "np.argwhere(a)"
   ]
  },
  {
   "cell_type": "markdown",
   "id": "3223298e",
   "metadata": {},
   "source": [
    "- `nanargmax(a ,axis)`：返回数组中指定轴的最大值的索引,忽略 NaN。\n",
    "- `nanargmin(a ,axis)`：返回数组中指定轴的最小值的索引,忽略 NaN。"
   ]
  },
  {
   "cell_type": "code",
   "execution_count": 120,
   "id": "f204fdb5",
   "metadata": {
    "ExecuteTime": {
     "end_time": "2021-12-04T03:40:08.080577Z",
     "start_time": "2021-12-04T03:40:08.072577Z"
    }
   },
   "outputs": [
    {
     "data": {
      "text/plain": [
       "(array([ 1,  2,  3,  4,  5,  6,  7,  9, 10, 11, 12, 13, 14, 16, 17, 18, 19],\n",
       "       dtype=int64),)"
      ]
     },
     "execution_count": 120,
     "metadata": {},
     "output_type": "execute_result"
    }
   ],
   "source": [
    "np.nonzero(a)"
   ]
  },
  {
   "cell_type": "code",
   "execution_count": 121,
   "id": "f056fb57",
   "metadata": {
    "ExecuteTime": {
     "end_time": "2021-12-04T03:40:08.174606Z",
     "start_time": "2021-12-04T03:40:08.082577Z"
    }
   },
   "outputs": [
    {
     "data": {
      "text/plain": [
       "array([ 1,  2,  3,  4,  5,  6,  7,  9, 10, 11, 12, 13, 14, 16, 17, 18, 19],\n",
       "      dtype=int64)"
      ]
     },
     "execution_count": 121,
     "metadata": {},
     "output_type": "execute_result"
    }
   ],
   "source": [
    "np.flatnonzero(a)"
   ]
  },
  {
   "cell_type": "code",
   "execution_count": 122,
   "id": "4a2d2180",
   "metadata": {
    "ExecuteTime": {
     "end_time": "2021-12-04T03:40:08.587608Z",
     "start_time": "2021-12-04T03:40:08.176578Z"
    }
   },
   "outputs": [
    {
     "data": {
      "text/plain": [
       "(array([ 1,  2,  3,  4,  5,  6,  7, 10, 11, 14, 19], dtype=int64),)"
      ]
     },
     "execution_count": 122,
     "metadata": {},
     "output_type": "execute_result"
    }
   ],
   "source": [
    "np.where(a >= 6)"
   ]
  },
  {
   "cell_type": "markdown",
   "id": "ac16870c",
   "metadata": {},
   "source": [
    "- `searchsorted(a,v ,side,sorter)`：查找要插入元素以维持顺序的索引。"
   ]
  },
  {
   "cell_type": "code",
   "execution_count": 123,
   "id": "273d72a2",
   "metadata": {
    "ExecuteTime": {
     "end_time": "2021-12-04T03:40:08.664600Z",
     "start_time": "2021-12-04T03:40:08.590581Z"
    }
   },
   "outputs": [
    {
     "data": {
      "text/plain": [
       "array([9, 9, 9])"
      ]
     },
     "execution_count": 123,
     "metadata": {},
     "output_type": "execute_result"
    }
   ],
   "source": [
    "np.extract(a > 8, a)"
   ]
  },
  {
   "cell_type": "code",
   "execution_count": 124,
   "id": "4c700b1f",
   "metadata": {
    "ExecuteTime": {
     "end_time": "2021-12-04T03:40:08.871605Z",
     "start_time": "2021-12-04T03:40:08.666578Z"
    }
   },
   "outputs": [
    {
     "data": {
      "text/plain": [
       "17"
      ]
     },
     "execution_count": 124,
     "metadata": {},
     "output_type": "execute_result"
    }
   ],
   "source": [
    "np.count_nonzero(a)"
   ]
  }
 ],
 "metadata": {
  "kernelspec": {
   "display_name": "Python 3 (ipykernel)",
   "language": "python",
   "name": "python3"
  },
  "language_info": {
   "codemirror_mode": {
    "name": "ipython",
    "version": 3
   },
   "file_extension": ".py",
   "mimetype": "text/x-python",
   "name": "python",
   "nbconvert_exporter": "python",
   "pygments_lexer": "ipython3",
   "version": "3.8.12"
  },
  "toc": {
   "base_numbering": 1,
   "nav_menu": {},
   "number_sections": false,
   "sideBar": true,
   "skip_h1_title": true,
   "title_cell": "目录",
   "title_sidebar": "目录",
   "toc_cell": true,
   "toc_position": {},
   "toc_section_display": true,
   "toc_window_display": true
  }
 },
 "nbformat": 4,
 "nbformat_minor": 5
}
