{
 "cells": [
  {
   "cell_type": "markdown",
   "id": "265902fe",
   "metadata": {
    "toc": true
   },
   "source": [
    "<h1>目录<span class=\"tocSkip\"></span></h1>\n",
    "<div class=\"toc\"><ul class=\"toc-item\"><li><span><a href=\"#介绍\" data-toc-modified-id=\"介绍-1\">介绍</a></span></li><li><span><a href=\"#知识点\" data-toc-modified-id=\"知识点-2\">知识点</a></span></li><li><span><a href=\"#数据准备\" data-toc-modified-id=\"数据准备-3\">数据准备</a></span></li><li><span><a href=\"#神经网络的全连接\" data-toc-modified-id=\"神经网络的全连接-4\">神经网络的全连接</a></span></li><li><span><a href=\"#神经网络的激活函数\" data-toc-modified-id=\"神经网络的激活函数-5\">神经网络的激活函数</a></span><ul class=\"toc-item\"><li><span><a href=\"#激活函数概述\" data-toc-modified-id=\"激活函数概述-5.1\">激活函数概述</a></span></li><li><span><a href=\"#非线性激活函数的优点\" data-toc-modified-id=\"非线性激活函数的优点-5.2\">非线性激活函数的优点</a></span></li><li><span><a href=\"#激活函数的实现\" data-toc-modified-id=\"激活函数的实现-5.3\">激活函数的实现</a></span></li></ul></li><li><span><a href=\"#神经网络的损失函数\" data-toc-modified-id=\"神经网络的损失函数-6\">神经网络的损失函数</a></span><ul class=\"toc-item\"><li><span><a href=\"#损失函数\" data-toc-modified-id=\"损失函数-6.1\">损失函数</a></span></li><li><span><a href=\"#二次损失函数\" data-toc-modified-id=\"二次损失函数-6.2\">二次损失函数</a></span></li><li><span><a href=\"#独热编码\" data-toc-modified-id=\"独热编码-6.3\">独热编码</a></span></li></ul></li><li><span><a href=\"#准确率函数\" data-toc-modified-id=\"准确率函数-7\">准确率函数</a></span></li><li><span><a href=\"#神经网络正向传播\" data-toc-modified-id=\"神经网络正向传播-8\">神经网络正向传播</a></span></li><li><span><a href=\"#梯度下降算法\" data-toc-modified-id=\"梯度下降算法-9\">梯度下降算法</a></span><ul class=\"toc-item\"><li><span><a href=\"#公式推导\" data-toc-modified-id=\"公式推导-9.1\">公式推导</a></span></li><li><span><a href=\"#步长的设置\" data-toc-modified-id=\"步长的设置-9.2\">步长的设置</a></span></li></ul></li><li><span><a href=\"#反向传播\" data-toc-modified-id=\"反向传播-10\">反向传播</a></span><ul class=\"toc-item\"><li><span><a href=\"#损失函数层的反向传播\" data-toc-modified-id=\"损失函数层的反向传播-10.1\">损失函数层的反向传播</a></span></li><li><span><a href=\"#激活函数的反向传播\" data-toc-modified-id=\"激活函数的反向传播-10.2\">激活函数的反向传播</a></span></li><li><span><a href=\"#全连接层的反向传播\" data-toc-modified-id=\"全连接层的反向传播-10.3\">全连接层的反向传播</a></span></li></ul></li><li><span><a href=\"#手写数字识别\" data-toc-modified-id=\"手写数字识别-11\">手写数字识别</a></span></li><li><span><a href=\"#实验总结\" data-toc-modified-id=\"实验总结-12\">实验总结</a></span></li></ul></div>"
   ]
  },
  {
   "cell_type": "markdown",
   "id": "6734ff10",
   "metadata": {},
   "source": [
    "## 介绍\n",
    "\n",
    "神经网络中最核心的两个部分便是正向传播和反向传播。本实验将从神经网络的基础结构说起，分别对正向传播和反向传播进行阐述。然后，利用 NumPy 对其进行实现，完成一个完整的神经网络结构。最后，我们使用该神经网络，实现对数字图像进行识别。\n",
    "\n",
    "## 知识点\n",
    "\n",
    "- 全连接\n",
    "- 激活函数\n",
    "- 独热编码\n",
    "- 损失函数\n",
    "- 梯度下降\n",
    "- 反向传播"
   ]
  },
  {
   "cell_type": "markdown",
   "id": "35e1fcd9",
   "metadata": {},
   "source": [
    "*****"
   ]
  },
  {
   "cell_type": "markdown",
   "id": "f0774a5a",
   "metadata": {},
   "source": [
    "## 数据准备\n",
    "\n",
    "本次实战我们将手写神经网络并对 scikit-learn 中的手写字符数据集 DIGITS 进行识别。\n",
    "\n",
    "在学习神经网络之前，我们先来查看一下需要使用到的数据集。该数据集包含由 1797 张数字 0 到 9 的手写字符影像转换后的数字矩阵，目标值是 0-9。为了方便，这里直接使用 scikit-learn 提供的 `load_digits` 方法加载该数据集。"
   ]
  },
  {
   "cell_type": "code",
   "execution_count": 1,
   "id": "e710c039",
   "metadata": {
    "ExecuteTime": {
     "end_time": "2021-12-13T09:14:54.486553Z",
     "start_time": "2021-12-13T09:14:53.644555Z"
    },
    "scrolled": true
   },
   "outputs": [
    {
     "data": {
      "text/plain": [
       "{'data': array([[ 0.,  0.,  5., ...,  0.,  0.,  0.],\n",
       "        [ 0.,  0.,  0., ..., 10.,  0.,  0.],\n",
       "        [ 0.,  0.,  0., ..., 16.,  9.,  0.],\n",
       "        ...,\n",
       "        [ 0.,  0.,  1., ...,  6.,  0.,  0.],\n",
       "        [ 0.,  0.,  2., ..., 12.,  0.,  0.],\n",
       "        [ 0.,  0., 10., ..., 12.,  1.,  0.]]),\n",
       " 'target': array([0, 1, 2, ..., 8, 9, 8]),\n",
       " 'frame': None,\n",
       " 'feature_names': ['pixel_0_0',\n",
       "  'pixel_0_1',\n",
       "  'pixel_0_2',\n",
       "  'pixel_0_3',\n",
       "  'pixel_0_4',\n",
       "  'pixel_0_5',\n",
       "  'pixel_0_6',\n",
       "  'pixel_0_7',\n",
       "  'pixel_1_0',\n",
       "  'pixel_1_1',\n",
       "  'pixel_1_2',\n",
       "  'pixel_1_3',\n",
       "  'pixel_1_4',\n",
       "  'pixel_1_5',\n",
       "  'pixel_1_6',\n",
       "  'pixel_1_7',\n",
       "  'pixel_2_0',\n",
       "  'pixel_2_1',\n",
       "  'pixel_2_2',\n",
       "  'pixel_2_3',\n",
       "  'pixel_2_4',\n",
       "  'pixel_2_5',\n",
       "  'pixel_2_6',\n",
       "  'pixel_2_7',\n",
       "  'pixel_3_0',\n",
       "  'pixel_3_1',\n",
       "  'pixel_3_2',\n",
       "  'pixel_3_3',\n",
       "  'pixel_3_4',\n",
       "  'pixel_3_5',\n",
       "  'pixel_3_6',\n",
       "  'pixel_3_7',\n",
       "  'pixel_4_0',\n",
       "  'pixel_4_1',\n",
       "  'pixel_4_2',\n",
       "  'pixel_4_3',\n",
       "  'pixel_4_4',\n",
       "  'pixel_4_5',\n",
       "  'pixel_4_6',\n",
       "  'pixel_4_7',\n",
       "  'pixel_5_0',\n",
       "  'pixel_5_1',\n",
       "  'pixel_5_2',\n",
       "  'pixel_5_3',\n",
       "  'pixel_5_4',\n",
       "  'pixel_5_5',\n",
       "  'pixel_5_6',\n",
       "  'pixel_5_7',\n",
       "  'pixel_6_0',\n",
       "  'pixel_6_1',\n",
       "  'pixel_6_2',\n",
       "  'pixel_6_3',\n",
       "  'pixel_6_4',\n",
       "  'pixel_6_5',\n",
       "  'pixel_6_6',\n",
       "  'pixel_6_7',\n",
       "  'pixel_7_0',\n",
       "  'pixel_7_1',\n",
       "  'pixel_7_2',\n",
       "  'pixel_7_3',\n",
       "  'pixel_7_4',\n",
       "  'pixel_7_5',\n",
       "  'pixel_7_6',\n",
       "  'pixel_7_7'],\n",
       " 'target_names': array([0, 1, 2, 3, 4, 5, 6, 7, 8, 9]),\n",
       " 'images': array([[[ 0.,  0.,  5., ...,  1.,  0.,  0.],\n",
       "         [ 0.,  0., 13., ..., 15.,  5.,  0.],\n",
       "         [ 0.,  3., 15., ..., 11.,  8.,  0.],\n",
       "         ...,\n",
       "         [ 0.,  4., 11., ..., 12.,  7.,  0.],\n",
       "         [ 0.,  2., 14., ..., 12.,  0.,  0.],\n",
       "         [ 0.,  0.,  6., ...,  0.,  0.,  0.]],\n",
       " \n",
       "        [[ 0.,  0.,  0., ...,  5.,  0.,  0.],\n",
       "         [ 0.,  0.,  0., ...,  9.,  0.,  0.],\n",
       "         [ 0.,  0.,  3., ...,  6.,  0.,  0.],\n",
       "         ...,\n",
       "         [ 0.,  0.,  1., ...,  6.,  0.,  0.],\n",
       "         [ 0.,  0.,  1., ...,  6.,  0.,  0.],\n",
       "         [ 0.,  0.,  0., ..., 10.,  0.,  0.]],\n",
       " \n",
       "        [[ 0.,  0.,  0., ..., 12.,  0.,  0.],\n",
       "         [ 0.,  0.,  3., ..., 14.,  0.,  0.],\n",
       "         [ 0.,  0.,  8., ..., 16.,  0.,  0.],\n",
       "         ...,\n",
       "         [ 0.,  9., 16., ...,  0.,  0.,  0.],\n",
       "         [ 0.,  3., 13., ..., 11.,  5.,  0.],\n",
       "         [ 0.,  0.,  0., ..., 16.,  9.,  0.]],\n",
       " \n",
       "        ...,\n",
       " \n",
       "        [[ 0.,  0.,  1., ...,  1.,  0.,  0.],\n",
       "         [ 0.,  0., 13., ...,  2.,  1.,  0.],\n",
       "         [ 0.,  0., 16., ..., 16.,  5.,  0.],\n",
       "         ...,\n",
       "         [ 0.,  0., 16., ..., 15.,  0.,  0.],\n",
       "         [ 0.,  0., 15., ..., 16.,  0.,  0.],\n",
       "         [ 0.,  0.,  2., ...,  6.,  0.,  0.]],\n",
       " \n",
       "        [[ 0.,  0.,  2., ...,  0.,  0.,  0.],\n",
       "         [ 0.,  0., 14., ..., 15.,  1.,  0.],\n",
       "         [ 0.,  4., 16., ..., 16.,  7.,  0.],\n",
       "         ...,\n",
       "         [ 0.,  0.,  0., ..., 16.,  2.,  0.],\n",
       "         [ 0.,  0.,  4., ..., 16.,  2.,  0.],\n",
       "         [ 0.,  0.,  5., ..., 12.,  0.,  0.]],\n",
       " \n",
       "        [[ 0.,  0., 10., ...,  1.,  0.,  0.],\n",
       "         [ 0.,  2., 16., ...,  1.,  0.,  0.],\n",
       "         [ 0.,  0., 15., ..., 15.,  0.,  0.],\n",
       "         ...,\n",
       "         [ 0.,  4., 16., ..., 16.,  6.,  0.],\n",
       "         [ 0.,  8., 16., ..., 16.,  8.,  0.],\n",
       "         [ 0.,  1.,  8., ..., 12.,  1.,  0.]]]),\n",
       " 'DESCR': \".. _digits_dataset:\\n\\nOptical recognition of handwritten digits dataset\\n--------------------------------------------------\\n\\n**Data Set Characteristics:**\\n\\n    :Number of Instances: 1797\\n    :Number of Attributes: 64\\n    :Attribute Information: 8x8 image of integer pixels in the range 0..16.\\n    :Missing Attribute Values: None\\n    :Creator: E. Alpaydin (alpaydin '@' boun.edu.tr)\\n    :Date: July; 1998\\n\\nThis is a copy of the test set of the UCI ML hand-written digits datasets\\nhttps://archive.ics.uci.edu/ml/datasets/Optical+Recognition+of+Handwritten+Digits\\n\\nThe data set contains images of hand-written digits: 10 classes where\\neach class refers to a digit.\\n\\nPreprocessing programs made available by NIST were used to extract\\nnormalized bitmaps of handwritten digits from a preprinted form. From a\\ntotal of 43 people, 30 contributed to the training set and different 13\\nto the test set. 32x32 bitmaps are divided into nonoverlapping blocks of\\n4x4 and the number of on pixels are counted in each block. This generates\\nan input matrix of 8x8 where each element is an integer in the range\\n0..16. This reduces dimensionality and gives invariance to small\\ndistortions.\\n\\nFor info on NIST preprocessing routines, see M. D. Garris, J. L. Blue, G.\\nT. Candela, D. L. Dimmick, J. Geist, P. J. Grother, S. A. Janet, and C.\\nL. Wilson, NIST Form-Based Handprint Recognition System, NISTIR 5469,\\n1994.\\n\\n.. topic:: References\\n\\n  - C. Kaynak (1995) Methods of Combining Multiple Classifiers and Their\\n    Applications to Handwritten Digit Recognition, MSc Thesis, Institute of\\n    Graduate Studies in Science and Engineering, Bogazici University.\\n  - E. Alpaydin, C. Kaynak (1998) Cascading Classifiers, Kybernetika.\\n  - Ken Tang and Ponnuthurai N. Suganthan and Xi Yao and A. Kai Qin.\\n    Linear dimensionalityreduction using relevance weighted LDA. School of\\n    Electrical and Electronic Engineering Nanyang Technological University.\\n    2005.\\n  - Claudio Gentile. A New Approximate Maximal Margin Classification\\n    Algorithm. NIPS. 2000.\\n\"}"
      ]
     },
     "execution_count": 1,
     "metadata": {},
     "output_type": "execute_result"
    }
   ],
   "source": [
    "from sklearn import datasets\n",
    "\n",
    "digits = datasets.load_digits()\n",
    "digits"
   ]
  },
  {
   "cell_type": "markdown",
   "id": "7002fb3b",
   "metadata": {},
   "source": [
    "加载完成的 DIGITS 数据集中包含 3 个属性：\n",
    "\n",
    "|  属性  |                  描述                  |\n",
    "|:------:|:--------------------------------------:|\n",
    "| `images` | 8x8 矩阵，记录每张手写字符图像对应的像素灰度值 |\n",
    "|  `data`  | 将 images 对应的 8x8 矩阵转换为行向量 |\n",
    "| `target` |     记录 1797 张影像各自代表的数字     |\n",
    "\n",
    "我们可以根据灰度值矩阵，使用 Matplotlib 把字符对应的灰度图像和标签显示出来看看："
   ]
  },
  {
   "cell_type": "code",
   "execution_count": 2,
   "id": "eb510011",
   "metadata": {
    "ExecuteTime": {
     "end_time": "2021-12-13T09:14:55.701554Z",
     "start_time": "2021-12-13T09:14:54.489555Z"
    }
   },
   "outputs": [
    {
     "name": "stdout",
     "output_type": "stream",
     "text": [
      "标签为: 0\n"
     ]
    },
    {
     "data": {
      "text/plain": [
       "<matplotlib.image.AxesImage at 0x1de63a87850>"
      ]
     },
     "execution_count": 2,
     "metadata": {},
     "output_type": "execute_result"
    },
    {
     "data": {
      "image/png": "[encoded data removed]",
      "text/plain": [
       "<Figure size 1536x864 with 1 Axes>"
      ]
     },
     "metadata": {
      "needs_background": "light"
     },
     "output_type": "display_data"
    }
   ],
   "source": [
    "from matplotlib import pyplot as plt\n",
    "%matplotlib inline\n",
    "plt.rcParams['figure.figsize'] = 16, 9\n",
    "plt.rcParams['figure.dpi'] = 96\n",
    "\n",
    "image1 = digits.images[0]\n",
    "print(\"标签为:\", digits.target[0])\n",
    "plt.imshow(image1, cmap=plt.cm.gray_r)"
   ]
  },
  {
   "cell_type": "markdown",
   "id": "ce887c8a",
   "metadata": {},
   "source": [
    "从图中可以看到，我们需要识别的图片是 $8 \\times 8$ 的灰度图，它们的标签和图片内容一一对应。接下来，我们将在学习神经网络基本结构的同时，利用 Python 手写神经网络并完成对上述数据集的识别。"
   ]
  },
  {
   "cell_type": "markdown",
   "id": "e742c7ad",
   "metadata": {},
   "source": [
    "## 神经网络的全连接\n",
    "\n",
    "其实神经网络的来源有多种说法，有些人喜欢将生物大脑的神经元网络结构看做是神经网络的灵感来源。大脑神经元的结构如下:\n",
    "\n",
    "<img width='400px' src=\"./img/img01.svg\">\n",
    "<div style=\"color: #888; font-size: 10px; text-align: right;\"><a href=\"https://en.wikipedia.org/wiki/Neuron#/media/File:Neuron_Hand-tuned.svg/\"><i class=\"fa fa-copyright\" aria-hidden=\"true\"> 来源</i></a></div>\n",
    "\n",
    "\n",
    "我们主要关注细胞体、树突、轴突等结构。树突作为接收端，接收从其他神经元传导过来的神经冲动。而轴突将经过细胞体处理的神经冲动传递给其他神经元。从上图可以看出，一个神经元的树突可以有多个，但轴突却只有一个。其实这里的树突就可以看成一个神经元的输入，而轴突其实就是输出。\n",
    "\n",
    "人工神经网络的结构如下：\n",
    "\n",
    "<img width='400px'  src=\"./img/img02.svg\">\n",
    "\n",
    "你会发现这张图片和上面的大脑神经元的图片有很多相似之处，只不过神经冲动在这里变成了具体的数值。\n",
    "\n",
    "图中的圆圈代表一个个神经元（ Neuron ），其中网络层 1（输入层） 中的每个神经元都与网络层 2 中的每个神经元相连。可以说 $a_1$，$a_2$，$a_3$ 就是一条数据的属性值（输入层的个数和数据的特征个数相同）。$h_1$，$h_2$ 可以看作为第二层网络层的输出。\n",
    "\n",
    "同时我们注意到，神经元间的连接线上有权重 $w$ 。神经网络工作时，将前一层神经元的输出与权重 $w$ 相乘再加上一个偏移量 $b$ 得到的结果，传递给下一层神经元。即有：\n",
    "\n",
    "$$\\mathrm { w }_{11} \\mathrm { a_l } + \\mathrm { w }_{12}  \\mathrm { a } _{2 }+ \\mathrm { w }_{ 13 }\\mathrm { a } _{3 }+ \\mathrm { b } _{1 }= \\mathrm { b } _{1}  \\tag 1 $$\n",
    "\n",
    "$$\\mathrm { w }_{21} \\mathrm { a_l } + \\mathrm { w }_{22}  \\mathrm { a } _{2 }+ \\mathrm { w }_{ 23 }\\mathrm { a } _{3 }+ \\mathrm { b } _{2 }= \\mathrm { b } _{2} \\tag 2$$\n",
    "\n",
    "写成矩阵的形式：\n",
    "\n",
    "$$\\left[ \\begin{array} { l l l } { w _ { 11 } } & { w _ { 12 } } & { w _ { 13 } } \\\\ { w _ { 21 } } & { w _ { 22 } } & { w _ { 23 } } \\end{array} \\right] \\cdot \\left[ \\begin{array} { c } { a _ { 1 } } \\\\ { a _ { 2 } } \\\\ { a _ { 3 } } \\end{array} \\right] + \\left[ \\begin{array} { c } { b_ { 1 } } \\\\ { b _ { 2 } } \\end{array} \\right] = \\left[ \\begin{array} { l } { y _ { 1 } } \\\\ { y _ { 2 } } \\end{array} \\right] \\tag 3$$\n",
    "\n",
    "全连接的含义其实就是每层神经元都和下一层的所有神经元相连。\n",
    "\n",
    "本质上讲，神经网络就是随便给定一组 $w$ 和 $b$，再判断在该 $w$，$b$ 条件下模型的好坏，再通过一定的算法对 $w$ 和 $b$ 进行更新。如此循环，直到求出最佳的 $w$ 矩阵和 $b$ 矩阵的值。求取这些参数的过程其实就是模型的训练（学习）过程。\n",
    "\n",
    "我们把数据在网络层中从左到右计算的过程称之为「正向传播」，下面使用 Python 将全连接的正向传播过程进行实现。"
   ]
  },
  {
   "cell_type": "code",
   "execution_count": 3,
   "id": "75d34fab",
   "metadata": {
    "ExecuteTime": {
     "end_time": "2021-12-13T09:14:55.717552Z",
     "start_time": "2021-12-13T09:14:55.704557Z"
    }
   },
   "outputs": [],
   "source": [
    "import numpy as np\n",
    "\n",
    "\n",
    "class FullyConnect:\n",
    "    def __init__(self, len_x, len_y):\n",
    "        \"\"\"\n",
    "        Parameters\n",
    "        ----------\n",
    "        len_x: int\n",
    "            输入层特征长度\n",
    "        len_y: int\n",
    "            输出层特征长度\n",
    "        \"\"\"\n",
    "        # 权重矩阵（除法意义不明）\n",
    "        self.weights = np.random.randn(len_y, len_x) / np.sqrt(len_x)\n",
    "        # 偏置矩阵\n",
    "        self.bias = np.random.randn(len_y, 1)\n",
    "        # 学习率\n",
    "        self.lr = 0\n",
    "        pass\n",
    "\n",
    "    def forward(self, x):\n",
    "        \"\"\"\n",
    "        正向传播\n",
    "        \n",
    "        Parameters\n",
    "        ----------\n",
    "        x: numpy.ndarray\n",
    "            输入数据集\n",
    "        \n",
    "        Returns\n",
    "        -------\n",
    "        y: np.ndarray\n",
    "            本层向前传递后的数据集\n",
    "        \"\"\"\n",
    "        # 缓存中间结果，方便反向传播\n",
    "        self.x = x\n",
    "        # 全连接层的本质是矩阵乘法与矩阵加法\n",
    "        self.y = np.array(\n",
    "            [np.dot(self.weights, image) + self.bias for image in x])\n",
    "        return self.y"
   ]
  },
  {
   "cell_type": "code",
   "execution_count": 4,
   "id": "fe7352e7",
   "metadata": {
    "ExecuteTime": {
     "end_time": "2021-12-13T09:14:55.813553Z",
     "start_time": "2021-12-13T09:14:55.719556Z"
    }
   },
   "outputs": [
    {
     "data": {
      "text/plain": [
       "(1797, 64)"
      ]
     },
     "execution_count": 4,
     "metadata": {},
     "output_type": "execute_result"
    }
   ],
   "source": [
    "### 数据集规模 ###\n",
    "digits.data.shape"
   ]
  },
  {
   "cell_type": "code",
   "execution_count": 5,
   "id": "350d1f27",
   "metadata": {
    "ExecuteTime": {
     "end_time": "2021-12-13T09:14:55.861564Z",
     "start_time": "2021-12-13T09:14:55.816556Z"
    }
   },
   "outputs": [
    {
     "data": {
      "text/plain": [
       "array([[[ 5.87828604]],\n",
       "\n",
       "       [[ 8.03561769]],\n",
       "\n",
       "       [[ 3.9451159 ]],\n",
       "\n",
       "       [[16.00785046]],\n",
       "\n",
       "       [[-1.7918995 ]]])"
      ]
     },
     "execution_count": 5,
     "metadata": {},
     "output_type": "execute_result"
    }
   ],
   "source": [
    "### 正向传播预测 ###\n",
    "fully_connected = FullyConnect(64, 1)\n",
    "# 此处使用5张图片进行预测\n",
    "fully_result = fully_connected.forward(digits.data[:5])\n",
    "fully_result"
   ]
  },
  {
   "cell_type": "markdown",
   "id": "2ed2bc77",
   "metadata": {},
   "source": [
    "## 神经网络的激活函数\n",
    "\n",
    "### 激活函数概述\n",
    "\n",
    "上面所说的全连接层的公式其实就是多元一次的乘法，也就是我们常说的线性运算。而神经元的功能远远不止这些，下面我们单独将一个神经元给提出来，看看里面的结构：\n",
    "\n",
    "<img width='400px' src=\"./img/img03.svg\">\n",
    "\n",
    "从上图可以看到，神经元除了上面所说的线性转换之外，其实还包含了一个非线性转换:\n",
    "\n",
    "$$h = g(z) \\tag 4$$\n",
    "\n",
    "而这个非线性转换函数 $g(z)$ 就叫做激活函数。\n",
    "\n",
    "### 非线性激活函数的优点\n",
    "\n",
    "有多种理由要求我们必须向神经网络中引入非线性运算。在多层神经网络中，如果没有非线性运算部分，则多个线性运算可以被一个线性运算替换，那么多层次的网络结构就会失去意义（由于矩阵乘法的结合性）。\n",
    "\n",
    "矩阵乘法的结合性： $b_1 = a_1 \\cdot k_1 \\cdot k_2$ 与 $b_1=a_1\\cdot (k_1\\cdot k_2)$ 等价。假设 $k_1 = 3,k_2 = 2$，则 $a_1$ 可以通过先乘以 $2$ ，再乘以$3$，这两次线性变换得到 $b_1$。$a_1$ 也可以通过直接乘以 $6$ ，这一次线性变换得到 $b_1$。\n",
    "\n",
    "当然还有个比较重要的原因就是非线性的分类效果会比线性的好。为了更好的展示，我们以二维数据为例。假设数据有两个特征 $a_1$，$a_2$ 。且他们最后被分为了两类。如下图所示：\n",
    "\n",
    "<img width='600px' src=\"./img/img04.svg\">\n",
    "\n",
    "其中红色和绿色是实际的两种类别，而蓝色的线则是最终训练好的分类模型。由图可以看出，针对于该数据集，线性分类器无法准确的进行分类。 而非线性部分的引入，在一定程度上可以使原本的直线变成曲线，进而得到更好的分类效果，这就是激活函数引入的原因。\n",
    "\n",
    "### 激活函数的实现\n",
    "\n",
    "实际运用当中，有多种激活函数可以选择，你甚至可以自己定义一个属于自己的激活函数。这里我们介绍最经典的一种激活函数：Sigmoid 激活函数。它的数学形式为：\n",
    "\n",
    "$$h = g ( z ) = \\frac { 1 } { 1 + e ^ { - z } } \\tag 5$$\n",
    "\n",
    "将全连接输出的数据 $z$ ，放入激活函数中，最终得到该神经元的输出。现在我们利用 Python 自己定义一个 Sigmoid 函数，并且完成他的正向传播过程。最后将的图像画出来看看。"
   ]
  },
  {
   "cell_type": "code",
   "execution_count": 6,
   "id": "dbfc4407",
   "metadata": {
    "ExecuteTime": {
     "end_time": "2021-12-13T09:14:55.941563Z",
     "start_time": "2021-12-13T09:14:55.863555Z"
    }
   },
   "outputs": [],
   "source": [
    "class Sigmoid:\n",
    "    \"\"\" Sigmoid 激活函数 \"\"\"\n",
    "    def __init__(self):\n",
    "        # 无参数，不需要初始化\n",
    "        pass\n",
    "\n",
    "    def sigmoid(self, x):\n",
    "        # 函数定义\n",
    "        return 1 / (1 + np.exp(-x))\n",
    "\n",
    "    def forward(self, x):\n",
    "        # 前向传播\n",
    "        self.x = x\n",
    "        self.y = self.sigmoid(x)\n",
    "        return self.y"
   ]
  },
  {
   "cell_type": "code",
   "execution_count": 7,
   "id": "15ae0c8d",
   "metadata": {
    "ExecuteTime": {
     "end_time": "2021-12-13T09:14:56.468552Z",
     "start_time": "2021-12-13T09:14:55.944568Z"
    }
   },
   "outputs": [
    {
     "name": "stdout",
     "output_type": "stream",
     "text": [
      "0.5\n"
     ]
    },
    {
     "data": {
      "text/plain": [
       "Text(0, 0.5, '$\\\\sigma(z)$')"
      ]
     },
     "execution_count": 7,
     "metadata": {},
     "output_type": "execute_result"
    },
    {
     "data": {
      "image/png": "[encoded data removed]",
      "text/plain": [
       "<Figure size 1536x864 with 1 Axes>"
      ]
     },
     "metadata": {
      "needs_background": "light"
     },
     "output_type": "display_data"
    }
   ],
   "source": [
    "sigmoid = Sigmoid()\n",
    "print(sigmoid.sigmoid(0))\n",
    "z = np.linspace(-6, 6, 1000)\n",
    "plt.plot(z, sigmoid.sigmoid(z))\n",
    "plt.grid(True)\n",
    "plt.xlabel('$z$')\n",
    "plt.ylabel('$\\sigma(z)$')"
   ]
  },
  {
   "cell_type": "markdown",
   "id": "699b60c8",
   "metadata": {},
   "source": [
    "## 神经网络的损失函数\n",
    "\n",
    "上面我们讲了神经网络的全连接，以及激活函数的正向传播过程。很多神经网络其实就是让数据不断的通过全连接层和激活函数层，最终得到预测结果。那么问题来了，得到预测结果后，如何说明当前状态下的模型是优还是劣呢？神经网络是否还需要继续训练下去呢？为此，我们引入了损失函数的概念。\n",
    "\n",
    "### 损失函数\n",
    "\n",
    "损失函数，顾名思义，就是模型预测出来的标签与真实标签的差异。而定义这种差异的函数，就被称为损失函数。深度学习的训练过程其实就是求解损失函数最小值的过程。比如计算真实值和预测值之间的绝对误差，当得到的值比较大时，就说明该神经网络的输出与预期的正确输出偏差较大。反之，如果得到的值很小甚至等于 0 ，就说明我们的模型工作的不错，能够正确的预测输出值。\n",
    "\n",
    "实际上，现在已经有很多种损失函数供我们选择，这里我们就来介绍一种最经典的损失函数：二次损失函数（Quadratic Loss Function）。\n",
    "\n",
    "### 二次损失函数\n",
    "\n",
    "就像它的名字所暗示的那样，Quadratic Loss Function 通过计算 Predict 和 Real 之间差值的平方来衡量神经网络的优劣。具体形式如下：\n",
    "\n",
    "$$J ( \\Theta ) = \\frac { 1 } { 2 m } \\sum _ { i = 1 } ^ { m } \\left( h \\left( \\Theta , X _ { i } \\right) - Y _ { i } \\right) ^ { 2 } \\tag 6 $$\n",
    "\n",
    "其中的希腊字母 $\\Theta$ 表示模型的参数，也就是上面的 $W$ 和 $bias$ 。$X_i$ 表示第 $i$ 个样本数据，$Y_i$ 代表输入 $X_i$ 所对应的，正确的输出值。$h ( \\Theta , X_i )$ 表示将 $X_i$ 输入神经网络，然后通过正向传播后得到的预测值。\n",
    "\n",
    "函数的意义：求每条数据的损失，然后加起来再取平均得到整个训练数据集的平均损失过程。当然至于这里为什么最后需要除以一个 $2$，容我们放到后面来讲。不过这里除以 $2$ ，对整个神经网络是没有影响的。因为当 $1/2$ 损失函数最小时，损失函数自然也会最小。\n",
    "\n",
    "为什么损失函数是关于 $\\Theta$ 的函数？因为模型的训练集 $X$ 是给定的，而真正的变量其实是 $\\Theta$ (也就是每一层的 $W$ 和 $bias$ )，当确定好这些参数后，整个神经网络就训练成功了。\n",
    "\n",
    "### 独热编码\n",
    "\n",
    "生活中标签 $Y_i$ 的形式各种各样，有可能是预测天气的阴天，晴天，雨天等标签，也可能是预测字母的 $a,b,c...z$ 等。而如何将这些标签转换成计算机能够识别的标签呢？有很多种方式，比如十进制。但是如果使用十进制来表示这些离散标签的话，会有一个缺点。假设我把 $0$ 当做晴天，$1$ 当做雨天，$2$ 当做阴天。那么在计算损失时，（晴天，阴天）的损失和（晴天，雨天）的损失会不同。可他们都是把标签预测错了，没有理由让他们的损失不同。因此便提出了独热编码的概念。\n",
    "\n",
    "独热编码：数字的每一位只有 0 和 1 的取值，且每一个都代表一个标签，如果这位取1，其他位则必须为0。如下图所示：\n",
    "\n",
    "<img width='300px' src=\"./img/img05.jpg\">\n",
    "\n",
    "当第 0 位为 1 ，其他位为 0 的时候，则表示晴天。当第 1 位为 1，其他位为 0 的时候，则表示雨天，其他的标签同理。这里把他们看做向量坐标，则晴天与阴天的距离和晴天与雪天的距离都为 1。这样计算出来的损失也就相等了。"
   ]
  },
  {
   "cell_type": "code",
   "execution_count": 8,
   "id": "e50b3b3e",
   "metadata": {
    "ExecuteTime": {
     "end_time": "2021-12-13T09:14:56.484553Z",
     "start_time": "2021-12-13T09:14:56.470556Z"
    }
   },
   "outputs": [],
   "source": [
    "class QuadraticLoss:\n",
    "    def __init__(self):\n",
    "        pass\n",
    "\n",
    "    def forward(self, x, label):\n",
    "        \"\"\"\n",
    "        前向传播\n",
    "        \n",
    "        Parameters\n",
    "        ----------\n",
    "        x: numpy.ndarray\n",
    "            数据集\n",
    "        label: numpy.ndarray\n",
    "            真实标签\n",
    "        \n",
    "        Returns\n",
    "        -------\n",
    "        y: numpy.float\n",
    "            损失值\n",
    "        \"\"\"\n",
    "        self.x = x\n",
    "        # 独热编码\n",
    "        self.label = np.zeros_like(x)\n",
    "        for a, b in zip(self.label, label):\n",
    "            a[b] = 1\n",
    "        self.loss = np.sum(np.square(x - self.label)) / self.x.shape[0] / 2\n",
    "        return self.loss"
   ]
  },
  {
   "cell_type": "code",
   "execution_count": 9,
   "id": "fbf75201",
   "metadata": {
    "ExecuteTime": {
     "end_time": "2021-12-13T09:14:56.564577Z",
     "start_time": "2021-12-13T09:14:56.486555Z"
    }
   },
   "outputs": [
    {
     "name": "stdout",
     "output_type": "stream",
     "text": [
      "实际为阴天和预测值为晴天的平均损失是： 1.0\n",
      "实际为雪天和预测值为晴天的平均损失是： 1.0\n"
     ]
    }
   ],
   "source": [
    "# %% 测试\n",
    "loss = QuadraticLoss()\n",
    "### \"1000\" 代表晴天 ###\n",
    "pred = np.zeros((1, 4))\n",
    "pred[0][0] = 1\n",
    "### 执行预测 ###\n",
    "print(\"实际为阴天和预测值为晴天的平均损失是：\", loss.forward(pred, [1]))\n",
    "print(\"实际为雪天和预测值为晴天的平均损失是：\", loss.forward(pred, [2]))"
   ]
  },
  {
   "cell_type": "markdown",
   "id": "b6392d32",
   "metadata": {
    "variables": {
     "N(\\text{correct})": "<p><strong>SyntaxError</strong>: unexpected character after line continuation character (Temp/ipykernel_13224/46799648.py, line 1)</p>\n",
     "N(\\text{sum})": "<p><strong>SyntaxError</strong>: unexpected character after line continuation character (Temp/ipykernel_13224/193336289.py, line 1)</p>\n"
    }
   },
   "source": [
    "## 准确率函数\n",
    "\n",
    "之前我们提到了损失函数是用来衡量神经网络是否训练的一个标准，不同的损失函数可能计算出来的损失值的量级可能不同。那么我又该如何来衡量不同的神经网络结构的优劣呢？最简单的方法就是看这个神经网络模型他到底预测正确多少数据，预测错误多少数据，这就是准确率，公式如下：\n",
    "\n",
    " $$ \\eta = \\frac{{N(\\text{correct})}}{{N(\\text{sum})}} \\tag{7}$$"
   ]
  },
  {
   "cell_type": "code",
   "execution_count": 10,
   "id": "dc8d5e84",
   "metadata": {
    "ExecuteTime": {
     "end_time": "2021-12-13T09:14:56.644555Z",
     "start_time": "2021-12-13T09:14:56.598557Z"
    }
   },
   "outputs": [],
   "source": [
    "class Accuracy:\n",
    "    def __init__(self):\n",
    "        pass\n",
    "\n",
    "    def forward(self, x, label):\n",
    "        # 统计正确数量\n",
    "        self.accuracy = np.sum(\n",
    "            [np.argmax(image) == tag for image, tag in zip(x, label)])\n",
    "        # 转换为概率\n",
    "        self.accuracy = 1 * self.accuracy / x.shape[0]\n",
    "        return self.accuracy"
   ]
  },
  {
   "cell_type": "markdown",
   "id": "b76c168b",
   "metadata": {},
   "source": [
    "## 神经网络正向传播\n",
    "\n",
    "我们已经写好了所有网络层的正向传播，接下来我们要使用这些网络层构建出一个完整的神经网络的正向传播。并传入需要预测的数据集，进行一次正向传播，查看输出结果。"
   ]
  },
  {
   "cell_type": "code",
   "execution_count": 11,
   "id": "5dc250b1",
   "metadata": {
    "ExecuteTime": {
     "end_time": "2021-12-13T09:14:56.724564Z",
     "start_time": "2021-12-13T09:14:56.646557Z"
    }
   },
   "outputs": [
    {
     "name": "stdout",
     "output_type": "stream",
     "text": [
      "损失值：25.6475，准确率：0.0000\n"
     ]
    }
   ],
   "source": [
    "### 加载数据 ###\n",
    "x = digits.data\n",
    "\n",
    "### 构建模型 ###\n",
    "layers = [FullyConnect(8 * 8, 10), Sigmoid()]\n",
    "loss_layer = QuadraticLoss()\n",
    "accuracy_layer = Accuracy()\n",
    "\n",
    "### 正向传播 ###\n",
    "for layer in layers:\n",
    "    x = layer.forward(x)\n",
    "    pass\n",
    "\n",
    "loss = loss_layer.forward(x, digits.target)\n",
    "accuracy = accuracy_layer.forward(x, digits.target)\n",
    "print(f'损失值：{loss:.4f}，准确率：{accuracy:.4f}')"
   ]
  },
  {
   "cell_type": "markdown",
   "id": "cd8ba914",
   "metadata": {},
   "source": [
    "## 梯度下降算法\n",
    "\n",
    "我们已经学习完了整个神经网络的正向传播过程。正如上文所述，神经网络的学习过程其实就是求解 $W$，$bias$ 在最佳状态下的值。而最佳状态的衡量标准便是损失函数最小。那么怎样求解损失函数最小情况下的参数值呢？这就需要介绍到一种求解求函数最小值的算法：梯度下降算法。\n",
    "\n",
    "梯度下降算法是一种求解函数极小值的方法，他的中心思想其实很简单，如下图所示，假设你身处峨眉山之中，现在你想以最快的速度下山，那么你应该朝着哪个方向走呢？毋庸置疑，朝着下方，且最陡的方向（如果是垂直的更好，可以马上跳下去，最快的到达山脚）。当然上面只是个比喻，一切还是安全第一。这里我们所说的最陡的方向，用数学的语言表达便是梯度的相反方向（因为梯度表示函数上升最快的方向）。梯度本身是一个向量，由函数对每个自变量分别求偏导得到。\n",
    "\n",
    "<img src=\"./img/img06.gif\">\n",
    "\n",
    "### 公式推导\n",
    "\n",
    "现在我们有了下山的方向，那么假设我们现在所在位置为点 $\\Theta$ 。当我朝着梯度相反的方向走了一步后，就到达新的一个点，然后再在这个点上求梯度，再朝着新的梯度相反的方向往下走，这样就能很快的到达山脚，这就是梯度下降的原理。通过公式来表达，就是：\n",
    "\n",
    "$$\\Theta = \\Theta - \\alpha \\frac { d J } { d \\Theta } \\tag 8$$\n",
    "\n",
    "注意，这里多了一个希腊字母 $\\alpha$, 因为梯度只为我们指明了前进（更新）的方向，而我们具体朝着这个方向「走多远」则由 $\\alpha$ 控制。因此 $\\alpha$ 还有一个朴素的名字叫做步长（一步走多远的意思），又叫学习率。\n",
    "\n",
    "### 步长的设置\n",
    "\n",
    "在深度学习中步长的设计很有讲究。虽然 $\\alpha$ 越大，参数 $\\Theta$ 更新的幅度就会越大，我们就可能越可能更快的到达最低点。但是 $\\alpha$ 不能设置的太大，否则有可能因为步子太大，而直接越过最低点，甚至导致损失函数值不降反升。如下图所示：\n",
    "\n",
    "<img src=\"./img/img07.svg\">\n",
    "\n",
    "因此，设置合理的学习速率 $\\alpha$ 非常重要。实际当中的做法一般是先设置 $\\alpha$ 为一个较小的值，比如 $0.001$ 。观察每一次参数 $\\theta$ 更新后损失函数 $J$ 的变化。如果 $J$ 变大了，就将 $\\alpha$ 的值除以 $10$，变成 $0.0001$ ，直到损失函数值开始变小。\n",
    "\n",
    "如果 $J$ 变小了，则可以将 $\\alpha$ 再乘以 $10$ ，使得学习的速率更快。最终使 $\\alpha$ 停留在一个能够使 $J$ 变小，又不会因为值过小导致学得太慢的「临界值」。\n",
    "\n",
    "学习率是深度学习过程中的一个『超参数』，它是由我们预先人为指定且不随学习过程自动优化的参数值。模型整体对超参数非常敏感，因此选定一个合理且高效的学习率十分必要。"
   ]
  },
  {
   "cell_type": "markdown",
   "id": "c39f6aff",
   "metadata": {},
   "source": [
    "## 反向传播\n",
    "\n",
    "下图黑色的箭头展示了，数据正向传导情况，而红色的则反映了反向传播情况。通过正向传播得到的预测值，算出当前 $W$ 和 $b$ 下的损失，然后再通过一层一层的偏导最终得到参数 $W$ 和 $b$ 的变化值 $dw$，$db$ ,然后根据梯度下降的思想，更新参数，再正向传播，如此循环。当损失降到最小或者不变时则停止。\n",
    "\n",
    "<img src=\"./img/img08.jpg\">\n",
    "\n",
    "下面我们将按照反向传播的顺序，利用梯度下降的原理，分别对每种类别的网络层进行编写。\n",
    "\n",
    "### 损失函数层的反向传播\n",
    "\n",
    "损失函数的公式如下：\n",
    "\n",
    "$$J ( \\Theta ) = \\frac { 1 } { 2 m } \\sum _ { i = 1 } ^ { m } \\left( h \\left( \\Theta , X _ { i } \\right) - Y _ { i } \\right) ^ { 2 } \\tag 9$$\n",
    "\n",
    "该公式的具体含义由于上文已有，这里就不做阐述了。这里需要阐述一下的是，为什么得到样本的平均损失之后需要除以 $2$ 。这是为了在求梯度（偏导）时，抵消从指数下来的那一个 $2$ 。"
   ]
  },
  {
   "cell_type": "code",
   "execution_count": 12,
   "id": "6d47e6ab",
   "metadata": {
    "ExecuteTime": {
     "end_time": "2021-12-13T09:14:56.820576Z",
     "start_time": "2021-12-13T09:14:56.727557Z"
    }
   },
   "outputs": [],
   "source": [
    "class QuadraticLoss:\n",
    "    def __init__(self):\n",
    "        pass\n",
    "\n",
    "    def forward(self, x, label):\n",
    "        self.x = x\n",
    "        # 独热编码\n",
    "        self.label = np.zeros_like(x)\n",
    "        for a, b in zip(self.label, label):\n",
    "            a[b] = 1\n",
    "        self.loss = np.sum(np.square(x - self.label)) / self.x.shape[0] / 2\n",
    "        return self.loss\n",
    "\n",
    "    def backward(self):\n",
    "        \"\"\" 反向传播 \"\"\"\n",
    "        self.dx = (self.x - self.label) / self.x.shape[0]\n",
    "        return self.dx"
   ]
  },
  {
   "cell_type": "markdown",
   "id": "1d9f293e",
   "metadata": {},
   "source": [
    "### 激活函数的反向传播\n",
    "\n",
    "这里我们选择的激活函数是 Sigmoid 函数，首先需要对这个函数进行求导。Sigmoid 函数的求导过程这里就不阐述了，如果读者有兴趣可以自行推导。Sigmoid 函数的导数如下：\n",
    "\n",
    "$$sigmoid(x)'=sigmoid(x)*(1-sigmoid(x)) \\tag {10}$$\n",
    "\n",
    "现在我们就可以通过 Sigmoid 函数的导数，对激活函数层的反向传播进行编写。"
   ]
  },
  {
   "cell_type": "code",
   "execution_count": 13,
   "id": "0429d87e",
   "metadata": {
    "ExecuteTime": {
     "end_time": "2021-12-13T09:14:56.916589Z",
     "start_time": "2021-12-13T09:14:56.822556Z"
    }
   },
   "outputs": [],
   "source": [
    "class Sigmoid:\n",
    "    def __init__(self):\n",
    "        pass\n",
    "\n",
    "    def sigmoid(self, x):\n",
    "        return 1 / (1 + np.exp(-x))\n",
    "\n",
    "    def forward(self, x):\n",
    "        self.x = x\n",
    "        self.y = self.sigmoid(x)\n",
    "        return self.y\n",
    "\n",
    "    def backward(self, d):\n",
    "        \"\"\" d 代表后一层的偏导数 \"\"\"\n",
    "        sig = self.sigmoid(self.x)\n",
    "        self.dx = d * sig * (1 - sig)\n",
    "        return self.dx"
   ]
  },
  {
   "cell_type": "markdown",
   "id": "7eca2a83",
   "metadata": {},
   "source": [
    "### 全连接层的反向传播\n",
    "\n",
    "现在我们已经走到了最后一步，那就是全连接层的反向传播过程。这个过程也是最重要的过程，他将接收激活函数层传递过来的，处理后的损失误差。而这一层也将通过损失误差，计算相应的参数 $w$,$b$ 的梯度 $dw$，$db$ 。而其中参数 $w$，$b$ 与最后的结果产生联系的过程如下所示：\n",
    "\n",
    "$$\\mathrm { z } = \\mathrm { w }_{11} * \\mathrm { a_l } + \\mathrm { w }_{12} * \\mathrm { a }_2 + \\mathrm { b }_1 \\tag{11}$$\n",
    "\n",
    "$$\\mathrm { h } = \\operatorname { sigmoid } ( \\mathrm { z } )\\tag {12}$$\n",
    "\n",
    "$$\\mathrm { h }_1 = \\operatorname { sigmoid } \\left( \\mathrm { w }_{11} * \\mathrm { a }_1 + \\mathrm { w }_{12} * { \\mathrm { a }_{2} } + \\mathrm { b }_1 \\right)\\tag {13}$$\n",
    "\n",
    "也就是说，我们求的其实是 $h_1$ 关于 $w$ 和 $b$ 的偏导。最终我们可以得到\n",
    "\n",
    "$$dw = dz \\cdot X^T \\tag{14}$$\n",
    "\n",
    "$$db =dz \\tag{15}$$"
   ]
  },
  {
   "cell_type": "code",
   "execution_count": 14,
   "id": "c4be33b3",
   "metadata": {
    "ExecuteTime": {
     "end_time": "2021-12-13T09:14:56.996555Z",
     "start_time": "2021-12-13T09:14:56.919560Z"
    }
   },
   "outputs": [],
   "source": [
    "class FullyConnect:\n",
    "    def __init__(self, l_x, l_y):\n",
    "        self.weights = np.random.randn(l_y, l_x) / np.sqrt(l_x)\n",
    "        self.bias = np.random.randn(l_y, 1)\n",
    "        self.lr = 0\n",
    "\n",
    "    def forward(self, x):\n",
    "        self.x = x\n",
    "        self.y = np.array([np.dot(self.weights, xx) + self.bias for xx in x])\n",
    "        return self.y\n",
    "\n",
    "    def backward(self, d):\n",
    "        ### 链式法则计算偏导数 ###\n",
    "        ddw = [np.dot(dd, xx.T) for dd, xx in zip(d, self.x)]\n",
    "        ### 计算所有数据的平均梯度 ###\n",
    "        self.dw = np.sum(ddw, axis=0) / self.x.shape[0]\n",
    "        self.db = np.sum(d, axis=0) / self.x.shape[0]\n",
    "        self.dx = np.array([np.dot(self.weights.T, dd) for dd in d])\n",
    "        ### 梯度下降法更新权重值\n",
    "        self.weights -= self.lr * self.dw\n",
    "        self.bias -= self.lr * self.db\n",
    "        return self.dx"
   ]
  },
  {
   "cell_type": "markdown",
   "id": "b42ca1c6",
   "metadata": {},
   "source": [
    "## 手写数字识别"
   ]
  },
  {
   "cell_type": "code",
   "execution_count": 15,
   "id": "504050e6",
   "metadata": {
    "ExecuteTime": {
     "end_time": "2021-12-13T09:14:57.076586Z",
     "start_time": "2021-12-13T09:14:57.000556Z"
    }
   },
   "outputs": [
    {
     "data": {
      "text/plain": [
       "((1500, 64), (1500,), (296, 64), (296,))"
      ]
     },
     "execution_count": 15,
     "metadata": {},
     "output_type": "execute_result"
    }
   ],
   "source": [
    "# 前 1500 条数据用于训练，后续数据用于测试\n",
    "train_data, train_target = digits.data[:1500], digits.target[:1500]\n",
    "test_data, test_target = digits.data[1500:-1], digits.target[1500:-1]\n",
    "train_data.shape, train_target.shape, test_data.shape, test_target.shape"
   ]
  },
  {
   "cell_type": "code",
   "execution_count": 16,
   "id": "10815ce3",
   "metadata": {
    "ExecuteTime": {
     "end_time": "2021-12-13T09:14:57.156575Z",
     "start_time": "2021-12-13T09:14:57.078558Z"
    }
   },
   "outputs": [
    {
     "data": {
      "text/plain": [
       "[<__main__.FullyConnect at 0x1de64bc4dc0>,\n",
       " <__main__.Sigmoid at 0x1de64bc4e20>,\n",
       " <__main__.FullyConnect at 0x1de64bc4190>,\n",
       " <__main__.Sigmoid at 0x1de64bc44f0>]"
      ]
     },
     "execution_count": 16,
     "metadata": {},
     "output_type": "execute_result"
    }
   ],
   "source": [
    "# 定义模型结构\n",
    "inner_layers = [\n",
    "    FullyConnect(8 * 8, 32 + 16),\n",
    "    Sigmoid(),\n",
    "    FullyConnect(32 + 16, 10),\n",
    "    Sigmoid()\n",
    "]\n",
    "inner_layers"
   ]
  },
  {
   "cell_type": "code",
   "execution_count": 17,
   "id": "2a0de5e4",
   "metadata": {
    "ExecuteTime": {
     "end_time": "2021-12-13T09:14:57.220579Z",
     "start_time": "2021-12-13T09:14:57.158556Z"
    }
   },
   "outputs": [
    {
     "data": {
      "text/plain": [
       "(<__main__.QuadraticLoss at 0x1de64bc4910>,\n",
       " <__main__.Accuracy at 0x1de64bc48b0>,\n",
       " 300)"
      ]
     },
     "execution_count": 17,
     "metadata": {},
     "output_type": "execute_result"
    }
   ],
   "source": [
    "loss_layer = QuadraticLoss()\n",
    "accuracy_layer = Accuracy()\n",
    "for layer in inner_layers:\n",
    "    # 对所有模型层设置学习率\n",
    "    layer.lr = 1000\n",
    "# 模型准确率将在训练初期快速提升，后续趋于稳定\n",
    "epochs = 300\n",
    "loss_layer, accuracy_layer, epochs"
   ]
  },
  {
   "cell_type": "code",
   "execution_count": 18,
   "id": "7429eb4f",
   "metadata": {
    "ExecuteTime": {
     "end_time": "2021-12-13T09:15:32.809557Z",
     "start_time": "2021-12-13T09:14:57.222558Z"
    }
   },
   "outputs": [
    {
     "data": {
      "application/vnd.jupyter.widget-view+json": {
       "model_id": "d88d1744fef34a6ca0bc07151eb21a24",
       "version_major": 2,
       "version_minor": 0
      },
      "text/plain": [
       "  0%|          | 0/300 [00:00<?, ?it/s]"
      ]
     },
     "metadata": {},
     "output_type": "display_data"
    }
   ],
   "source": [
    "from tqdm.notebook import tqdm\n",
    "\n",
    "for i in tqdm(range(epochs)):\n",
    "    loss_sum = 0\n",
    "    iters = 0\n",
    "    x = train_data\n",
    "    label = train_target\n",
    "    x = x.reshape(-1, 64, 1)\n",
    "    ### 前向传播 ###\n",
    "    for layer in inner_layers:\n",
    "        x = layer.forward(x)\n",
    "    loss = loss_layer.forward(x, label)\n",
    "    loss_sum += loss\n",
    "    iters += 1\n",
    "    ### 反向传播 ###\n",
    "    d = loss_layer.backward()\n",
    "    for layer in inner_layers[::-1]:\n",
    "        d = layer.backward(d)"
   ]
  },
  {
   "cell_type": "code",
   "execution_count": 19,
   "id": "52b50c98",
   "metadata": {
    "ExecuteTime": {
     "end_time": "2021-12-13T09:15:32.841557Z",
     "start_time": "2021-12-13T09:15:32.813563Z"
    }
   },
   "outputs": [
    {
     "name": "stdout",
     "output_type": "stream",
     "text": [
      "第299次迭代，损失值：0.0454，测试准确率：0.9088\n"
     ]
    }
   ],
   "source": [
    "### 模型评估 ###\n",
    "x = test_data\n",
    "label = test_target\n",
    "x = x.reshape(-10, 64, 1)\n",
    "for layer in inner_layers:\n",
    "    x = layer.forward(x)\n",
    "### 准确率 ###\n",
    "acc = accuracy_layer.forward(x, label)\n",
    "print(f'第{i}次迭代，损失值：{loss_sum / iters:.4f}，测试准确率：{acc:.4f}')"
   ]
  },
  {
   "cell_type": "markdown",
   "id": "36b7d262",
   "metadata": {},
   "source": [
    "我们选用的是 64 → 48 → 10 结构，经过精心调参，我们将准确率提升到了 90% 左右。"
   ]
  },
  {
   "cell_type": "markdown",
   "id": "285b4750",
   "metadata": {},
   "source": [
    "## 实验总结\n",
    "\n",
    "我们从神经网络的原理出发，了解了神经网络的正向传播原理和反向传播原理。并在学习原理的过程中，利用 Python 搭建起了一个简单的神经网络模型。而很多解决实际问题的神经网络其实非常复杂。因此，为了提高效率，我们常常会采用 TensorFlow，PyTorch 等深度学习框架搭建神经网络。 "
   ]
  }
 ],
 "metadata": {
  "kernelspec": {
   "display_name": "Python 3 (ipykernel)",
   "language": "python",
   "name": "python3"
  },
  "language_info": {
   "codemirror_mode": {
    "name": "ipython",
    "version": 3
   },
   "file_extension": ".py",
   "mimetype": "text/x-python",
   "name": "python",
   "nbconvert_exporter": "python",
   "pygments_lexer": "ipython3",
   "version": "3.8.12"
  },
  "toc": {
   "base_numbering": 1,
   "nav_menu": {},
   "number_sections": false,
   "sideBar": true,
   "skip_h1_title": true,
   "title_cell": "目录",
   "title_sidebar": "目录",
   "toc_cell": true,
   "toc_position": {},
   "toc_section_display": true,
   "toc_window_display": true
  }
 },
 "nbformat": 4,
 "nbformat_minor": 5
}
