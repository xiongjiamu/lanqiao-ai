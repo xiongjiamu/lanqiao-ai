{
 "cells": [
  {
   "cell_type": "markdown",
   "id": "ffe3fd6c",
   "metadata": {},
   "source": [
    "# Tensorflow 2 构建人工神经网络"
   ]
  },
  {
   "cell_type": "markdown",
   "id": "852ce3e0",
   "metadata": {},
   "source": [
    "## 低阶 API"
   ]
  },
  {
   "cell_type": "code",
   "execution_count": 1,
   "id": "68a848b3",
   "metadata": {},
   "outputs": [
    {
     "name": "stderr",
     "output_type": "stream",
     "text": [
      "C:\\Users\\Dragon1573\\Repos\\tensorflow-abc\\env\\lib\\importlib\\_bootstrap.py:219: RuntimeWarning: numpy.ndarray size changed, may indicate binary incompatibility. Expected 80 from C header, got 88 from PyObject\n",
      "  return f(*args, **kwds)\n"
     ]
    }
   ],
   "source": [
    "# %% 导入依赖项\n",
    "import numpy as np\n",
    "import tensorflow as tf\n",
    "from sklearn.datasets import load_digits\n",
    "from sklearn.model_selection import train_test_split"
   ]
  },
  {
   "cell_type": "code",
   "execution_count": 2,
   "id": "9ae19e8c",
   "metadata": {},
   "outputs": [
    {
     "data": {
      "text/plain": [
       "((1437, 64), (360, 64), (1437, 10), (360, 10))"
      ]
     },
     "execution_count": 2,
     "metadata": {},
     "output_type": "execute_result"
    }
   ],
   "source": [
    "digits = load_digits()\n",
    "# 独热编码\n",
    "digits_y = np.eye(10)[digits.target.reshape(-1)]\n",
    "X_train, X_test, y_train, y_test = train_test_split(digits.data, digits_y, test_size=0.2, random_state=1)\n",
    "X_train.shape, X_test.shape, y_train.shape, y_test.shape"
   ]
  },
  {
   "cell_type": "markdown",
   "id": "a2518fac",
   "metadata": {},
   "source": [
    "包含单个隐含层，输入层长度`(None, 64)`，隐含层`(None, 30)`，输出层`(None, 10)`，隐含层 RELU 激活，输出层不激活。"
   ]
  },
  {
   "cell_type": "code",
   "execution_count": 3,
   "id": "a50d4899",
   "metadata": {},
   "outputs": [],
   "source": [
    "class Model(object):\n",
    "    \"\"\" 模型类 \"\"\"\n",
    "    def __init__(self):\n",
    "        self.W1 = tf.Variable(tf.random.normal([64, 30]))\n",
    "        self.b1 = tf.Variable(tf.random.normal([30]))\n",
    "        self.W2 = tf.Variable(tf.random.normal([30, 10]))\n",
    "        self.b2 = tf.Variable(tf.random.normal([10]))\n",
    "\n",
    "    def __call__(self, x):\n",
    "        x = tf.cast(x, tf.float32)\n",
    "        # 线性计算＋激活\n",
    "        fc1 = tf.nn.relu(tf.add(tf.matmul(x, self.W1), self.b1))\n",
    "        fc2 = tf.add(tf.matmul(fc1, self.W2), self.b2)\n",
    "        return fc2"
   ]
  },
  {
   "cell_type": "code",
   "execution_count": 4,
   "id": "49212e43",
   "metadata": {},
   "outputs": [],
   "source": [
    "def loss_fn(model, x, y):\n",
    "    \"\"\" 损失函数 \"\"\"\n",
    "    preds = model(x)\n",
    "    return tf.reduce_mean(tf.nn.softmax_cross_entropy_with_logits(logits=preds, labels=y))"
   ]
  },
  {
   "cell_type": "code",
   "execution_count": 5,
   "id": "174bf70f",
   "metadata": {},
   "outputs": [],
   "source": [
    "def accuracy_fn(logits, labels):\n",
    "    \"\"\" 准确率评估函数 \"\"\"\n",
    "    preds = tf.argmax(logits, axis=1)\n",
    "    labels = tf.argmax(labels, axis=1)\n",
    "    return tf.reduce_mean(tf.cast(tf.equal(preds, labels), tf.float32))"
   ]
  },
  {
   "cell_type": "code",
   "execution_count": 6,
   "id": "c56852d1",
   "metadata": {},
   "outputs": [
    {
     "name": "stdout",
     "output_type": "stream",
     "text": [
      "Epoch [10/200], Train loss: [65.105], Test accuracy: 0.389\n",
      "Epoch [20/200], Train loss: [23.203], Test accuracy: 0.625\n",
      "Epoch [30/200], Train loss: [15.269], Test accuracy: 0.689\n",
      "Epoch [40/200], Train loss: [11.559], Test accuracy: 0.747\n",
      "Epoch [50/200], Train loss: [8.845], Test accuracy: 0.786\n",
      "Epoch [60/200], Train loss: [7.094], Test accuracy: 0.822\n",
      "Epoch [70/200], Train loss: [6.263], Test accuracy: 0.836\n",
      "Epoch [80/200], Train loss: [5.473], Test accuracy: 0.853\n",
      "Epoch [90/200], Train loss: [4.588], Test accuracy: 0.856\n",
      "Epoch [100/200], Train loss: [3.989], Test accuracy: 0.878\n",
      "Epoch [110/200], Train loss: [3.532], Test accuracy: 0.872\n",
      "Epoch [120/200], Train loss: [3.029], Test accuracy: 0.872\n",
      "Epoch [130/200], Train loss: [2.855], Test accuracy: 0.883\n",
      "Epoch [140/200], Train loss: [2.724], Test accuracy: 0.894\n",
      "Epoch [150/200], Train loss: [2.248], Test accuracy: 0.892\n",
      "Epoch [160/200], Train loss: [2.272], Test accuracy: 0.894\n",
      "Epoch [170/200], Train loss: [2.164], Test accuracy: 0.900\n",
      "Epoch [180/200], Train loss: [1.985], Test accuracy: 0.900\n",
      "Epoch [190/200], Train loss: [1.885], Test accuracy: 0.900\n",
      "Epoch [200/200], Train loss: [1.835], Test accuracy: 0.911\n"
     ]
    }
   ],
   "source": [
    "# %% 迭代训练\n",
    "EPOCHS, LEARNING_RATE = 200, 0.02\n",
    "model = Model()\n",
    "for epoch in range(EPOCHS):\n",
    "    with tf.GradientTape() as tape:\n",
    "        loss = loss_fn(model, X_train, y_train)\n",
    "    trainable_variables = [model.W1, model.b1, model.W2, model.b2]\n",
    "    grads = tape.gradient(loss, trainable_variables)\n",
    "    # Adam 是一种优化的梯度下降\n",
    "    optimizer = tf.optimizers.Adam(learning_rate=LEARNING_RATE)\n",
    "    optimizer.apply_gradients(zip(grads, trainable_variables))\n",
    "    accuracy = accuracy_fn(model(X_test), y_test)\n",
    "    # 输出指标\n",
    "    if (epoch + 1) % 10 == 0:\n",
    "        print('Epoch [{}/{}], Train loss: [{:.3f}], Test accuracy: {:.3f}'\n",
    "              .format(epoch + 1, EPOCHS, loss, accuracy))"
   ]
  },
  {
   "cell_type": "markdown",
   "id": "8e42d36b",
   "metadata": {},
   "source": [
    "## Keras 高阶 API 实现"
   ]
  },
  {
   "cell_type": "markdown",
   "id": "d40525ec",
   "metadata": {},
   "source": [
    "### 函数式模型"
   ]
  },
  {
   "cell_type": "code",
   "execution_count": 8,
   "id": "9e036925",
   "metadata": {},
   "outputs": [],
   "source": [
    "# %% 构建模型\n",
    "inputs = tf.keras.Input(shape=(64,))\n",
    "x = tf.keras.layers.Dense(30, activation='relu')(inputs)\n",
    "outputs = tf.keras.layers.Dense(10, activation='softmax')(x)"
   ]
  },
  {
   "cell_type": "code",
   "execution_count": 9,
   "id": "d3f7f0b4",
   "metadata": {},
   "outputs": [
    {
     "name": "stdout",
     "output_type": "stream",
     "text": [
      "Model: \"functional_1\"\n",
      "_________________________________________________________________\n",
      "Layer (type)                 Output Shape              Param #   \n",
      "=================================================================\n",
      "input_2 (InputLayer)         [(None, 64)]              0         \n",
      "_________________________________________________________________\n",
      "dense_1 (Dense)              (None, 30)                1950      \n",
      "_________________________________________________________________\n",
      "dense_2 (Dense)              (None, 10)                310       \n",
      "=================================================================\n",
      "Total params: 2,260\n",
      "Trainable params: 2,260\n",
      "Non-trainable params: 0\n",
      "_________________________________________________________________\n"
     ]
    }
   ],
   "source": [
    "# %% 指定模型的输入与输出\n",
    "model = tf.keras.Model(inputs=inputs, outputs=outputs)\n",
    "model.summary()"
   ]
  },
  {
   "cell_type": "markdown",
   "id": "414020b4",
   "metadata": {},
   "source": [
    "使用 Adam 优化器，Categorical Cross Entropy 多分类交叉熵作为损失函数。CCE 来自 Keras ，去除了 Softmax 步骤，此步骤被前移到模型输出激活层。"
   ]
  },
  {
   "cell_type": "code",
   "execution_count": 10,
   "id": "24b01f40",
   "metadata": {},
   "outputs": [
    {
     "name": "stdout",
     "output_type": "stream",
     "text": [
      "Epoch 1/10\n",
      "23/23 [==============================] - 0s 10ms/step - loss: 7.7550 - accuracy: 0.1030 - val_loss: 4.6756 - val_accuracy: 0.1806\n",
      "Epoch 2/10\n",
      "23/23 [==============================] - 0s 3ms/step - loss: 3.7980 - accuracy: 0.2241 - val_loss: 2.9313 - val_accuracy: 0.3111\n",
      "Epoch 3/10\n",
      "23/23 [==============================] - 0s 2ms/step - loss: 2.5837 - accuracy: 0.3326 - val_loss: 2.0953 - val_accuracy: 0.4028\n",
      "Epoch 4/10\n",
      "23/23 [==============================] - 0s 3ms/step - loss: 1.9256 - accuracy: 0.4433 - val_loss: 1.5561 - val_accuracy: 0.5222\n",
      "Epoch 5/10\n",
      "23/23 [==============================] - 0s 3ms/step - loss: 1.4264 - accuracy: 0.5484 - val_loss: 1.1886 - val_accuracy: 0.6333\n",
      "Epoch 6/10\n",
      "23/23 [==============================] - 0s 3ms/step - loss: 1.0709 - accuracy: 0.6688 - val_loss: 0.8805 - val_accuracy: 0.7306\n",
      "Epoch 7/10\n",
      "23/23 [==============================] - 0s 2ms/step - loss: 0.8310 - accuracy: 0.7502 - val_loss: 0.7066 - val_accuracy: 0.7917\n",
      "Epoch 8/10\n",
      "23/23 [==============================] - 0s 2ms/step - loss: 0.6788 - accuracy: 0.7891 - val_loss: 0.5898 - val_accuracy: 0.8167\n",
      "Epoch 9/10\n",
      "23/23 [==============================] - 0s 3ms/step - loss: 0.5645 - accuracy: 0.8260 - val_loss: 0.4989 - val_accuracy: 0.8444\n",
      "Epoch 10/10\n",
      "23/23 [==============================] - 0s 3ms/step - loss: 0.4843 - accuracy: 0.8525 - val_loss: 0.4362 - val_accuracy: 0.8722\n"
     ]
    },
    {
     "data": {
      "text/plain": [
       "<tensorflow.python.keras.callbacks.History at 0x234f599c188>"
      ]
     },
     "execution_count": 10,
     "metadata": {},
     "output_type": "execute_result"
    }
   ],
   "source": [
    "# %% 构建、训练与评估\n",
    "model.compile(optimizer=tf.optimizers.Adam(), metrics=['accuracy'],\n",
    "              loss=tf.losses.categorical_crossentropy)\n",
    "model.fit(X_train, y_train, batch_size=64, epochs=10, validation_data=(X_test, y_test))"
   ]
  },
  {
   "cell_type": "markdown",
   "id": "2d906240",
   "metadata": {},
   "source": [
    "### 层序模型"
   ]
  },
  {
   "cell_type": "code",
   "execution_count": 11,
   "id": "4e170c9d",
   "metadata": {},
   "outputs": [
    {
     "name": "stdout",
     "output_type": "stream",
     "text": [
      "Model: \"sequential\"\n",
      "_________________________________________________________________\n",
      "Layer (type)                 Output Shape              Param #   \n",
      "=================================================================\n",
      "dense_3 (Dense)              (None, 30)                1950      \n",
      "_________________________________________________________________\n",
      "dense_4 (Dense)              (None, 10)                310       \n",
      "=================================================================\n",
      "Total params: 2,260\n",
      "Trainable params: 2,260\n",
      "Non-trainable params: 0\n",
      "_________________________________________________________________\n"
     ]
    }
   ],
   "source": [
    "model = tf.keras.Sequential()\n",
    "model.add(tf.keras.layers.Dense(units=30, input_dim=64, activation='relu'))\n",
    "model.add(tf.keras.layers.Dense(units=10, activation='softmax'))\n",
    "model.summary()"
   ]
  },
  {
   "cell_type": "code",
   "execution_count": 12,
   "id": "99f593aa",
   "metadata": {},
   "outputs": [
    {
     "name": "stdout",
     "output_type": "stream",
     "text": [
      "Epoch 1/10\n",
      "23/23 [==============================] - 0s 9ms/step - loss: 6.3734 - accuracy: 0.1670 - val_loss: 3.7045 - val_accuracy: 0.2639\n",
      "Epoch 2/10\n",
      "23/23 [==============================] - 0s 2ms/step - loss: 2.7745 - accuracy: 0.3389 - val_loss: 1.7701 - val_accuracy: 0.4639\n",
      "Epoch 3/10\n",
      "23/23 [==============================] - 0s 3ms/step - loss: 1.5441 - accuracy: 0.5609 - val_loss: 1.1329 - val_accuracy: 0.6611\n",
      "Epoch 4/10\n",
      "23/23 [==============================] - 0s 3ms/step - loss: 1.0194 - accuracy: 0.7022 - val_loss: 0.8247 - val_accuracy: 0.7361\n",
      "Epoch 5/10\n",
      "23/23 [==============================] - 0s 3ms/step - loss: 0.7610 - accuracy: 0.7752 - val_loss: 0.6606 - val_accuracy: 0.7889\n",
      "Epoch 6/10\n",
      "23/23 [==============================] - 0s 3ms/step - loss: 0.6122 - accuracy: 0.8149 - val_loss: 0.5605 - val_accuracy: 0.8139\n",
      "Epoch 7/10\n",
      "23/23 [==============================] - 0s 3ms/step - loss: 0.5004 - accuracy: 0.8483 - val_loss: 0.4874 - val_accuracy: 0.8361\n",
      "Epoch 8/10\n",
      "23/23 [==============================] - 0s 2ms/step - loss: 0.4152 - accuracy: 0.8727 - val_loss: 0.4244 - val_accuracy: 0.8528\n",
      "Epoch 9/10\n",
      "23/23 [==============================] - 0s 3ms/step - loss: 0.3577 - accuracy: 0.8963 - val_loss: 0.3873 - val_accuracy: 0.8611\n",
      "Epoch 10/10\n",
      "23/23 [==============================] - 0s 2ms/step - loss: 0.3159 - accuracy: 0.9061 - val_loss: 0.3500 - val_accuracy: 0.8750\n"
     ]
    },
    {
     "data": {
      "text/plain": [
       "<tensorflow.python.keras.callbacks.History at 0x23481d98c48>"
      ]
     },
     "execution_count": 12,
     "metadata": {},
     "output_type": "execute_result"
    }
   ],
   "source": [
    "model.compile(optimizer='adam', loss='categorical_crossentropy', metrics=['accuracy'])\n",
    "model.fit(X_train, y_train, batch_size=64, epochs=10, validation_data=(X_test, y_test))"
   ]
  },
  {
   "cell_type": "markdown",
   "id": "8a53c02b",
   "metadata": {},
   "source": [
    "### 高自由度模型"
   ]
  },
  {
   "cell_type": "code",
   "execution_count": 14,
   "id": "dd51cb04",
   "metadata": {},
   "outputs": [],
   "source": [
    "class Model(tf.keras.Model):\n",
    "    def __init__(self):\n",
    "        super(Model, self).__init__()\n",
    "        # 模型层次初始化\n",
    "        self.dense_1 = tf.keras.layers.Dense(30, activation='relu')\n",
    "        self.dense_2 = tf.keras.layers.Dense(10, activation='softmax')\n",
    "\n",
    "    def call(self, inputs):\n",
    "        \"\"\" 前向传播 \"\"\"\n",
    "        x = self.dense_1(inputs)\n",
    "        return self.dense_2(x)"
   ]
  },
  {
   "cell_type": "code",
   "execution_count": 15,
   "id": "7a7e70c5",
   "metadata": {},
   "outputs": [
    {
     "name": "stdout",
     "output_type": "stream",
     "text": [
      "Epoch 1/10\n",
      "23/23 [==============================] - 0s 8ms/step - loss: 6.8500 - accuracy: 0.1023 - val_loss: 4.2757 - val_accuracy: 0.2333\n",
      "Epoch 2/10\n",
      "23/23 [==============================] - 0s 2ms/step - loss: 3.2667 - accuracy: 0.2867 - val_loss: 2.3362 - val_accuracy: 0.4056\n",
      "Epoch 3/10\n",
      "23/23 [==============================] - 0s 3ms/step - loss: 1.9067 - accuracy: 0.4690 - val_loss: 1.3475 - val_accuracy: 0.5806\n",
      "Epoch 4/10\n",
      "23/23 [==============================] - 0s 3ms/step - loss: 1.2023 - accuracy: 0.6207 - val_loss: 0.8918 - val_accuracy: 0.7222\n",
      "Epoch 5/10\n",
      "23/23 [==============================] - 0s 3ms/step - loss: 0.8515 - accuracy: 0.7286 - val_loss: 0.6496 - val_accuracy: 0.8111\n",
      "Epoch 6/10\n",
      "23/23 [==============================] - 0s 3ms/step - loss: 0.6506 - accuracy: 0.7871 - val_loss: 0.5231 - val_accuracy: 0.8389\n",
      "Epoch 7/10\n",
      "23/23 [==============================] - 0s 3ms/step - loss: 0.5231 - accuracy: 0.8309 - val_loss: 0.4421 - val_accuracy: 0.8750\n",
      "Epoch 8/10\n",
      "23/23 [==============================] - 0s 3ms/step - loss: 0.4316 - accuracy: 0.8650 - val_loss: 0.3780 - val_accuracy: 0.9000\n",
      "Epoch 9/10\n",
      "23/23 [==============================] - 0s 2ms/step - loss: 0.3747 - accuracy: 0.8824 - val_loss: 0.3403 - val_accuracy: 0.9000\n",
      "Epoch 10/10\n",
      "23/23 [==============================] - 0s 3ms/step - loss: 0.3256 - accuracy: 0.8970 - val_loss: 0.3043 - val_accuracy: 0.9083\n"
     ]
    },
    {
     "data": {
      "text/plain": [
       "<tensorflow.python.keras.callbacks.History at 0x234807beb88>"
      ]
     },
     "execution_count": 15,
     "metadata": {},
     "output_type": "execute_result"
    }
   ],
   "source": [
    "model = Model()\n",
    "model.compile(optimizer='adam', loss='categorical_crossentropy', metrics=['accuracy'])\n",
    "model.fit(X_train, y_train, batch_size=64, epochs=10, validation_data=(X_test, y_test))"
   ]
  }
 ],
 "metadata": {
  "kernelspec": {
   "display_name": "Python 3 (ipykernel)",
   "language": "python",
   "name": "python3"
  },
  "language_info": {
   "codemirror_mode": {
    "name": "ipython",
    "version": 3
   },
   "file_extension": ".py",
   "mimetype": "text/x-python",
   "name": "python",
   "nbconvert_exporter": "python",
   "pygments_lexer": "ipython3",
   "version": "3.7.11"
  }
 },
 "nbformat": 4,
 "nbformat_minor": 5
}
