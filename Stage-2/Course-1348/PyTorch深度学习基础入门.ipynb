{
 "cells": [
  {
   "cell_type": "markdown",
   "id": "64625b50",
   "metadata": {
    "toc": true
   },
   "source": [
    "<h1>目录<span class=\"tocSkip\"></span></h1>\n",
    "<div class=\"toc\"><ul class=\"toc-item\"><li><ul class=\"toc-item\"><li><span><a href=\"#介绍\" data-toc-modified-id=\"介绍-0.1\">介绍</a></span></li><li><span><a href=\"#知识点\" data-toc-modified-id=\"知识点-0.2\">知识点</a></span></li></ul></li><li><span><a href=\"#PyTorch-基础语法\" data-toc-modified-id=\"PyTorch-基础语法-1\">PyTorch 基础语法</a></span><ul class=\"toc-item\"><li><span><a href=\"#张量\" data-toc-modified-id=\"张量-1.1\">张量</a></span></li><li><span><a href=\"#操作\" data-toc-modified-id=\"操作-1.2\">操作</a></span></li><li><span><a href=\"#NumPy-转换\" data-toc-modified-id=\"NumPy-转换-1.3\">NumPy 转换</a></span></li><li><span><a href=\"#CUDA-张量（N卡专属）\" data-toc-modified-id=\"CUDA-张量（N卡专属）-1.4\">CUDA 张量（N卡专属）</a></span></li></ul></li><li><span><a href=\"#Autograd-自动求导\" data-toc-modified-id=\"Autograd-自动求导-2\">Autograd 自动求导</a></span><ul class=\"toc-item\"><li><span><a href=\"#梯度\" data-toc-modified-id=\"梯度-2.1\">梯度</a></span></li><li><span><a href=\"#神经网络\" data-toc-modified-id=\"神经网络-2.2\">神经网络</a></span><ul class=\"toc-item\"><li><span><a href=\"#损失函数\" data-toc-modified-id=\"损失函数-2.2.1\">损失函数</a></span></li><li><span><a href=\"#反向传播\" data-toc-modified-id=\"反向传播-2.2.2\">反向传播</a></span></li></ul></li><li><span><a href=\"#更新权重\" data-toc-modified-id=\"更新权重-2.3\">更新权重</a></span></li></ul></li><li><span><a href=\"#训练一个分类器\" data-toc-modified-id=\"训练一个分类器-3\">训练一个分类器</a></span><ul class=\"toc-item\"><li><span><a href=\"#读取和归一化-CIFAR10\" data-toc-modified-id=\"读取和归一化-CIFAR10-3.1\">读取和归一化 CIFAR10</a></span></li><li><span><a href=\"#定义-CNN\" data-toc-modified-id=\"定义-CNN-3.2\">定义 CNN</a></span></li><li><span><a href=\"#定义损失函数与优化器\" data-toc-modified-id=\"定义损失函数与优化器-3.3\">定义损失函数与优化器</a></span></li><li><span><a href=\"#训练模型\" data-toc-modified-id=\"训练模型-3.4\">训练模型</a></span></li><li><span><a href=\"#在测试集上测试网络\" data-toc-modified-id=\"在测试集上测试网络-3.5\">在测试集上测试网络</a></span></li></ul></li><li><span><a href=\"#实验总结\" data-toc-modified-id=\"实验总结-4\">实验总结</a></span></li></ul></div>"
   ]
  },
  {
   "cell_type": "markdown",
   "id": "d5810bc1",
   "metadata": {},
   "source": [
    "### 介绍\n",
    "\n",
    "PyTorch 是由 Facebook 主导开发的深度学习框架，因其高效的计算过程以及良好的易用性被诸多大公司和科研人员所喜爱。本次实验中，我们将学习 PyTorch 的基础语法，了解 Autograd 自动求导机制，并最终利用 PyTorch 构建可用于图像分类任务的人工神经网络。\n",
    "\n",
    "### 知识点\n",
    "\n",
    "- PyTorch 基础语法\n",
    "- Autograd 自动求导\n",
    "- 神经网络分类器"
   ]
  },
  {
   "cell_type": "markdown",
   "id": "d48eeaa1",
   "metadata": {},
   "source": [
    "<div class=\"alert alert-warning\">\n",
    "   <font size=4><b>课程说明</b></font>\n",
    "  <p>本次课程基于 PyTorch 官方提供的 <a href=\"https://pytorch.org/tutorials/beginner/deep_learning_60min_blitz.html\"><i class=\"fa fa-external-link-square\" aria-hidden=\"true\"> 基础入门教程编译制作</i></a>，原内容使用\n",
    "    <a href=\"https://github.com/pytorch/tutorials/blob/master/LICENSE\"><i class=\"fa fa-external-link-square\" aria-hidden=\"true\"> BSD 3-Clause</i></a> 授权协议，编译后内容沿用该授权协议但需添加蓝桥云课作为编译机构署名。\n",
    "  </p>\n",
    "</div>"
   ]
  },
  {
   "cell_type": "markdown",
   "id": "9ad5d024",
   "metadata": {},
   "source": [
    "## PyTorch 基础语法"
   ]
  },
  {
   "cell_type": "markdown",
   "id": "7cceca52",
   "metadata": {},
   "source": [
    "### 张量"
   ]
  },
  {
   "cell_type": "code",
   "execution_count": 1,
   "id": "f05b0ea4",
   "metadata": {
    "ExecuteTime": {
     "end_time": "2021-12-08T08:40:27.737346Z",
     "start_time": "2021-12-08T08:40:26.691412Z"
    }
   },
   "outputs": [
    {
     "data": {
      "text/plain": [
       "tensor([[1.0837e-38, 8.4490e-39, 8.9082e-39],\n",
       "        [1.0378e-38, 8.9082e-39, 4.1328e-39],\n",
       "        [9.6429e-39, 9.9184e-39, 9.0000e-39],\n",
       "        [1.0561e-38, 1.0653e-38, 4.1327e-39],\n",
       "        [8.9082e-39, 9.8265e-39, 9.4592e-39]])"
      ]
     },
     "execution_count": 1,
     "metadata": {},
     "output_type": "execute_result"
    }
   ],
   "source": [
    "# %% 未初始化的张量矩阵\n",
    "import torch\n",
    "\n",
    "torch.empty(5, 3)"
   ]
  },
  {
   "cell_type": "code",
   "execution_count": 2,
   "id": "13698320",
   "metadata": {
    "ExecuteTime": {
     "end_time": "2021-12-08T08:40:27.753346Z",
     "start_time": "2021-12-08T08:40:27.740350Z"
    }
   },
   "outputs": [
    {
     "data": {
      "text/plain": [
       "tensor([[0.6798, 0.2181, 0.8032],\n",
       "        [0.6154, 0.6900, 0.4371],\n",
       "        [0.0711, 0.9696, 0.6884],\n",
       "        [0.1598, 0.3508, 0.1489],\n",
       "        [0.1722, 0.2482, 0.3071]])"
      ]
     },
     "execution_count": 2,
     "metadata": {},
     "output_type": "execute_result"
    }
   ],
   "source": [
    "# %% 随机初始化\n",
    "torch.rand(5, 3)"
   ]
  },
  {
   "cell_type": "code",
   "execution_count": 3,
   "id": "87379188",
   "metadata": {
    "ExecuteTime": {
     "end_time": "2021-12-08T08:40:27.816348Z",
     "start_time": "2021-12-08T08:40:27.755348Z"
    }
   },
   "outputs": [
    {
     "data": {
      "text/plain": [
       "tensor([[0, 0, 0],\n",
       "        [0, 0, 0],\n",
       "        [0, 0, 0],\n",
       "        [0, 0, 0],\n",
       "        [0, 0, 0]])"
      ]
     },
     "execution_count": 3,
     "metadata": {},
     "output_type": "execute_result"
    }
   ],
   "source": [
    "# %% 零填充矩阵\n",
    "torch.zeros(5, 3, dtype=torch.long)"
   ]
  },
  {
   "cell_type": "code",
   "execution_count": 4,
   "id": "1a69dc2f",
   "metadata": {
    "ExecuteTime": {
     "end_time": "2021-12-08T08:40:27.892345Z",
     "start_time": "2021-12-08T08:40:27.818348Z"
    }
   },
   "outputs": [
    {
     "data": {
      "text/plain": [
       "tensor([5.5000, 3.0000])"
      ]
     },
     "execution_count": 4,
     "metadata": {},
     "output_type": "execute_result"
    }
   ],
   "source": [
    "# %% 现有数据初始化\n",
    "x = torch.tensor([5.5, 3])\n",
    "x"
   ]
  },
  {
   "cell_type": "code",
   "execution_count": 5,
   "id": "0483b148",
   "metadata": {
    "ExecuteTime": {
     "end_time": "2021-12-08T08:40:27.971345Z",
     "start_time": "2021-12-08T08:40:27.893347Z"
    }
   },
   "outputs": [
    {
     "data": {
      "text/plain": [
       "tensor([[1., 1., 1.],\n",
       "        [1., 1., 1.],\n",
       "        [1., 1., 1.],\n",
       "        [1., 1., 1.],\n",
       "        [1., 1., 1.]], dtype=torch.float64)"
      ]
     },
     "execution_count": 5,
     "metadata": {},
     "output_type": "execute_result"
    }
   ],
   "source": [
    "# %% 默认复制全部属性\n",
    "x = x.new_ones(5, 3, dtype=torch.double)\n",
    "x"
   ]
  },
  {
   "cell_type": "code",
   "execution_count": 6,
   "id": "f8824249",
   "metadata": {
    "ExecuteTime": {
     "end_time": "2021-12-08T08:40:28.034348Z",
     "start_time": "2021-12-08T08:40:27.973350Z"
    }
   },
   "outputs": [
    {
     "data": {
      "text/plain": [
       "tensor([[ 0.6513,  1.5956,  0.9458],\n",
       "        [ 0.0206,  0.2500,  0.1933],\n",
       "        [ 0.0151,  0.0250,  0.1983],\n",
       "        [-0.2062,  0.8894,  0.6387],\n",
       "        [-1.6906, -1.5030,  1.3396]])"
      ]
     },
     "execution_count": 6,
     "metadata": {},
     "output_type": "execute_result"
    }
   ],
   "source": [
    "# %% 仅覆盖数据类型\n",
    "x = torch.randn_like(x, dtype=torch.float)\n",
    "x"
   ]
  },
  {
   "cell_type": "code",
   "execution_count": 7,
   "id": "fd3b9e16",
   "metadata": {
    "ExecuteTime": {
     "end_time": "2021-12-08T08:40:28.098345Z",
     "start_time": "2021-12-08T08:40:28.036348Z"
    }
   },
   "outputs": [
    {
     "data": {
      "text/plain": [
       "torch.Size([5, 3])"
      ]
     },
     "execution_count": 7,
     "metadata": {},
     "output_type": "execute_result"
    }
   ],
   "source": [
    "# %% 它是函数（NumPy 自身是 Tuple），返回 Tuple 或 int\n",
    "x.size()"
   ]
  },
  {
   "cell_type": "markdown",
   "id": "4f9245a2",
   "metadata": {},
   "source": [
    "### 操作"
   ]
  },
  {
   "cell_type": "code",
   "execution_count": 8,
   "id": "7741157f",
   "metadata": {
    "ExecuteTime": {
     "end_time": "2021-12-08T08:40:28.176348Z",
     "start_time": "2021-12-08T08:40:28.100349Z"
    }
   },
   "outputs": [
    {
     "data": {
      "text/plain": [
       "tensor([[ 1.3229,  2.3604,  1.6521],\n",
       "        [ 0.6647,  0.8935,  0.3717],\n",
       "        [ 0.9353,  0.0835,  0.4860],\n",
       "        [ 0.4718,  1.0521,  1.2033],\n",
       "        [-1.5187, -1.1743,  1.8866]])"
      ]
     },
     "execution_count": 8,
     "metadata": {},
     "output_type": "execute_result"
    }
   ],
   "source": [
    "# %% 加法\n",
    "y = torch.rand(5, 3)\n",
    "x + y"
   ]
  },
  {
   "cell_type": "code",
   "execution_count": 9,
   "id": "ba5c89e8",
   "metadata": {
    "ExecuteTime": {
     "end_time": "2021-12-08T08:40:28.238350Z",
     "start_time": "2021-12-08T08:40:28.178347Z"
    }
   },
   "outputs": [
    {
     "data": {
      "text/plain": [
       "tensor([[ 1.3229,  2.3604,  1.6521],\n",
       "        [ 0.6647,  0.8935,  0.3717],\n",
       "        [ 0.9353,  0.0835,  0.4860],\n",
       "        [ 0.4718,  1.0521,  1.2033],\n",
       "        [-1.5187, -1.1743,  1.8866]])"
      ]
     },
     "execution_count": 9,
     "metadata": {},
     "output_type": "execute_result"
    }
   ],
   "source": [
    "# %% 加法\n",
    "torch.add(x, y)"
   ]
  },
  {
   "cell_type": "code",
   "execution_count": 10,
   "id": "505f0d47",
   "metadata": {
    "ExecuteTime": {
     "end_time": "2021-12-08T08:40:28.318345Z",
     "start_time": "2021-12-08T08:40:28.242347Z"
    }
   },
   "outputs": [
    {
     "data": {
      "text/plain": [
       "tensor([[ 1.3229,  2.3604,  1.6521],\n",
       "        [ 0.6647,  0.8935,  0.3717],\n",
       "        [ 0.9353,  0.0835,  0.4860],\n",
       "        [ 0.4718,  1.0521,  1.2033],\n",
       "        [-1.5187, -1.1743,  1.8866]])"
      ]
     },
     "execution_count": 10,
     "metadata": {},
     "output_type": "execute_result"
    }
   ],
   "source": [
    "# %% 指定输出位置\n",
    "result = torch.empty(5, 3)\n",
    "torch.add(x, y, out=result)\n",
    "result"
   ]
  },
  {
   "cell_type": "code",
   "execution_count": 11,
   "id": "70ba3f1d",
   "metadata": {
    "ExecuteTime": {
     "end_time": "2021-12-08T08:40:28.379345Z",
     "start_time": "2021-12-08T08:40:28.319348Z"
    }
   },
   "outputs": [
    {
     "data": {
      "text/plain": [
       "tensor([[ 1.3229,  2.3604,  1.6521],\n",
       "        [ 0.6647,  0.8935,  0.3717],\n",
       "        [ 0.9353,  0.0835,  0.4860],\n",
       "        [ 0.4718,  1.0521,  1.2033],\n",
       "        [-1.5187, -1.1743,  1.8866]])"
      ]
     },
     "execution_count": 11,
     "metadata": {},
     "output_type": "execute_result"
    }
   ],
   "source": [
    "# %% \"+=\" 效果，带下划线后缀的方法都会改变张量自身\n",
    "y.add_(x)\n",
    "y"
   ]
  },
  {
   "cell_type": "code",
   "execution_count": 12,
   "id": "33ec7902",
   "metadata": {
    "ExecuteTime": {
     "end_time": "2021-12-08T08:40:28.474346Z",
     "start_time": "2021-12-08T08:40:28.381349Z"
    }
   },
   "outputs": [
    {
     "data": {
      "text/plain": [
       "tensor([ 1.5956,  0.2500,  0.0250,  0.8894, -1.5030])"
      ]
     },
     "execution_count": 12,
     "metadata": {},
     "output_type": "execute_result"
    }
   ],
   "source": [
    "# %% 索引方式与 NumPy 相同\n",
    "x[:, 1]"
   ]
  },
  {
   "cell_type": "code",
   "execution_count": 13,
   "id": "7a4b826a",
   "metadata": {
    "ExecuteTime": {
     "end_time": "2021-12-08T08:40:28.554347Z",
     "start_time": "2021-12-08T08:40:28.475348Z"
    }
   },
   "outputs": [
    {
     "data": {
      "text/plain": [
       "(torch.Size([4, 4]), torch.Size([16]), torch.Size([2, 8]))"
      ]
     },
     "execution_count": 13,
     "metadata": {},
     "output_type": "execute_result"
    }
   ],
   "source": [
    "# %% 改变张量的形状\n",
    "x = torch.randn(4, 4)\n",
    "y = x.view(16)\n",
    "z = x.view(-1, 8)  # \"-1\" 表示自动推断\n",
    "x.size(), y.size(), z.size()"
   ]
  },
  {
   "cell_type": "code",
   "execution_count": 14,
   "id": "3ba930dc",
   "metadata": {
    "ExecuteTime": {
     "end_time": "2021-12-08T08:40:28.634346Z",
     "start_time": "2021-12-08T08:40:28.556348Z"
    }
   },
   "outputs": [
    {
     "data": {
      "text/plain": [
       "(tensor([-0.6776]), -0.6776253581047058)"
      ]
     },
     "execution_count": 14,
     "metadata": {},
     "output_type": "execute_result"
    }
   ],
   "source": [
    "# %% 仅有单个元素的张量可以调用 \".item()\" 方法转换为 Python 内置类型\n",
    "x = torch.randn(1)\n",
    "x, x.item()"
   ]
  },
  {
   "cell_type": "markdown",
   "id": "d6afff8f",
   "metadata": {},
   "source": [
    "<div class=\"alert alert-info\">\n",
    "    <font size=\"4\"><b>提示</b></font>\n",
    "    <p>更多关于 Tensor 操作，包括：转置，索引，切片，数学运算，线性代数，随机数等，可以进一步阅读\n",
    "        <a href=\"https://pytorch.org/docs/torch\">\n",
    "            <i class=\"fa fa-external-link-square\" aria-hidden=\"true\">官方文档</i>\n",
    "        </a>\n",
    "    </p>\n",
    "</div>"
   ]
  },
  {
   "cell_type": "markdown",
   "id": "aaf229bc",
   "metadata": {},
   "source": [
    "### NumPy 转换\n",
    "\n",
    "PyTorch 与 NumPy 共享底层存储，两者会互相影响。"
   ]
  },
  {
   "cell_type": "code",
   "execution_count": 15,
   "id": "8363f77d",
   "metadata": {
    "ExecuteTime": {
     "end_time": "2021-12-08T08:40:28.698349Z",
     "start_time": "2021-12-08T08:40:28.636348Z"
    }
   },
   "outputs": [
    {
     "data": {
      "text/plain": [
       "tensor([1., 1., 1., 1., 1.])"
      ]
     },
     "execution_count": 15,
     "metadata": {},
     "output_type": "execute_result"
    }
   ],
   "source": [
    "a = torch.ones(5)\n",
    "a"
   ]
  },
  {
   "cell_type": "code",
   "execution_count": 16,
   "id": "774578e9",
   "metadata": {
    "ExecuteTime": {
     "end_time": "2021-12-08T08:40:28.778347Z",
     "start_time": "2021-12-08T08:40:28.700349Z"
    }
   },
   "outputs": [
    {
     "data": {
      "text/plain": [
       "array([1., 1., 1., 1., 1.], dtype=float32)"
      ]
     },
     "execution_count": 16,
     "metadata": {},
     "output_type": "execute_result"
    }
   ],
   "source": [
    "b = a.numpy()\n",
    "b"
   ]
  },
  {
   "cell_type": "code",
   "execution_count": 17,
   "id": "2b6230a1",
   "metadata": {
    "ExecuteTime": {
     "end_time": "2021-12-08T08:40:28.906346Z",
     "start_time": "2021-12-08T08:40:28.780351Z"
    }
   },
   "outputs": [
    {
     "data": {
      "text/plain": [
       "(tensor([2., 2., 2., 2., 2.]), array([2., 2., 2., 2., 2.], dtype=float32))"
      ]
     },
     "execution_count": 17,
     "metadata": {},
     "output_type": "execute_result"
    }
   ],
   "source": [
    "a.add_(1)\n",
    "a, b"
   ]
  },
  {
   "cell_type": "code",
   "execution_count": 18,
   "id": "c5e8b96a",
   "metadata": {
    "ExecuteTime": {
     "end_time": "2021-12-08T08:40:28.970347Z",
     "start_time": "2021-12-08T08:40:28.909349Z"
    }
   },
   "outputs": [
    {
     "data": {
      "text/plain": [
       "(array([2., 2., 2., 2., 2.]),\n",
       " tensor([2., 2., 2., 2., 2.], dtype=torch.float64))"
      ]
     },
     "execution_count": 18,
     "metadata": {},
     "output_type": "execute_result"
    }
   ],
   "source": [
    "import numpy as np\n",
    "\n",
    "a = np.ones(5)\n",
    "b = torch.from_numpy(a)\n",
    "np.add(a, 1, out=a)\n",
    "a, b"
   ]
  },
  {
   "cell_type": "markdown",
   "id": "1bef8135",
   "metadata": {},
   "source": [
    "所有的 Tensor 类型默认都是基于 CPU， CharTensor 类型不支持到 NumPy 的转换。"
   ]
  },
  {
   "cell_type": "markdown",
   "id": "54f5d874",
   "metadata": {},
   "source": [
    "### CUDA 张量（N卡专属）\n",
    "\n",
    "CUDA 张量是能够在 GPU 设备中运算的张量。使用 `.to` 方法可以将 Tensor 移动到 GPU 设备中。\n",
    "\n",
    "CUDA 是专属于 NVIDIA 中高端显卡的功能，需要安装对应 CUDA 版本的 PyTorch ，同时另外安装 CUDA 编程环境以支持 Python 对 CUDA 的调用。"
   ]
  },
  {
   "cell_type": "code",
   "execution_count": 19,
   "id": "28cba624",
   "metadata": {
    "ExecuteTime": {
     "end_time": "2021-12-08T08:40:29.032346Z",
     "start_time": "2021-12-08T08:40:28.973351Z"
    }
   },
   "outputs": [
    {
     "name": "stdout",
     "output_type": "stream",
     "text": [
      "No supported GPUs! BUY ONE NOW!\n"
     ]
    }
   ],
   "source": [
    "# is_available 函数判断是否有 GPU 可以使用\n",
    "if torch.cuda.is_available():\n",
    "    device = torch.device(\"cuda\")  # torch.device 将张量移动到指定的设备中\n",
    "    y = torch.ones_like(x, device=device)  # 直接从 GPU 创建张量\n",
    "    x = x.to(device)  # 或者直接使用 .to(\"cuda\") 将张量移动到 cuda 中\n",
    "    z = x + y\n",
    "    print(z)\n",
    "    print(z.to(\"cpu\", torch.double))  # .to 也会对变量的类型做更改\n",
    "else:\n",
    "    print(EnvironmentError('No supported GPUs! BUY ONE NOW!'))"
   ]
  },
  {
   "cell_type": "markdown",
   "id": "d5b71b35",
   "metadata": {},
   "source": [
    "## Autograd 自动求导\n",
    "\n",
    "PyTorch 中所有神经网络的核心是 [`autograd`](https://pytorch.org/docs/stable/autograd.html?highlight=autograd#module-torch.autograd)。我们先简单介绍一下这个包，然后训练一个神经网络。\n",
    "\n",
    "[`autograd`](https://pytorch.org/docs/stable/autograd.html?highlight=autograd#module-torch.autograd)为张量上的所有操作提供了自动求导。它是一个在运行时定义的框架，这意味着反向传播是根据你的代码来确定如何运行。`torch.Tensor` 是这个包的核心类。如果设置 `.requires_grad` 为 `True`，那么将会追踪所有对于该张量的操作。当完成计算后通过调用 `.backward()` 会自动计算所有的梯度，这个张量的所有梯度将会自动积累到 `.grad` 属性。这也就完成了自动求导的过程。\n",
    "\n",
    "要阻止张量跟踪历史记录，可以调用 `.detach()` 方法将其与计算历史记录分离。为了防止跟踪历史记录（和使用内存），可以将代码块包装在 `with torch.no_grad():` 语句中。这一点在评估模型时特别有用，因为模型可能具有 `requires_grad=True` 的可训练参数，但是我们并不需要计算梯度。\n",
    "\n",
    "自动求导中还有另外一个重要的类 `Function`。`Tensor` 和 `Function` 互相连接并生成一个非循环图，其存储了完整的计算历史。\n",
    "\n",
    "如果需要计算导数，你可以在 `Tensor` 上调用 `.backward()`。 如果 `Tensor` 是一个标量（即它包含一个元素数据）则不需要为 `backward()` 指定任何参数。但是，如果它有多个元素，你需要指定一个 `gradient` 参数来匹配张量的形状。"
   ]
  },
  {
   "cell_type": "code",
   "execution_count": 20,
   "id": "0e469e15",
   "metadata": {
    "ExecuteTime": {
     "end_time": "2021-12-08T08:40:29.126345Z",
     "start_time": "2021-12-08T08:40:29.040350Z"
    }
   },
   "outputs": [
    {
     "data": {
      "text/plain": [
       "tensor([[1., 1.],\n",
       "        [1., 1.]], requires_grad=True)"
      ]
     },
     "execution_count": 20,
     "metadata": {},
     "output_type": "execute_result"
    }
   ],
   "source": [
    "x = torch.ones(2, 2, requires_grad=True)\n",
    "x"
   ]
  },
  {
   "cell_type": "code",
   "execution_count": 21,
   "id": "cf1124f3",
   "metadata": {
    "ExecuteTime": {
     "end_time": "2021-12-08T08:40:29.205346Z",
     "start_time": "2021-12-08T08:40:29.128348Z"
    }
   },
   "outputs": [
    {
     "data": {
      "text/plain": [
       "tensor([[3., 3.],\n",
       "        [3., 3.]], grad_fn=<AddBackward0>)"
      ]
     },
     "execution_count": 21,
     "metadata": {},
     "output_type": "execute_result"
    }
   ],
   "source": [
    "y = x + 2\n",
    "y"
   ]
  },
  {
   "cell_type": "code",
   "execution_count": 22,
   "id": "b4553f94",
   "metadata": {
    "ExecuteTime": {
     "end_time": "2021-12-08T08:40:29.266348Z",
     "start_time": "2021-12-08T08:40:29.207347Z"
    }
   },
   "outputs": [
    {
     "data": {
      "text/plain": [
       "<AddBackward0 at 0x2448c898ca0>"
      ]
     },
     "execution_count": 22,
     "metadata": {},
     "output_type": "execute_result"
    }
   ],
   "source": [
    "y.grad_fn"
   ]
  },
  {
   "cell_type": "code",
   "execution_count": 23,
   "id": "6525b670",
   "metadata": {
    "ExecuteTime": {
     "end_time": "2021-12-08T08:40:29.330348Z",
     "start_time": "2021-12-08T08:40:29.269349Z"
    }
   },
   "outputs": [
    {
     "data": {
      "text/plain": [
       "(tensor([[27., 27.],\n",
       "         [27., 27.]], grad_fn=<MulBackward0>),\n",
       " tensor(27., grad_fn=<MeanBackward0>))"
      ]
     },
     "execution_count": 23,
     "metadata": {},
     "output_type": "execute_result"
    }
   ],
   "source": [
    "z = y**2 * 3\n",
    "out = z.mean()\n",
    "z, out"
   ]
  },
  {
   "cell_type": "code",
   "execution_count": 24,
   "id": "6c62a6d6",
   "metadata": {
    "ExecuteTime": {
     "end_time": "2021-12-08T08:40:29.410345Z",
     "start_time": "2021-12-08T08:40:29.332348Z"
    }
   },
   "outputs": [
    {
     "name": "stdout",
     "output_type": "stream",
     "text": [
      "False\n",
      "True\n",
      "<SumBackward0 object at 0x000002448C8BCAC0>\n"
     ]
    }
   ],
   "source": [
    "a = torch.randn(2, 2)\n",
    "a = ((a * 3) / (a - 1))\n",
    "# 梯度跟踪默认关闭\n",
    "print(a.requires_grad)\n",
    "# 可以修改张量的梯度跟踪属性\n",
    "a.requires_grad_(True)\n",
    "print(a.requires_grad)\n",
    "b = (a * a).sum()\n",
    "print(b.grad_fn)"
   ]
  },
  {
   "cell_type": "markdown",
   "id": "0c2ad4fb",
   "metadata": {},
   "source": [
    "### 梯度"
   ]
  },
  {
   "cell_type": "code",
   "execution_count": 25,
   "id": "f2763beb",
   "metadata": {
    "ExecuteTime": {
     "end_time": "2021-12-08T08:40:29.489346Z",
     "start_time": "2021-12-08T08:40:29.412348Z"
    }
   },
   "outputs": [],
   "source": [
    "# %% 反向传播打印张量的梯度\n",
    "out.backward()"
   ]
  },
  {
   "cell_type": "code",
   "execution_count": 26,
   "id": "29a0873b",
   "metadata": {
    "ExecuteTime": {
     "end_time": "2021-12-08T08:40:29.567345Z",
     "start_time": "2021-12-08T08:40:29.491349Z"
    }
   },
   "outputs": [
    {
     "data": {
      "text/plain": [
       "tensor([[4.5000, 4.5000],\n",
       "        [4.5000, 4.5000]])"
      ]
     },
     "execution_count": 26,
     "metadata": {},
     "output_type": "execute_result"
    }
   ],
   "source": [
    "x.grad"
   ]
  },
  {
   "cell_type": "markdown",
   "id": "0ef7b6c2",
   "metadata": {},
   "source": [
    "我们可以通过数学公式来验算上面的结果：\n",
    "\n",
    "$$out = \\frac{1}{4}\\sum_i z_i$$\n",
    "\n",
    "$$z_i = 3(x_i+2)^2$$\n",
    "\n",
    "$$z_i\\bigr\\rvert_{x_i=1} = 27$$\n",
    "\n",
    "因此，\n",
    "\n",
    "$$\\frac{\\partial out}{\\partial x_i} = \\frac{3}{2}(x_i+2)$$\n",
    "\n",
    "$$\\frac{\\partial out}{\\partial x_i}\\bigr\\rvert_{x_i=1} = \\frac{9}{2} = 4.5$$"
   ]
  },
  {
   "cell_type": "code",
   "execution_count": 27,
   "id": "bcd2a174",
   "metadata": {
    "ExecuteTime": {
     "end_time": "2021-12-08T08:40:29.628346Z",
     "start_time": "2021-12-08T08:40:29.569349Z"
    }
   },
   "outputs": [
    {
     "data": {
      "text/plain": [
       "tensor([  442.7150,   278.2431, -1253.5371], grad_fn=<MulBackward0>)"
      ]
     },
     "execution_count": 27,
     "metadata": {},
     "output_type": "execute_result"
    }
   ],
   "source": [
    "x = torch.randn(3, requires_grad=True)\n",
    "y = x * 2\n",
    "while y.data.norm() < 1000:\n",
    "    y = y * 2\n",
    "y"
   ]
  },
  {
   "cell_type": "code",
   "execution_count": 28,
   "id": "a7b31fda",
   "metadata": {
    "ExecuteTime": {
     "end_time": "2021-12-08T08:40:29.706347Z",
     "start_time": "2021-12-08T08:40:29.630347Z"
    }
   },
   "outputs": [
    {
     "data": {
      "text/plain": [
       "tensor([2.0480e+02, 2.0480e+03, 2.0480e-01])"
      ]
     },
     "execution_count": 28,
     "metadata": {},
     "output_type": "execute_result"
    }
   ],
   "source": [
    "gradients = torch.tensor([0.1, 1.0, 0.0001], dtype=torch.float)\n",
    "y.backward(gradients)\n",
    "x.grad"
   ]
  },
  {
   "cell_type": "code",
   "execution_count": 29,
   "id": "4e35233a",
   "metadata": {
    "ExecuteTime": {
     "end_time": "2021-12-08T08:40:29.768347Z",
     "start_time": "2021-12-08T08:40:29.708348Z"
    }
   },
   "outputs": [
    {
     "name": "stdout",
     "output_type": "stream",
     "text": [
      "True\n",
      "True\n",
      "False\n"
     ]
    }
   ],
   "source": [
    "# 可以借助 torch.no_grad() 暂时屏蔽梯度跟踪\n",
    "print(x.requires_grad)\n",
    "print((x**2).requires_grad)\n",
    "with torch.no_grad():\n",
    "    print((x**2).requires_grad)"
   ]
  },
  {
   "cell_type": "markdown",
   "id": "3397d715",
   "metadata": {},
   "source": [
    "<div class=\"alert alert-info\">\n",
    "    <font size=4><b>提示</b></font>\n",
    "    <p>\n",
    "        <a href=\"https://pytorch.org/docs/stable/autograd.html?highlight=autograd#module-torch.autograd\">\n",
    "            <code>autograd</code>\n",
    "        </a>\n",
    "        和 <code>Function</code> 的\n",
    "        <a href=\"https://pytorch.org/docs/autograd\">\n",
    "            <i class=\"fa fa-external-link-square\" aria-hidden=\"true\"> 官方文档</i>\n",
    "        </a>\n",
    "    </p>\n",
    "</div>"
   ]
  },
  {
   "cell_type": "markdown",
   "id": "e00a567d",
   "metadata": {},
   "source": [
    "### 神经网络\n",
    "\n",
    "PyTorch 中，我们可以使用 [`torch.nn`](https://pytorch.org/docs/stable/nn.html?highlight=torch%20nn#module-torch.nn)来构建神经网络。\n",
    "\n",
    "上一讲已经讲过了 [`autograd`](https://pytorch.org/docs/stable/autograd.html?highlight=autograd#module-torch.autograd)，[`torch.nn`](https://pytorch.org/docs/stable/nn.html?highlight=torch%20nn#module-torch.nn) 依赖 [`autograd`](https://pytorch.org/docs/stable/autograd.html?highlight=autograd#module-torch.autograd) 来定义模型并求导。`nn.Module` 中包含了构建神经网络所需的各个层和 `forward(input)` 方法，该方法返回神经网络的输出。\n",
    "\n",
    "下面给出一个示例网络结构，该网络也是经典的 [<i class=\"fa fa-external-link-square\" aria-hidden=\"true\"> LeNet</i>](http://yann.lecun.com/exdb/lenet/)。\n",
    "\n",
    "![](https://pytorch.org/tutorials/_images/mnist.png)\n",
    "\n",
    "它是一个简单的前馈神经网络，它接受一个输入，然后一层接着一层地传递，最后输出计算的结果。\n",
    "\n",
    "神经网络的典型训练过程如下：\n",
    "\n",
    "1. 定义包含可学习参数（权重）的神经网络模型。 \n",
    "2. 在数据集上迭代。 \n",
    "3. 通过神经网络处理输入。 \n",
    "4. 计算损失（输出结果和正确值的差值大小）。\n",
    "5. 将梯度反向传播回网络节点。 \n",
    "6. 更新网络的参数，一般可使用梯度下降等最优化方法。"
   ]
  },
  {
   "cell_type": "code",
   "execution_count": 30,
   "id": "d1c9b3dc",
   "metadata": {
    "ExecuteTime": {
     "end_time": "2021-12-08T08:40:29.846345Z",
     "start_time": "2021-12-08T08:40:29.771347Z"
    }
   },
   "outputs": [],
   "source": [
    "# %% 导入依赖项\n",
    "from torch import nn\n",
    "from torch.nn import functional as F\n",
    "from functools import reduce\n",
    "from operator import mul"
   ]
  },
  {
   "cell_type": "code",
   "execution_count": 31,
   "id": "e073b092",
   "metadata": {
    "ExecuteTime": {
     "end_time": "2021-12-08T08:40:29.926347Z",
     "start_time": "2021-12-08T08:40:29.847347Z"
    }
   },
   "outputs": [],
   "source": [
    "# %% 定义 LeNet 模型\n",
    "class LeNet(nn.Module):\n",
    "    def __init__(self):\n",
    "        super(LeNet, self).__init__()\n",
    "        # 单通道输入，6通道输出，3×3矩形卷积核\n",
    "        self.conv1 = nn.Conv2d(1, 6, 3)\n",
    "        # 6通道输入，16通道输出，3×3矩形卷积核\n",
    "        self.conv2 = nn.Conv2d(6, 16, 3)\n",
    "        # 三层全连接神经网络\n",
    "        # 6×6像素，16通道图像\n",
    "        self.fc1 = nn.Linear(16 * 6 * 6, 120)\n",
    "        self.fc2 = nn.Linear(120, 84)\n",
    "        self.fc3 = nn.Linear(84, 10)\n",
    "        pass\n",
    "\n",
    "    def forward(self, x):\n",
    "        # 2×2池化窗口\n",
    "        x = F.max_pool2d(F.relu(self.conv1(x)), (2, 2))\n",
    "        x = F.max_pool2d(F.relu(self.conv2(x)), 2)\n",
    "        x = x.view(-1, self.num_flat_features(x))\n",
    "        x = F.relu(self.fc1(x))\n",
    "        x = F.relu(self.fc2(x))\n",
    "        x = self.fc3(x)\n",
    "        return x\n",
    "\n",
    "    def num_flat_features(self, x):\n",
    "        \"\"\" 获取图像总特征数 \"\"\"\n",
    "        size = x.size()[1:]\n",
    "        num_features = reduce(mul, size)\n",
    "        return num_features"
   ]
  },
  {
   "cell_type": "code",
   "execution_count": 32,
   "id": "4955b2c4",
   "metadata": {
    "ExecuteTime": {
     "end_time": "2021-12-08T08:40:30.006350Z",
     "start_time": "2021-12-08T08:40:29.928349Z"
    }
   },
   "outputs": [
    {
     "data": {
      "text/plain": [
       "LeNet(\n",
       "  (conv1): Conv2d(1, 6, kernel_size=(3, 3), stride=(1, 1))\n",
       "  (conv2): Conv2d(6, 16, kernel_size=(3, 3), stride=(1, 1))\n",
       "  (fc1): Linear(in_features=576, out_features=120, bias=True)\n",
       "  (fc2): Linear(in_features=120, out_features=84, bias=True)\n",
       "  (fc3): Linear(in_features=84, out_features=10, bias=True)\n",
       ")"
      ]
     },
     "execution_count": 32,
     "metadata": {},
     "output_type": "execute_result"
    }
   ],
   "source": [
    "# 实例化模型\n",
    "net = LeNet()\n",
    "net"
   ]
  },
  {
   "cell_type": "markdown",
   "id": "f0f4b274",
   "metadata": {},
   "source": [
    "模型中必须要定义 `forward` 函数，`backward` 函数（用来计算梯度）会被 [`autograd`](https://pytorch.org/docs/stable/autograd.html?highlight=autograd#module-torch.autograd) 自动创建。可以在 `forward` 函数中使用任何针对 Tensor 的操作。"
   ]
  },
  {
   "cell_type": "code",
   "execution_count": 33,
   "id": "e3fef893",
   "metadata": {
    "ExecuteTime": {
     "end_time": "2021-12-08T08:40:30.070369Z",
     "start_time": "2021-12-08T08:40:30.009350Z"
    }
   },
   "outputs": [
    {
     "name": "stdout",
     "output_type": "stream",
     "text": [
      "10\n",
      "torch.Size([6, 1, 3, 3])\n"
     ]
    }
   ],
   "source": [
    "# %% 获取模型可学习的参数列表\n",
    "params = list(net.parameters())\n",
    "print(len(params))\n",
    "print(params[0].size())"
   ]
  },
  {
   "cell_type": "code",
   "execution_count": 34,
   "id": "20a23113",
   "metadata": {
    "ExecuteTime": {
     "end_time": "2021-12-08T08:40:30.150346Z",
     "start_time": "2021-12-08T08:40:30.073349Z"
    }
   },
   "outputs": [
    {
     "data": {
      "text/plain": [
       "tensor([[-0.0801, -0.0936, -0.0587,  0.0967, -0.0698, -0.0858,  0.0226, -0.0464,\n",
       "         -0.0164, -0.0492]], grad_fn=<AddmmBackward0>)"
      ]
     },
     "execution_count": 34,
     "metadata": {},
     "output_type": "execute_result"
    }
   ],
   "source": [
    "# %% 随机输入一张图片，LeNet 要求图像为 32×32 单通道\n",
    "img_input = torch.randn(1, 1, 32, 32)\n",
    "out = net(img_input)\n",
    "out"
   ]
  },
  {
   "cell_type": "code",
   "execution_count": 35,
   "id": "911cdf21",
   "metadata": {
    "ExecuteTime": {
     "end_time": "2021-12-08T08:40:30.214346Z",
     "start_time": "2021-12-08T08:40:30.152349Z"
    }
   },
   "outputs": [],
   "source": [
    "# %% 将所有参数梯度缓存清零，进行随机梯度反向传播\n",
    "net.zero_grad()\n",
    "out.backward(torch.randn(1, 10))"
   ]
  },
  {
   "cell_type": "markdown",
   "id": "5fe615ba",
   "metadata": {},
   "source": [
    "<div class=\"alert alert-info\">\n",
    "    <font size=4>\n",
    "        <b>提示</b>\n",
    "    </font>\n",
    "    <p>\n",
    "        <code>torch.nn</code>\n",
    "        只支持小批量输入。整个\n",
    "        <code>torch.nn</code>\n",
    "        包都只支持小批量样本，而不支持单个样本。例如，\n",
    "        <code>nn.Conv2d</code>\n",
    "        接受一个 4 维的张量，每一维分别是 sSamples × nChannels × Height ×\n",
    "        Width（样本数 × 通道数 × 高 × 宽）。如果是单个样本，需使用\n",
    "        <code>input.unsqueeze(0)</code>\n",
    "        来添加其它的维数解决问题。\n",
    "    </p>\n",
    "</div>"
   ]
  },
  {
   "cell_type": "markdown",
   "id": "0abc52c0",
   "metadata": {},
   "source": [
    "在继续之前，我们回顾一下到目前为止用到的类。\n",
    "\n",
    "- `torch.Tensor`：自动调用 `backward()` 实现支持自动梯度计算的多维数组，并且保存关于这个向量的梯度。\n",
    "- `nn.Module`：神经网络模块。封装参数、移动到 GPU 上运行、导出、加载等。\n",
    "- `nn.Parameter`：变量，当把它赋值给一个 `Module` 时，被自动地注册为一个参数。\n",
    "- `autograd.Function`：实现自动求导操作的前向和反向定义，每个变量操作至少创建一个函数节点。\n",
    "\n",
    "至此，我们以及完成：\n",
    "\n",
    "- 定义一个网络\n",
    "- 处理输入，调用反向传播。\n",
    "\n",
    "接下来还需要：\n",
    "\n",
    "- 计算损失。\n",
    "- 更新网络权重。"
   ]
  },
  {
   "cell_type": "markdown",
   "id": "844f183c",
   "metadata": {},
   "source": [
    "#### 损失函数\n",
    "\n",
    "一个损失函数接受一对 `(output, target)` 作为输入，计算一个值来估计网络的输出和目标值相差多少。\n",
    "\n",
    "[`torch.nn`](https://pytorch.org/docs/stable/nn.html?highlight=torch%20nn#module-torch.nn) 中有很多不同的 [<i class=\"fa fa-external-link-square\" aria-hidden=\"true\"> 损失函数</i>](https://pytorch.org/docs/nn.html#loss-functions)。[`nn.MSELoss`](https://pytorch.org/docs/stable/nn.html?highlight=nn%20mseloss#torch.nn.MSELoss) 是一个比较简单的损失函数，它可以用来计算输出和目标间的 [<i class=\"fa fa-external-link-square\" aria-hidden=\"true\"> 均方误差</i>](https://zh.wikipedia.org/zh-hans/%E5%9D%87%E6%96%B9%E8%AF%AF%E5%B7%AE)，例如："
   ]
  },
  {
   "cell_type": "code",
   "execution_count": 36,
   "id": "b4284be0",
   "metadata": {
    "ExecuteTime": {
     "end_time": "2021-12-08T08:40:30.292345Z",
     "start_time": "2021-12-08T08:40:30.216348Z"
    }
   },
   "outputs": [
    {
     "data": {
      "text/plain": [
       "tensor(0.8068, grad_fn=<MseLossBackward0>)"
      ]
     },
     "execution_count": 36,
     "metadata": {},
     "output_type": "execute_result"
    }
   ],
   "source": [
    "output = net(img_input)\n",
    "target = torch.randn(10)\n",
    "target = target.view(1, -1)\n",
    "criterion = nn.MSELoss()\n",
    "loss = criterion(output, target)\n",
    "loss"
   ]
  },
  {
   "cell_type": "markdown",
   "id": "614bdb10",
   "metadata": {},
   "source": [
    "当我们添加 `loss` 计算之后，如果使用它 `.grad_fn` 属性，将得到如下所示的计算图：\n",
    "\n",
    "```text\n",
    "input → conv2d → relu → maxpool2d → conv2d → relu → maxpool2d\n",
    "      → view → linear → relu → linear → relu → linear\n",
    "      → MSELoss\n",
    "      → loss\n",
    "```\n",
    "\n",
    "所以，当我们调用 `loss.backward()` 时，会针对整个图执行微分操作。图中所有具有 `requires_grad=True` 的张量的 `.grad` 梯度会被累积起来。为了说明该情况，我们回溯几个步骤："
   ]
  },
  {
   "cell_type": "code",
   "execution_count": 37,
   "id": "1429fea3",
   "metadata": {
    "ExecuteTime": {
     "end_time": "2021-12-08T08:40:30.354346Z",
     "start_time": "2021-12-08T08:40:30.293348Z"
    }
   },
   "outputs": [
    {
     "name": "stdout",
     "output_type": "stream",
     "text": [
      "<MseLossBackward0 object at 0x000002448C8B0730>\n",
      "<AddmmBackward0 object at 0x000002448C8B0520>\n",
      "<AccumulateGrad object at 0x000002448C8B0730>\n"
     ]
    }
   ],
   "source": [
    "# 均方误差\n",
    "print(loss.grad_fn)\n",
    "# 线性变换\n",
    "print(loss.grad_fn.next_functions[0][0])\n",
    "# ReLU 变换\n",
    "print(loss.grad_fn.next_functions[0][0].next_functions[0][0])"
   ]
  },
  {
   "cell_type": "markdown",
   "id": "50c0248c",
   "metadata": {},
   "source": [
    "#### 反向传播\n",
    "\n",
    "调用 `loss.backward()` 获得反向传播的误差。但是在调用前需要清除已存在的梯度，否则梯度将被累加到已存在的梯度。现在，我们将调用 `loss.backward()`，并查看 `conv1` 层的偏差（bias）项在反向传播前后的梯度。"
   ]
  },
  {
   "cell_type": "code",
   "execution_count": 38,
   "id": "b1031e13",
   "metadata": {
    "ExecuteTime": {
     "end_time": "2021-12-08T08:40:30.494345Z",
     "start_time": "2021-12-08T08:40:30.448348Z"
    }
   },
   "outputs": [
    {
     "name": "stdout",
     "output_type": "stream",
     "text": [
      "第1卷积层 - 反向传播前：\n",
      "tensor([0., 0., 0., 0., 0., 0.])\n",
      "第1卷积层 - 反向传播后：\n",
      "tensor([-0.0167,  0.0029,  0.0008,  0.0074, -0.0209, -0.0019])\n"
     ]
    }
   ],
   "source": [
    "# 梯度清零\n",
    "net.zero_grad()\n",
    "print('第1卷积层 - 反向传播前：', net.conv1.bias.grad, sep='\\n')\n",
    "\n",
    "# 反向传播\n",
    "loss.backward()\n",
    "print('第1卷积层 - 反向传播后：', net.conv1.bias.grad, sep='\\n')"
   ]
  },
  {
   "cell_type": "markdown",
   "id": "614a0540",
   "metadata": {},
   "source": [
    "[`torch.nn`](https://pytorch.org/docs/stable/nn.html?highlight=torch%20nn#module-torch.nn) 中包含了各种用来构成深度神经网络构建块的模块和损失函数，你可以阅读 [<i class=\"fa fa-external-link-square\" aria-hidden=\"true\"> 官方文档</i>](https://pytorch.org/docs/nn)。"
   ]
  },
  {
   "cell_type": "markdown",
   "id": "9f976300",
   "metadata": {},
   "source": [
    "### 更新权重\n",
    "\n",
    "至此，剩下的最后一件事，那就是更新网络的权重。\n",
    "\n",
    "在实践中最简单的权重更新规则是随机梯度下降（SGD）：\n",
    "\n",
    "$$w = w - \\rho * g$$"
   ]
  },
  {
   "cell_type": "code",
   "execution_count": 39,
   "id": "4fdcc572",
   "metadata": {
    "ExecuteTime": {
     "end_time": "2021-12-08T08:40:30.894347Z",
     "start_time": "2021-12-08T08:40:30.887348Z"
    }
   },
   "outputs": [],
   "source": [
    "# %% 人为实现 SGD\n",
    "learning_rate = 0.01\n",
    "for f in net.parameters():\n",
    "    f.data.sub_(f.grad.data * learning_rate)"
   ]
  },
  {
   "cell_type": "code",
   "execution_count": 40,
   "id": "538d4bc9",
   "metadata": {
    "ExecuteTime": {
     "end_time": "2021-12-08T08:40:31.004346Z",
     "start_time": "2021-12-08T08:40:30.896346Z"
    }
   },
   "outputs": [
    {
     "name": "stdout",
     "output_type": "stream",
     "text": [
      "当前损失值： 0.7906506657600403\n",
      "当前损失值： 0.7752633690834045\n",
      "当前损失值： 0.7608857154846191\n",
      "当前损失值： 0.7470822334289551\n",
      "当前损失值： 0.7333706021308899\n",
      "当前损失值： 0.7197391986846924\n",
      "当前损失值： 0.7059677839279175\n",
      "当前损失值： 0.6918303370475769\n",
      "当前损失值： 0.6779691576957703\n",
      "当前损失值： 0.6639845967292786\n",
      "当前损失值： 0.6503943800926208\n",
      "当前损失值： 0.6362259984016418\n",
      "当前损失值： 0.6214553117752075\n",
      "当前损失值： 0.6062021255493164\n",
      "当前损失值： 0.590262770652771\n",
      "当前损失值： 0.5736963152885437\n",
      "当前损失值： 0.5561369061470032\n",
      "当前损失值： 0.537751317024231\n",
      "当前损失值： 0.5185720324516296\n",
      "当前损失值： 0.4984006881713867\n"
     ]
    }
   ],
   "source": [
    "# %% 内置实现 SGD\n",
    "from torch import optim\n",
    "\n",
    "# 创建优化器\n",
    "optimizer = optim.SGD(net.parameters(), lr=0.01)\n",
    "for _ in range(20):\n",
    "    # 单词迭代\n",
    "    optimizer.zero_grad()\n",
    "    output = net(img_input)\n",
    "    loss = criterion(output, target)\n",
    "    loss.backward()\n",
    "    optimizer.step()\n",
    "    print('当前损失值：', loss.item())"
   ]
  },
  {
   "cell_type": "markdown",
   "id": "d4cd2c84",
   "metadata": {},
   "source": [
    "## 训练一个分类器\n",
    "\n",
    "上面，你已经看到如何去定义一个神经网络，计算损失值和更新网络的权重。接下来，我们实现一个图像分类神经网络。\n",
    "\n",
    "一般情况下处理图像、文本、音频和视频数据时，可以使用标准的 Python 来加载数据为 NumPy 数组。然后把这个数组转换成`torch.*Tensor`。\n",
    "\n",
    "- 图像可以使用 Pillow, OpenCV。\n",
    "- 音频可以使用 SciPy, librosa。\n",
    "- 文本可以使用原始 Python 和 Cython 来加载，或者使用 NLTK 或 SpaCy 处理。\n",
    "\n",
    "特别地，对于图像任务，PyTorch 提供了专门的包 [`torchvision`](https://pytorch.org/docs/stable/torchvision/index.html?highlight=torchvision#)，它包含了处理一些基本图像数据集的方法。这些数据集包括 Imagenet, CIFAR10, MNIST 等。除了数据加载以外，[`torchvision`](https://pytorch.org/docs/stable/torchvision/index.html?highlight=torchvision#) 还包含了图像转换器，`torchvision.datasets` 和 `torch.utils.data.DataLoader` 数据加载器。\n",
    "\n",
    "[`torchvision`](https://pytorch.org/docs/stable/torchvision/index.html?highlight=torchvision#)不仅提供了巨大的便利，也避免了代码的重复。接下来，我们使用 CIFAR10 数据集完成分类器训练。该数据集有如下 10 个类别：\n",
    "\n",
    "| 原始名 | 类别 | 原始名 | 类别 |\n",
    "| :---: | :--: | :---: | :-: |\n",
    "| Airplane | 飞机 | Automobile | 机动车 |\n",
    "| Bird | 鸟类 | Cat | 猫 |\n",
    "| Deer | 鹿 | Dog | 狗 |\n",
    "| Frog | 青蛙 | Horse | 马 |\n",
    "| Ship | 轮船 | Truck | 货车 |\n",
    "\n",
    "CIFAR-10 的图像都是 $3 \\times 32 \\times 32$ ，即 3 个颜色通道，$32 \\times 32$ 像素。\n",
    "\n",
    "![](https://pytorch.org/tutorials/_images/cifar10.png)\n",
    "\n",
    "训练一个图像分类器，基本流程如下：\n",
    "\n",
    "1. 使用 [`torchvision`](https://pytorch.org/docs/stable/torchvision/index.html?highlight=torchvision#) 加载和归一化 CIFAR10 训练集和测试集。\n",
    "2. 定义一个卷积神经网络。\n",
    "3. 定义损失函数。\n",
    "4. 在训练集上训练网络。\n",
    "5. 在测试集上测试网络。"
   ]
  },
  {
   "cell_type": "markdown",
   "id": "5424694c",
   "metadata": {},
   "source": [
    "### 读取和归一化 CIFAR10\n",
    "\n",
    "使用 [`torchvision`](https://pytorch.org/docs/stable/torchvision/index.html?highlight=torchvision#) 可以非常容易地加载 CIFAR10。[`torchvision`](https://pytorch.org/docs/stable/torchvision/index.html?highlight=torchvision#) 的输出是 `[0,1]` 的 PILImage 图像，我们把它转换为归一化范围为 `[-1, 1]` 的张量。"
   ]
  },
  {
   "cell_type": "markdown",
   "id": "eae93884",
   "metadata": {},
   "source": [
    "使用蓝桥云课镜像数据集：\n",
    "\n",
    "```bash\n",
    "wget -nc \"https://labfile.oss.aliyuncs.com/courses/1348/cifar-10-python.tar.gz\" -P ./data/\n",
    "```"
   ]
  },
  {
   "cell_type": "code",
   "execution_count": 41,
   "id": "5007bbc6",
   "metadata": {
    "ExecuteTime": {
     "end_time": "2021-12-08T08:40:34.186346Z",
     "start_time": "2021-12-08T08:40:31.871349Z"
    }
   },
   "outputs": [
    {
     "name": "stdout",
     "output_type": "stream",
     "text": [
      "Files already downloaded and verified\n",
      "Files already downloaded and verified\n"
     ]
    },
    {
     "data": {
      "text/plain": [
       "(<torch.utils.data.dataloader.DataLoader at 0x2448630a0d0>,\n",
       " <torch.utils.data.dataloader.DataLoader at 0x2448de4c160>)"
      ]
     },
     "execution_count": 41,
     "metadata": {},
     "output_type": "execute_result"
    }
   ],
   "source": [
    "import torchvision\n",
    "from torchvision import transforms\n",
    "\n",
    "### 数据预处理 ###\n",
    "transform = transforms.Compose([\n",
    "    # 转换为张量\n",
    "    transforms.ToTensor(),\n",
    "    # 归一化\n",
    "    transforms.Normalize((0.5, 0.5, 0.5), (0.5, 0.5, 0.5))\n",
    "])\n",
    "\n",
    "### 加载训练数据 ###\n",
    "trainset = torchvision.datasets.CIFAR10(root='./data/',\n",
    "                                        train=True,\n",
    "                                        download=True,\n",
    "                                        transform=transform)\n",
    "trainloader = torch.utils.data.DataLoader(trainset,\n",
    "                                          batch_size=4,\n",
    "                                          shuffle=True,\n",
    "                                          num_workers=2)\n",
    "\n",
    "### 加载测试数据 ###\n",
    "testset = torchvision.datasets.CIFAR10(root='./data/',\n",
    "                                       train=False,\n",
    "                                       download=True,\n",
    "                                       transform=transform)\n",
    "testloader = torch.utils.data.DataLoader(testset,\n",
    "                                         batch_size=4,\n",
    "                                         shuffle=False,\n",
    "                                         num_workers=2)\n",
    "\n",
    "### 图像类别 ###\n",
    "classes = ('plane', 'car', 'bird', 'cat', 'deer', 'dog', 'frog', 'horse',\n",
    "           'ship', 'truck')\n",
    "\n",
    "### 查看数据加载器 ###\n",
    "trainloader, testloader"
   ]
  },
  {
   "cell_type": "code",
   "execution_count": 42,
   "id": "7782e5a3",
   "metadata": {
    "ExecuteTime": {
     "end_time": "2021-12-08T08:40:39.595351Z",
     "start_time": "2021-12-08T08:40:34.188348Z"
    }
   },
   "outputs": [
    {
     "name": "stdout",
     "output_type": "stream",
     "text": [
      " ship plane   car  ship\n"
     ]
    },
    {
     "data": {
      "image/png": "[encoded data removed]",
      "text/plain": [
       "<Figure size 432x288 with 1 Axes>"
      ]
     },
     "metadata": {
      "needs_background": "light"
     },
     "output_type": "display_data"
    }
   ],
   "source": [
    "# %% 训练数据可视化\n",
    "from matplotlib import pyplot as plt\n",
    "\n",
    "plt.rcParams['figure.figsize'] = (16, 9)\n",
    "plt.rcParams['figure.dpi'] = 96\n",
    "%matplotlib inline\n",
    "\n",
    "\n",
    "def imshow(img):\n",
    "    # 展示图像的函数\n",
    "    img = img / 2 + 0.5  # 反向归一化\n",
    "    npimg = img.numpy()\n",
    "    plt.imshow(np.transpose(npimg, (1, 2, 0)))\n",
    "\n",
    "\n",
    "# 获取随机数据\n",
    "dataiter = iter(trainloader)\n",
    "images, labels = dataiter.next()\n",
    "\n",
    "# 展示图像\n",
    "imshow(torchvision.utils.make_grid(images))\n",
    "# 显示图像标签\n",
    "print(' '.join('%5s' % classes[labels[j]] for j in range(4)))"
   ]
  },
  {
   "cell_type": "markdown",
   "id": "68643063",
   "metadata": {},
   "source": [
    "### 定义 CNN"
   ]
  },
  {
   "cell_type": "code",
   "execution_count": 43,
   "id": "520ce4be",
   "metadata": {
    "ExecuteTime": {
     "end_time": "2021-12-08T08:40:39.611348Z",
     "start_time": "2021-12-08T08:40:39.597348Z"
    }
   },
   "outputs": [
    {
     "data": {
      "text/plain": [
       "Net(\n",
       "  (conv1): Conv2d(3, 6, kernel_size=(5, 5), stride=(1, 1))\n",
       "  (pool): MaxPool2d(kernel_size=2, stride=2, padding=0, dilation=1, ceil_mode=False)\n",
       "  (conv2): Conv2d(6, 16, kernel_size=(5, 5), stride=(1, 1))\n",
       "  (fc1): Linear(in_features=400, out_features=120, bias=True)\n",
       "  (fc2): Linear(in_features=120, out_features=84, bias=True)\n",
       "  (fc3): Linear(in_features=84, out_features=10, bias=True)\n",
       ")"
      ]
     },
     "execution_count": 43,
     "metadata": {},
     "output_type": "execute_result"
    }
   ],
   "source": [
    "from torch import nn\n",
    "import torch.nn.functional as F\n",
    "\n",
    "\n",
    "class Net(nn.Module):\n",
    "    def __init__(self):\n",
    "        super(Net, self).__init__()\n",
    "        self.conv1 = nn.Conv2d(3, 6, 5)\n",
    "        self.pool = nn.MaxPool2d(2, 2)\n",
    "        self.conv2 = nn.Conv2d(6, 16, 5)\n",
    "        self.fc1 = nn.Linear(16 * 5 * 5, 120)\n",
    "        self.fc2 = nn.Linear(120, 84)\n",
    "        self.fc3 = nn.Linear(84, 10)\n",
    "\n",
    "    def forward(self, x):\n",
    "        x = self.pool(F.relu(self.conv1(x)))\n",
    "        x = self.pool(F.relu(self.conv2(x)))\n",
    "        x = x.view(-1, 16 * 5 * 5)\n",
    "        x = F.relu(self.fc1(x))\n",
    "        x = F.relu(self.fc2(x))\n",
    "        x = self.fc3(x)\n",
    "        return x\n",
    "\n",
    "\n",
    "net = Net()\n",
    "net"
   ]
  },
  {
   "cell_type": "markdown",
   "id": "0b39a9fe",
   "metadata": {},
   "source": [
    "### 定义损失函数与优化器\n",
    "\n",
    "- 损失函数：CrossEntropyLoss 交叉熵损失\n",
    "- 优化器：SGD with Momentum 带动量随机梯度下降"
   ]
  },
  {
   "cell_type": "code",
   "execution_count": 44,
   "id": "0161186a",
   "metadata": {
    "ExecuteTime": {
     "end_time": "2021-12-08T08:40:39.705347Z",
     "start_time": "2021-12-08T08:40:39.617348Z"
    }
   },
   "outputs": [
    {
     "data": {
      "text/plain": [
       "(CrossEntropyLoss(),\n",
       " SGD (\n",
       " Parameter Group 0\n",
       "     dampening: 0\n",
       "     lr: 0.001\n",
       "     momentum: 0.9\n",
       "     nesterov: False\n",
       "     weight_decay: 0\n",
       " ))"
      ]
     },
     "execution_count": 44,
     "metadata": {},
     "output_type": "execute_result"
    }
   ],
   "source": [
    "criterion = nn.CrossEntropyLoss()\n",
    "optimizer = optim.SGD(net.parameters(), lr=0.001, momentum=0.9)\n",
    "criterion, optimizer"
   ]
  },
  {
   "cell_type": "markdown",
   "id": "5f389a3d",
   "metadata": {},
   "source": [
    "### 训练模型\n",
    "\n",
    "有趣的训练过程开始了。只需在数据迭代器上循环，将数据输入给网络，并优化。"
   ]
  },
  {
   "cell_type": "code",
   "execution_count": 45,
   "id": "23346eb3",
   "metadata": {
    "ExecuteTime": {
     "end_time": "2021-12-08T08:41:30.112966Z",
     "start_time": "2021-12-08T08:40:39.711353Z"
    }
   },
   "outputs": [
    {
     "name": "stdout",
     "output_type": "stream",
     "text": [
      "[  500 batch(s)] loss: 5.751\n",
      "[ 1000 batch(s)] loss: 5.683\n",
      "[ 1500 batch(s)] loss: 5.413\n",
      "[ 2000 batch(s)] loss: 5.160\n",
      "[ 2500 batch(s)] loss: 4.961\n",
      "[ 3000 batch(s)] loss: 4.721\n",
      "[ 3500 batch(s)] loss: 4.544\n",
      "[ 4000 batch(s)] loss: 4.501\n",
      "[ 4500 batch(s)] loss: 4.369\n",
      "[ 5000 batch(s)] loss: 4.381\n",
      "[ 5500 batch(s)] loss: 4.306\n",
      "[ 6000 batch(s)] loss: 4.220\n",
      "[ 6500 batch(s)] loss: 4.200\n",
      "[ 7000 batch(s)] loss: 4.007\n",
      "[ 7500 batch(s)] loss: 4.009\n",
      "[ 8000 batch(s)] loss: 3.897\n",
      "[ 8500 batch(s)] loss: 3.821\n",
      "[ 9000 batch(s)] loss: 3.840\n",
      "[ 9500 batch(s)] loss: 3.765\n",
      "[10000 batch(s)] loss: 3.647\n",
      "[10500 batch(s)] loss: 3.610\n",
      "[11000 batch(s)] loss: 3.719\n",
      "[11500 batch(s)] loss: 3.564\n",
      "[12000 batch(s)] loss: 3.546\n",
      "[12500 batch(s)] loss: 3.601\n",
      "模型训练完成！\n"
     ]
    }
   ],
   "source": [
    "### 单次迭代 ###\n",
    "running_loss = 0.0\n",
    "for i, data in enumerate(trainloader, 0):\n",
    "    # 获取输入\n",
    "    inputs, labels = data\n",
    "    # 梯度归零\n",
    "    optimizer.zero_grad()\n",
    "    # 正向传播\n",
    "    outputs = net(inputs)\n",
    "    # 计算损失\n",
    "    loss = criterion(outputs, labels)\n",
    "    # 反向传播\n",
    "    loss.backward()\n",
    "    # 模型优化\n",
    "    optimizer.step()\n",
    "    # 累计损失值\n",
    "    running_loss += loss.item()\n",
    "    if (i + 1) % 500 == 0:\n",
    "        ### 500 批次产生一个输出 ###\n",
    "        print('[%5d batch(s)] loss: %.3f' % (i + 1, running_loss / 200))\n",
    "        running_loss = 0.0\n",
    "\n",
    "print('模型训练完成！')"
   ]
  },
  {
   "cell_type": "markdown",
   "id": "cb225f76",
   "metadata": {},
   "source": [
    "### 在测试集上测试网络\n",
    "\n",
    "我们在整个训练集上进行了训练，但是需要检查网络是否从数据集中学习到有用的东西。一般情况下，可以通过预测神经网络输出的类别标签与实际情况标签进行对比来进行检测。如果预测正确，我们把该样本添加到正确预测列表。"
   ]
  },
  {
   "cell_type": "code",
   "execution_count": 46,
   "id": "017014a5",
   "metadata": {
    "ExecuteTime": {
     "end_time": "2021-12-08T08:44:03.823254Z",
     "start_time": "2021-12-08T08:44:00.419889Z"
    }
   },
   "outputs": [
    {
     "name": "stdout",
     "output_type": "stream",
     "text": [
      "GroundTruth:    cat  ship  ship plane\n"
     ]
    },
    {
     "data": {
      "image/png": "[encoded data removed]",
      "text/plain": [
       "<Figure size 432x288 with 1 Axes>"
      ]
     },
     "metadata": {
      "needs_background": "light"
     },
     "output_type": "display_data"
    }
   ],
   "source": [
    "dataiter = iter(testloader)\n",
    "images, labels = dataiter.next()\n",
    "\n",
    "### 显示图片 ###\n",
    "imshow(torchvision.utils.make_grid(images))\n",
    "print('GroundTruth: ', ' '.join('%5s' % classes[labels[j]] for j in range(4)))"
   ]
  },
  {
   "cell_type": "code",
   "execution_count": 47,
   "id": "fb773473",
   "metadata": {
    "ExecuteTime": {
     "end_time": "2021-12-08T08:44:40.942574Z",
     "start_time": "2021-12-08T08:44:40.935577Z"
    }
   },
   "outputs": [
    {
     "data": {
      "text/plain": [
       "tensor([[-0.7713, -2.0576,  0.8677,  2.4446, -0.4597,  1.4322,  0.6000, -0.9591,\n",
       "         -0.1338, -1.6575],\n",
       "        [ 3.6527,  5.3121, -2.3105, -2.8738, -2.5706, -4.4261, -3.6144, -5.1636,\n",
       "          6.0998,  3.5998],\n",
       "        [ 2.3286,  1.5838, -0.5715, -1.3460, -1.0085, -2.1667, -1.9451, -2.3951,\n",
       "          3.1994,  0.8614],\n",
       "        [ 2.9937,  1.1516, -0.6704, -1.3929, -0.6127, -2.9027, -1.7027, -3.3161,\n",
       "          4.0858,  0.2326]], grad_fn=<AddmmBackward0>)"
      ]
     },
     "execution_count": 47,
     "metadata": {},
     "output_type": "execute_result"
    }
   ],
   "source": [
    "# %% 输出各类别的分类权重\n",
    "outputs = net(images)\n",
    "outputs"
   ]
  },
  {
   "cell_type": "code",
   "execution_count": 48,
   "id": "7445ceca",
   "metadata": {
    "ExecuteTime": {
     "end_time": "2021-12-08T08:48:10.645080Z",
     "start_time": "2021-12-08T08:48:10.374723Z"
    }
   },
   "outputs": [
    {
     "name": "stdout",
     "output_type": "stream",
     "text": [
      "Predicted:    cat  ship  ship  ship\n"
     ]
    }
   ],
   "source": [
    "# %% 获取权重最大的索引，转换为类别\n",
    "_, predicted = torch.max(outputs, 1)\n",
    "print('Predicted: ', ' '.join('%5s' % classes[predicted[j]] for j in range(4)))"
   ]
  },
  {
   "cell_type": "code",
   "execution_count": 49,
   "id": "9b9487d2",
   "metadata": {
    "ExecuteTime": {
     "end_time": "2021-12-08T08:51:43.338898Z",
     "start_time": "2021-12-08T08:51:36.275528Z"
    }
   },
   "outputs": [
    {
     "name": "stdout",
     "output_type": "stream",
     "text": [
      "Accuracy of the network on the 10000 test images: 48%\n"
     ]
    }
   ],
   "source": [
    "# %% 关闭梯度跟踪，在测试集上评估模型\n",
    "correct, total = 0, 0\n",
    "with torch.no_grad():\n",
    "    for data in testloader:\n",
    "        images, labels = data\n",
    "        outputs = net(images)\n",
    "        _, predicted = torch.max(outputs.data, 1)\n",
    "        total += labels.size(0)\n",
    "        correct += (predicted == labels).sum().item()\n",
    "\n",
    "print('Accuracy of the network on the 10000 test images: %d%%' %\n",
    "      (100 * correct / total))"
   ]
  },
  {
   "cell_type": "markdown",
   "id": "df97fd2b",
   "metadata": {},
   "source": [
    "在最近一次评估中，模型准确率达到 $48\\%$ ，高于随机选择的 $10\\%$ 。"
   ]
  },
  {
   "cell_type": "code",
   "execution_count": 50,
   "id": "6c37eea4",
   "metadata": {
    "ExecuteTime": {
     "end_time": "2021-12-08T08:56:57.223482Z",
     "start_time": "2021-12-08T08:56:49.892301Z"
    }
   },
   "outputs": [
    {
     "name": "stdout",
     "output_type": "stream",
     "text": [
      "Accuracy of plane : 43%\n",
      "Accuracy of   car : 57%\n",
      "Accuracy of  bird : 42%\n",
      "Accuracy of   cat : 43%\n",
      "Accuracy of  deer : 27%\n",
      "Accuracy of   dog : 45%\n",
      "Accuracy of  frog : 67%\n",
      "Accuracy of horse : 35%\n",
      "Accuracy of  ship : 76%\n",
      "Accuracy of truck : 45%\n"
     ]
    }
   ],
   "source": [
    "# %% 获取模型在测试集不同类别上的准确率\n",
    "class_correct = list(0. for i in range(10))\n",
    "class_total = list(0. for i in range(10))\n",
    "with torch.no_grad():\n",
    "    for data in testloader:\n",
    "        images, labels = data\n",
    "        outputs = net(images)\n",
    "        _, predicted = torch.max(outputs, 1)\n",
    "        c = (predicted == labels).squeeze()\n",
    "        for i in range(4):\n",
    "            label = labels[i]\n",
    "            class_correct[label] += c[i].item()\n",
    "            class_total[label] += 1\n",
    "\n",
    "for i in range(10):\n",
    "    print('Accuracy of %5s : %2d%%' %\n",
    "          (classes[i], 100 * class_correct[i] / class_total[i]))"
   ]
  },
  {
   "cell_type": "markdown",
   "id": "1525021d",
   "metadata": {},
   "source": [
    "## 实验总结\n",
    "\n",
    "本次实验对 PyTorch 的使用进行了介绍，了解了其基本概念以及核心的运行机制。你需要对张量、基本运算、自动求导等有所掌握。除此之外，我们利用 PyTorch 构建了人工神经网络模型并完成训练，关于损失函数、优化器等组件的更多细节，需要你利用官方文档进一步学习。"
   ]
  }
 ],
 "metadata": {
  "kernelspec": {
   "display_name": "Python 3 (ipykernel)",
   "language": "python",
   "name": "python3"
  },
  "language_info": {
   "codemirror_mode": {
    "name": "ipython",
    "version": 3
   },
   "file_extension": ".py",
   "mimetype": "text/x-python",
   "name": "python",
   "nbconvert_exporter": "python",
   "pygments_lexer": "ipython3",
   "version": "3.8.12"
  },
  "toc": {
   "base_numbering": 1,
   "nav_menu": {},
   "number_sections": false,
   "sideBar": true,
   "skip_h1_title": true,
   "title_cell": "目录",
   "title_sidebar": "目录",
   "toc_cell": true,
   "toc_position": {
    "height": "calc(100% - 180px)",
    "left": "10px",
    "top": "150px",
    "width": "201.6px"
   },
   "toc_section_display": true,
   "toc_window_display": true
  }
 },
 "nbformat": 4,
 "nbformat_minor": 5
}
