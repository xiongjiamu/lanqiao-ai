{
 "cells": [
  {
   "cell_type": "markdown",
   "id": "71898de1",
   "metadata": {},
   "source": [
    "## 实验目标\n",
    "\n",
    "预测葡萄酒产地"
   ]
  },
  {
   "cell_type": "markdown",
   "id": "3f4ff1e3",
   "metadata": {},
   "source": [
    "## 开发准备"
   ]
  },
  {
   "cell_type": "code",
   "execution_count": 1,
   "id": "9a185a59",
   "metadata": {
    "ExecuteTime": {
     "end_time": "2021-11-23T07:51:34.509144Z",
     "start_time": "2021-11-23T07:51:33.961079Z"
    }
   },
   "outputs": [
    {
     "name": "stdout",
     "output_type": "stream",
     "text": [
      "活动代码页: 936\n",
      " 驱动器 E 中的卷是 Public\n",
      " 卷的序列号是 2D70-3901\n",
      "\n",
      " E:\\Repository\\TensorFlow\\src\\前向神经网络 的目录\n",
      "\n",
      "2021/11/23  15:51    <DIR>          .\n",
      "2021/11/23  15:51    <DIR>          ..\n",
      "2021/11/23  15:38    <DIR>          .ipynb_checkpoints\n",
      "2021/11/23  14:29            17,727 mpg.csv\n",
      "2021/11/23  15:51            10,889 wine.csv\n",
      "2021/11/23  14:16            64,336 非线性模拟数据回归.ipynb\n",
      "2021/11/23  15:51             3,665 葡萄酒分类.ipynb\n",
      "2021/11/23  15:01           140,344 汽车燃料效率建模.ipynb\n",
      "               5 个文件        236,961 字节\n",
      "               3 个目录 1,625,619,480,576 可用字节\n"
     ]
    }
   ],
   "source": [
    "# %% 下载数据集\n",
    "!chcp 936\n",
    "!aria2c --quiet http://labfile.oss.aliyuncs.com/courses/1029/wine.csv\n",
    "%ls"
   ]
  },
  {
   "cell_type": "markdown",
   "id": "33fea1f7",
   "metadata": {},
   "source": [
    "## 分析流程"
   ]
  },
  {
   "cell_type": "code",
   "execution_count": 2,
   "id": "023519e4",
   "metadata": {
    "ExecuteTime": {
     "end_time": "2021-11-23T07:51:37.287018Z",
     "start_time": "2021-11-23T07:51:34.512132Z"
    }
   },
   "outputs": [],
   "source": [
    "# %% 引入依赖项\n",
    "from matplotlib import pyplot as plt\n",
    "import pandas as pd\n",
    "import tensorflow as tf\n",
    "from sklearn.utils import shuffle\n",
    "from sklearn import preprocessing"
   ]
  },
  {
   "cell_type": "code",
   "execution_count": 3,
   "id": "baa5d4cd",
   "metadata": {
    "ExecuteTime": {
     "end_time": "2021-11-23T07:51:37.303028Z",
     "start_time": "2021-11-23T07:51:37.288015Z"
    }
   },
   "outputs": [],
   "source": [
    "# %% 配置 Matplotlib\n",
    "%matplotlib inline\n",
    "plt.rcParams['font.sans-serif'] = 'Microsoft YaHei'\n",
    "plt.rcParams['axes.unicode_minus'] = False\n",
    "plt.rcParams['figure.dpi'] = 96\n",
    "plt.rcParams['figure.figsize'] = (16, 9)"
   ]
  },
  {
   "cell_type": "code",
   "execution_count": 4,
   "id": "d2d6337e",
   "metadata": {
    "ExecuteTime": {
     "end_time": "2021-11-23T07:51:37.428192Z",
     "start_time": "2021-11-23T07:51:37.306017Z"
    }
   },
   "outputs": [
    {
     "data": {
      "text/html": [
       "<div>\n",
       "<style scoped>\n",
       "    .dataframe tbody tr th:only-of-type {\n",
       "        vertical-align: middle;\n",
       "    }\n",
       "\n",
       "    .dataframe tbody tr th {\n",
       "        vertical-align: top;\n",
       "    }\n",
       "\n",
       "    .dataframe thead th {\n",
       "        text-align: right;\n",
       "    }\n",
       "</style>\n",
       "<table border=\"1\" class=\"dataframe\">\n",
       "  <thead>\n",
       "    <tr style=\"text-align: right;\">\n",
       "      <th></th>\n",
       "      <th>Wine</th>\n",
       "      <th>Alcohol</th>\n",
       "      <th>Malic.acid</th>\n",
       "      <th>Ash</th>\n",
       "      <th>Acl</th>\n",
       "      <th>Mg</th>\n",
       "      <th>Phenols</th>\n",
       "      <th>Flavanoids</th>\n",
       "      <th>Nonflavanoid.phenols</th>\n",
       "      <th>Proanth</th>\n",
       "      <th>Color.int</th>\n",
       "      <th>Hue</th>\n",
       "      <th>OD</th>\n",
       "      <th>Proline</th>\n",
       "    </tr>\n",
       "  </thead>\n",
       "  <tbody>\n",
       "    <tr>\n",
       "      <th>count</th>\n",
       "      <td>178.000000</td>\n",
       "      <td>178.000000</td>\n",
       "      <td>178.000000</td>\n",
       "      <td>178.000000</td>\n",
       "      <td>178.000000</td>\n",
       "      <td>178.000000</td>\n",
       "      <td>178.000000</td>\n",
       "      <td>178.000000</td>\n",
       "      <td>178.000000</td>\n",
       "      <td>178.000000</td>\n",
       "      <td>178.000000</td>\n",
       "      <td>178.000000</td>\n",
       "      <td>178.000000</td>\n",
       "      <td>178.000000</td>\n",
       "    </tr>\n",
       "    <tr>\n",
       "      <th>mean</th>\n",
       "      <td>1.938202</td>\n",
       "      <td>13.000618</td>\n",
       "      <td>2.336348</td>\n",
       "      <td>2.366517</td>\n",
       "      <td>19.494944</td>\n",
       "      <td>99.741573</td>\n",
       "      <td>2.295112</td>\n",
       "      <td>2.029270</td>\n",
       "      <td>0.361854</td>\n",
       "      <td>1.590899</td>\n",
       "      <td>5.058090</td>\n",
       "      <td>0.957449</td>\n",
       "      <td>2.611685</td>\n",
       "      <td>746.893258</td>\n",
       "    </tr>\n",
       "    <tr>\n",
       "      <th>std</th>\n",
       "      <td>0.775035</td>\n",
       "      <td>0.811827</td>\n",
       "      <td>1.117146</td>\n",
       "      <td>0.274344</td>\n",
       "      <td>3.339564</td>\n",
       "      <td>14.282484</td>\n",
       "      <td>0.625851</td>\n",
       "      <td>0.998859</td>\n",
       "      <td>0.124453</td>\n",
       "      <td>0.572359</td>\n",
       "      <td>2.318286</td>\n",
       "      <td>0.228572</td>\n",
       "      <td>0.709990</td>\n",
       "      <td>314.907474</td>\n",
       "    </tr>\n",
       "    <tr>\n",
       "      <th>min</th>\n",
       "      <td>1.000000</td>\n",
       "      <td>11.030000</td>\n",
       "      <td>0.740000</td>\n",
       "      <td>1.360000</td>\n",
       "      <td>10.600000</td>\n",
       "      <td>70.000000</td>\n",
       "      <td>0.980000</td>\n",
       "      <td>0.340000</td>\n",
       "      <td>0.130000</td>\n",
       "      <td>0.410000</td>\n",
       "      <td>1.280000</td>\n",
       "      <td>0.480000</td>\n",
       "      <td>1.270000</td>\n",
       "      <td>278.000000</td>\n",
       "    </tr>\n",
       "    <tr>\n",
       "      <th>25%</th>\n",
       "      <td>1.000000</td>\n",
       "      <td>12.362500</td>\n",
       "      <td>1.602500</td>\n",
       "      <td>2.210000</td>\n",
       "      <td>17.200000</td>\n",
       "      <td>88.000000</td>\n",
       "      <td>1.742500</td>\n",
       "      <td>1.205000</td>\n",
       "      <td>0.270000</td>\n",
       "      <td>1.250000</td>\n",
       "      <td>3.220000</td>\n",
       "      <td>0.782500</td>\n",
       "      <td>1.937500</td>\n",
       "      <td>500.500000</td>\n",
       "    </tr>\n",
       "    <tr>\n",
       "      <th>50%</th>\n",
       "      <td>2.000000</td>\n",
       "      <td>13.050000</td>\n",
       "      <td>1.865000</td>\n",
       "      <td>2.360000</td>\n",
       "      <td>19.500000</td>\n",
       "      <td>98.000000</td>\n",
       "      <td>2.355000</td>\n",
       "      <td>2.135000</td>\n",
       "      <td>0.340000</td>\n",
       "      <td>1.555000</td>\n",
       "      <td>4.690000</td>\n",
       "      <td>0.965000</td>\n",
       "      <td>2.780000</td>\n",
       "      <td>673.500000</td>\n",
       "    </tr>\n",
       "    <tr>\n",
       "      <th>75%</th>\n",
       "      <td>3.000000</td>\n",
       "      <td>13.677500</td>\n",
       "      <td>3.082500</td>\n",
       "      <td>2.557500</td>\n",
       "      <td>21.500000</td>\n",
       "      <td>107.000000</td>\n",
       "      <td>2.800000</td>\n",
       "      <td>2.875000</td>\n",
       "      <td>0.437500</td>\n",
       "      <td>1.950000</td>\n",
       "      <td>6.200000</td>\n",
       "      <td>1.120000</td>\n",
       "      <td>3.170000</td>\n",
       "      <td>985.000000</td>\n",
       "    </tr>\n",
       "    <tr>\n",
       "      <th>max</th>\n",
       "      <td>3.000000</td>\n",
       "      <td>14.830000</td>\n",
       "      <td>5.800000</td>\n",
       "      <td>3.230000</td>\n",
       "      <td>30.000000</td>\n",
       "      <td>162.000000</td>\n",
       "      <td>3.880000</td>\n",
       "      <td>5.080000</td>\n",
       "      <td>0.660000</td>\n",
       "      <td>3.580000</td>\n",
       "      <td>13.000000</td>\n",
       "      <td>1.710000</td>\n",
       "      <td>4.000000</td>\n",
       "      <td>1680.000000</td>\n",
       "    </tr>\n",
       "  </tbody>\n",
       "</table>\n",
       "</div>"
      ],
      "text/plain": [
       "             Wine     Alcohol  Malic.acid         Ash         Acl          Mg  \\\n",
       "count  178.000000  178.000000  178.000000  178.000000  178.000000  178.000000   \n",
       "mean     1.938202   13.000618    2.336348    2.366517   19.494944   99.741573   \n",
       "std      0.775035    0.811827    1.117146    0.274344    3.339564   14.282484   \n",
       "min      1.000000   11.030000    0.740000    1.360000   10.600000   70.000000   \n",
       "25%      1.000000   12.362500    1.602500    2.210000   17.200000   88.000000   \n",
       "50%      2.000000   13.050000    1.865000    2.360000   19.500000   98.000000   \n",
       "75%      3.000000   13.677500    3.082500    2.557500   21.500000  107.000000   \n",
       "max      3.000000   14.830000    5.800000    3.230000   30.000000  162.000000   \n",
       "\n",
       "          Phenols  Flavanoids  Nonflavanoid.phenols     Proanth   Color.int  \\\n",
       "count  178.000000  178.000000            178.000000  178.000000  178.000000   \n",
       "mean     2.295112    2.029270              0.361854    1.590899    5.058090   \n",
       "std      0.625851    0.998859              0.124453    0.572359    2.318286   \n",
       "min      0.980000    0.340000              0.130000    0.410000    1.280000   \n",
       "25%      1.742500    1.205000              0.270000    1.250000    3.220000   \n",
       "50%      2.355000    2.135000              0.340000    1.555000    4.690000   \n",
       "75%      2.800000    2.875000              0.437500    1.950000    6.200000   \n",
       "max      3.880000    5.080000              0.660000    3.580000   13.000000   \n",
       "\n",
       "              Hue          OD      Proline  \n",
       "count  178.000000  178.000000   178.000000  \n",
       "mean     0.957449    2.611685   746.893258  \n",
       "std      0.228572    0.709990   314.907474  \n",
       "min      0.480000    1.270000   278.000000  \n",
       "25%      0.782500    1.937500   500.500000  \n",
       "50%      0.965000    2.780000   673.500000  \n",
       "75%      1.120000    3.170000   985.000000  \n",
       "max      1.710000    4.000000  1680.000000  "
      ]
     },
     "execution_count": 4,
     "metadata": {},
     "output_type": "execute_result"
    }
   ],
   "source": [
    "# %% 加载数据集\n",
    "dataset = pd.read_csv('./wine.csv', header=0)\n",
    "dataset.describe()"
   ]
  },
  {
   "cell_type": "code",
   "execution_count": 5,
   "id": "6d288b0d",
   "metadata": {
    "ExecuteTime": {
     "end_time": "2021-11-23T07:51:38.097363Z",
     "start_time": "2021-11-23T07:51:37.431193Z"
    }
   },
   "outputs": [
    {
     "data": {
      "image/png": "[encoded data removed]",
      "text/plain": [
       "<Figure size 1536x864 with 7 Axes>"
      ]
     },
     "metadata": {
      "needs_background": "light"
     },
     "output_type": "display_data"
    }
   ],
   "source": [
    "# %% 特征可视化\n",
    "for i in range(1, 8):\n",
    "    axes = plt.subplot(4, 2, i)\n",
    "    axes.locator_params(nbins=3)\n",
    "    plt.title(dataset.columns[i])\n",
    "    axes.scatter(dataset.iloc[:, i], dataset.loc[:, 'Wine'])\n",
    "plt.tight_layout(pad=0.4, w_pad=0.5, h_pad=1.0)"
   ]
  },
  {
   "cell_type": "code",
   "execution_count": 6,
   "id": "3a07be6f",
   "metadata": {
    "ExecuteTime": {
     "end_time": "2021-11-23T07:54:54.506205Z",
     "start_time": "2021-11-23T07:54:54.486205Z"
    }
   },
   "outputs": [],
   "source": [
    "# %% 数据预处理\n",
    "X = dataset.iloc[:, 1:13].values\n",
    "Y = dataset.loc[:, 'Wine'].values - 1\n",
    "X, Y = shuffle(X, Y)\n",
    "scaler = preprocessing.StandardScaler()\n",
    "X = scaler.fit_transform(X)"
   ]
  },
  {
   "cell_type": "code",
   "execution_count": 7,
   "id": "7ffebce8",
   "metadata": {
    "ExecuteTime": {
     "end_time": "2021-11-23T07:58:17.836117Z",
     "start_time": "2021-11-23T07:58:17.821088Z"
    }
   },
   "outputs": [],
   "source": [
    "# %% 设计模型\n",
    "class Linear(tf.keras.Model):\n",
    "    def __init__(self):\n",
    "        super().__init__()\n",
    "        self.dense = tf.keras.layers.Dense(\n",
    "            units=3,\n",
    "            activation='softmax',\n",
    "            kernel_initializer=tf.zeros_initializer(),\n",
    "            bias_initializer=tf.zeros_initializer())\n",
    "\n",
    "    def call(self, inputs):\n",
    "        output = self.dense(inputs)\n",
    "        return output"
   ]
  },
  {
   "cell_type": "code",
   "execution_count": 8,
   "id": "46c1276c",
   "metadata": {
    "ExecuteTime": {
     "end_time": "2021-11-23T08:00:17.664699Z",
     "start_time": "2021-11-23T08:00:17.637712Z"
    }
   },
   "outputs": [],
   "source": [
    "# %% 构建模型\n",
    "tf.keras.backend.set_floatx('float64')\n",
    "model = Linear()\n",
    "optimizer = tf.keras.optimizers.SGD(learning_rate=0.01)\n",
    "sparse_categorical_accuracy = tf.keras.metrics.SparseCategoricalAccuracy()"
   ]
  },
  {
   "cell_type": "code",
   "execution_count": 10,
   "id": "20417efe",
   "metadata": {
    "ExecuteTime": {
     "end_time": "2021-11-23T08:12:28.315318Z",
     "start_time": "2021-11-23T08:12:22.659410Z"
    },
    "scrolled": true
   },
   "outputs": [
    {
     "name": "stdout",
     "output_type": "stream",
     "text": [
      "Test Accuracy: 0.8947368421052632\n",
      "Test Accuracy: 0.9210526315789473\n",
      "Test Accuracy: 0.9210526315789473\n",
      "Test Accuracy: 0.9078947368421053\n",
      "Test Accuracy: 0.9052631578947369\n",
      "Test Accuracy: 0.9035087719298246\n",
      "Test Accuracy: 0.8984962406015038\n",
      "Test Accuracy: 0.9013157894736842\n",
      "Test Accuracy: 0.9064327485380117\n",
      "Test Accuracy: 0.9105263157894737\n",
      "Test Accuracy: 0.9114832535885168\n",
      "Test Accuracy: 0.9078947368421053\n",
      "Test Accuracy: 0.9068825910931174\n",
      "Test Accuracy: 0.9060150375939849\n",
      "Test Accuracy: 0.9035087719298246\n",
      "Test Accuracy: 0.899671052631579\n",
      "Test Accuracy: 0.9024767801857585\n",
      "Test Accuracy: 0.9049707602339181\n",
      "Test Accuracy: 0.907202216066482\n",
      "Test Accuracy: 0.9105263157894737\n",
      "Test Accuracy: 0.9110275689223057\n",
      "Test Accuracy: 0.9126794258373205\n",
      "Test Accuracy: 0.9107551487414187\n",
      "Test Accuracy: 0.9100877192982456\n",
      "Test Accuracy: 0.9126315789473685\n",
      "Test Accuracy: 0.9129554655870445\n",
      "Test Accuracy: 0.9132553606237817\n",
      "Test Accuracy: 0.9144736842105263\n",
      "Test Accuracy: 0.9156079854809437\n",
      "Test Accuracy: 0.9157894736842105\n",
      "Test Accuracy: 0.9168081494057725\n",
      "Test Accuracy: 0.9169407894736842\n",
      "Test Accuracy: 0.9178628389154705\n",
      "Test Accuracy: 0.9179566563467493\n",
      "Test Accuracy: 0.9165413533834587\n",
      "Test Accuracy: 0.9159356725146199\n",
      "Test Accuracy: 0.914651493598862\n",
      "Test Accuracy: 0.9148199445983379\n",
      "Test Accuracy: 0.9163292847503374\n",
      "Test Accuracy: 0.9184210526315789\n",
      "Test Accuracy: 0.9191270860077022\n",
      "Test Accuracy: 0.9197994987468672\n",
      "Test Accuracy: 0.9186046511627907\n",
      "Test Accuracy: 0.9180622009569378\n",
      "Test Accuracy: 0.9181286549707602\n",
      "Test Accuracy: 0.9181922196796338\n",
      "Test Accuracy: 0.9182530795072789\n",
      "Test Accuracy: 0.9194078947368421\n",
      "Test Accuracy: 0.9189044038668098\n",
      "Test Accuracy: 0.92\n",
      "Test Accuracy: 0.9210526315789473\n",
      "Test Accuracy: 0.9210526315789473\n",
      "Test Accuracy: 0.920059582919563\n",
      "Test Accuracy: 0.9195906432748538\n",
      "Test Accuracy: 0.9191387559808613\n",
      "Test Accuracy: 0.918703007518797\n",
      "Test Accuracy: 0.9196675900277008\n",
      "Test Accuracy: 0.9205989110707804\n",
      "Test Accuracy: 0.9214986619090099\n",
      "Test Accuracy: 0.9223684210526316\n",
      "Test Accuracy: 0.9214840379637619\n",
      "Test Accuracy: 0.9223259762308998\n",
      "Test Accuracy: 0.9206349206349206\n",
      "Test Accuracy: 0.9198190789473685\n",
      "Test Accuracy: 0.9198380566801619\n",
      "Test Accuracy: 0.9202551834130781\n",
      "Test Accuracy: 0.9194815396700707\n",
      "Test Accuracy: 0.919891640866873\n",
      "Test Accuracy: 0.919908466819222\n",
      "Test Accuracy: 0.9199248120300751\n",
      "Test Accuracy: 0.9195700518902891\n",
      "Test Accuracy: 0.9192251461988304\n",
      "Test Accuracy: 0.9199711607786589\n",
      "Test Accuracy: 0.9192745376955903\n",
      "Test Accuracy: 0.9189473684210526\n",
      "Test Accuracy: 0.9186288088642659\n",
      "Test Accuracy: 0.9186602870813397\n",
      "Test Accuracy: 0.9190283400809717\n",
      "Test Accuracy: 0.9197201865423051\n",
      "Test Accuracy: 0.9207236842105263\n",
      "Test Accuracy: 0.9204028589993503\n",
      "Test Accuracy: 0.9200898587933247\n",
      "Test Accuracy: 0.9201014584654407\n",
      "Test Accuracy: 0.9191729323308271\n",
      "Test Accuracy: 0.9195046439628483\n",
      "Test Accuracy: 0.9192166462668299\n",
      "Test Accuracy: 0.9195402298850575\n",
      "Test Accuracy: 0.9195574162679426\n",
      "Test Accuracy: 0.9195742164399764\n",
      "Test Accuracy: 0.9195906432748538\n",
      "Test Accuracy: 0.9198958935801042\n",
      "Test Accuracy: 0.9193363844393593\n",
      "Test Accuracy: 0.9196378041878891\n",
      "Test Accuracy: 0.9193729003359462\n",
      "Test Accuracy: 0.9191135734072022\n",
      "Test Accuracy: 0.9185855263157895\n",
      "Test Accuracy: 0.9183396635919696\n",
      "Test Accuracy: 0.9180988184747583\n",
      "Test Accuracy: 0.9189261031366295\n",
      "Test Accuracy: 0.9194736842105263\n"
     ]
    }
   ],
   "source": [
    "# %% 训练模型\n",
    "for i in range(100):\n",
    "    X, Y = shuffle(X, Y, random_state=1)\n",
    "    X_train, Y_train, X_test, Y_test = X[:140, :], Y[:140], X[140:178, :], Y[140:178]\n",
    "    X_train, Y_train = shuffle(X_train, Y_train, random_state=0)\n",
    "    with tf.GradientTape() as tape:\n",
    "        y_pred = model(X_train)\n",
    "        loss = tf.keras.losses.sparse_categorical_crossentropy(y_true=Y_train, y_pred=y_pred)\n",
    "        loss = tf.reduce_mean(loss)\n",
    "    grads = tape.gradient(loss, model.variables)\n",
    "    optimizer.apply_gradients(grads_and_vars=zip(grads, model.variables))\n",
    "    y_pred_test = model.predict(X_test)\n",
    "    sparse_categorical_accuracy.update_state(y_true=Y_test, y_pred=y_pred_test)\n",
    "    print(f'Test Accuracy: {sparse_categorical_accuracy.result()}')"
   ]
  }
 ],
 "metadata": {
  "kernelspec": {
   "display_name": "Python 3 (ipykernel)",
   "language": "python",
   "name": "python3"
  },
  "language_info": {
   "codemirror_mode": {
    "name": "ipython",
    "version": 3
   },
   "file_extension": ".py",
   "mimetype": "text/x-python",
   "name": "python",
   "nbconvert_exporter": "python",
   "pygments_lexer": "ipython3",
   "version": "3.7.11"
  },
  "latex_envs": {
   "LaTeX_envs_menu_present": true,
   "autoclose": false,
   "autocomplete": true,
   "bibliofile": "biblio.bib",
   "cite_by": "apalike",
   "current_citInitial": 1,
   "eqLabelWithNumbers": true,
   "eqNumInitial": 1,
   "hotkeys": {
    "equation": "Ctrl-E",
    "itemize": "Ctrl-I"
   },
   "labels_anchors": false,
   "latex_user_defs": false,
   "report_style_numbering": false,
   "user_envs_cfg": false
  }
 },
 "nbformat": 4,
 "nbformat_minor": 5
}
